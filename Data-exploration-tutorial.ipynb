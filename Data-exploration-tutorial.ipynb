{
 "cells": [
  {
   "cell_type": "code",
   "execution_count": 3,
   "metadata": {},
   "outputs": [],
   "source": [
    "%matplotlib widget"
   ]
  },
  {
   "cell_type": "code",
   "execution_count": 4,
   "metadata": {
    "tags": []
   },
   "outputs": [],
   "source": [
    "import os\n",
    "from pathlib import Path\n",
    "\n",
    "import numpy as np\n",
    "from ipywidgets import widgets\n",
    "import matplotlib.pyplot as plt\n",
    "\n",
    "import nibabel as nib"
   ]
  },
  {
   "cell_type": "markdown",
   "metadata": {},
   "source": [
    "## Outline\n",
    "\n",
    "1. Loading data with [nibabel](https://nipy.org/nibabel/gettingstarted.html)\n",
    "2. Visualizing image data with [matplotlib](https://matplotlib.org/)\n",
    "3. Visualizing mesh with [pyvista](https://docs.pyvista.org/)\n",
    "4. Dataloader with [pytorch](https://pytorch.org/)\n",
    "5. Simple CNN with [pytorch](https://pytorch.org/)"
   ]
  },
  {
   "cell_type": "markdown",
   "metadata": {},
   "source": [
    "## Load data"
   ]
  },
  {
   "cell_type": "code",
   "execution_count": 5,
   "metadata": {},
   "outputs": [],
   "source": [
    "data_path = Path('data/training')"
   ]
  },
  {
   "cell_type": "code",
   "execution_count": 6,
   "metadata": {},
   "outputs": [],
   "source": [
    "files = list(data_path.glob('*.*'))\n",
    "files_orig = list(filter(lambda file: 'orig.nii.gz' in str(file), files))\n",
    "files_masks = list(filter(lambda file: 'masks.nii.gz' in str(file), files))\n",
    "files_labeled = list(filter(lambda file: 'labeledMasks.nii.gz' in str(file), files))"
   ]
  },
  {
   "cell_type": "markdown",
   "metadata": {},
   "source": [
    "### Nibabel"
   ]
  },
  {
   "cell_type": "code",
   "execution_count": 7,
   "metadata": {},
   "outputs": [],
   "source": [
    "# load NIFTI image\n",
    "image = nib.load(data_path / 'A003_orig.nii.gz')"
   ]
  },
  {
   "cell_type": "code",
   "execution_count": 8,
   "metadata": {},
   "outputs": [
    {
     "data": {
      "text/plain": [
       "array([[ -0.27158001,   0.        ,   0.        ,  25.99900818],\n",
       "       [  0.        ,  -0.27158001,   0.        ,  37.3360405 ],\n",
       "       [  0.        ,   0.        ,   0.2691111 , -55.11883545],\n",
       "       [  0.        ,   0.        ,   0.        ,   1.        ]])"
      ]
     },
     "execution_count": 8,
     "metadata": {},
     "output_type": "execute_result"
    }
   ],
   "source": [
    "# voxel to world matrix\n",
    "affine = image.affine\n",
    "\n",
    "# TODO: calculate inverse affine matrix\n",
    "# inverse_affine = calculate_inverse_affine(affine)\n",
    "\n",
    "#\n",
    "affine"
   ]
  },
  {
   "cell_type": "code",
   "execution_count": 9,
   "metadata": {},
   "outputs": [
    {
     "data": {
      "text/plain": [
       "('mm', 'unknown')"
      ]
     },
     "execution_count": 9,
     "metadata": {},
     "output_type": "execute_result"
    }
   ],
   "source": [
    "# NIFTI header\n",
    "header = image.header\n",
    "header.get_xyzt_units()"
   ]
  },
  {
   "cell_type": "code",
   "execution_count": 10,
   "metadata": {},
   "outputs": [],
   "source": [
    "# nibabel NIFIT image to numpy\n",
    "image_np = image.get_fdata()"
   ]
  },
  {
   "cell_type": "markdown",
   "metadata": {},
   "source": [
    "### Visualization"
   ]
  },
  {
   "cell_type": "code",
   "execution_count": 15,
   "metadata": {},
   "outputs": [],
   "source": [
    "def mask_overlay(image, mask, color=(0., 1., 0.), weight=.5):\n",
    "    \"\"\"\n",
    "    Helper function to visualize mask on the top of the aneurysm\n",
    "    \"\"\"\n",
    "    mask = np.dstack((mask, mask, mask)) * np.array(color)\n",
    "    mask = mask.astype(np.uint8)\n",
    "    weighted_sum = image * weight + mask * (1 - weight) # cv2.addWeighted(image, 1 - weight, mask, weight, 0.,  dtype=cv2.CV_32F)\n",
    "    img = image.copy()\n",
    "    ind = mask[:, :, 1] > 0    \n",
    "    img[ind] = weighted_sum[ind]    \n",
    "    return img\n",
    "\n",
    "\n",
    "class ImageSlicer(object):\n",
    "    \n",
    "    def __init__(self, ax, data_path, case):\n",
    "        self.ax = ax\n",
    "        \n",
    "        # load NIFTI image & mask\n",
    "        self.image_nib = nib.load(data_path / '{}_orig.nii.gz'.format(case))\n",
    "        self.mask_nib = nib.load(data_path / '{}_masks.nii.gz'.format(case))\n",
    "        self.labeled_mask_nib = nib.load(data_path / '{}_labeledMasks.nii.gz'.format(case))\n",
    "        \n",
    "        # convert to numpy array\n",
    "        self.image_np = self.image_nib.get_fdata()\n",
    "        self.mask_np = self.mask_nib.get_fdata()\n",
    "        self.labeled_mask_np = self.labeled_mask_nib.get_fdata()\n",
    "\n",
    "        # get number of slices\n",
    "        _, _, self.slices = self.image_np.shape\n",
    "        self.ind = self.slices // 2\n",
    "\n",
    "        # plot image with mask overlay\n",
    "        self.image_plt = self.ax.imshow(self.overlay)\n",
    "        self._draw()\n",
    "        \n",
    "    @property\n",
    "    def overlay(self):\n",
    "        \n",
    "        # get image and mask slice\n",
    "        image = self.labeled_mask_np[:, :, self.ind]\n",
    "        image = image / np.max(image)\n",
    "        # image = np.dstack((image, image, image))\n",
    "        # print(image.shape)\n",
    "        # mask = self.mask_np[:, :, self.ind]\n",
    "\n",
    "        # create masked overlay\n",
    "        return mask_overlay(image, mask)\n",
    "\n",
    "    def onscroll(self, event):\n",
    "        \n",
    "        # get new slice number\n",
    "        self.ind = event['new']\n",
    "        self.update()\n",
    "    \n",
    "    def onthresh(self, event):\n",
    "        self.thresh = event['new']\n",
    "        self.update()\n",
    "\n",
    "    def update(self):\n",
    "        \n",
    "        # draw overlay\n",
    "        self.image_plt.set_data(self.overlay)\n",
    "        self._draw()\n",
    "        \n",
    "    def _draw(self):\n",
    "        try:\n",
    "            self.image_plt.axes.figure.canvas.draw()\n",
    "        except:\n",
    "            pass\n",
    "\n",
    "\n",
    "def plot3d(data_path, case):\n",
    "    \n",
    "    #\n",
    "    figure, ax = plt.subplots(1, 1)\n",
    "    ax.set_title(case)\n",
    "    tracker = ImageSlicer(ax, data_path, case)\n",
    "    \n",
    "    #\n",
    "    int_slider = widgets.IntSlider(\n",
    "        value=tracker.ind, \n",
    "        min=0, \n",
    "        max=tracker.slices, \n",
    "        step=1,\n",
    "        description='Slice',\n",
    "        continuous_update=True\n",
    "    )\n",
    "    int_slider.observe(tracker.onscroll, 'value')\n",
    "\n",
    "    thresh_slider = widgets.FloatSlider(\n",
    "        value=tracker.ind, \n",
    "        min=0, \n",
    "        max=1, \n",
    "        step=0.05,\n",
    "        description='Thresh',\n",
    "        continuous_update=True\n",
    "    )\n",
    "    thresh_slider.observe(tracker.onscroll, 'value')\n",
    "    \n",
    "    return figure, int_slider"
   ]
  },
  {
   "cell_type": "code",
   "execution_count": 16,
   "metadata": {},
   "outputs": [
    {
     "data": {
      "application/vnd.jupyter.widget-view+json": {
       "model_id": "db09e67dd44e4b518c64d9c94a786d6c",
       "version_major": 2,
       "version_minor": 0
      },
      "image/png": "[encoded data removed]",
      "text/html": [
       "\n",
       "            <div style=\"display: inline-block;\">\n",
       "                <div class=\"jupyter-widgets widget-label\" style=\"text-align: center;\">\n",
       "                    Figure 2\n",
       "                </div>\n",
       "                <img src='data:image/png;base64,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' width=640.0/>\n",
       "            </div>\n",
       "        "
      ],
      "text/plain": [
       "Canvas(toolbar=Toolbar(toolitems=[('Home', 'Reset original view', 'home', 'home'), ('Back', 'Back to previous …"
      ]
     },
     "metadata": {},
     "output_type": "display_data"
    },
    {
     "name": "stdout",
     "output_type": "stream",
     "text": [
      "[[[0.03983829 0.03604818 0.03571128 ... 0.05036638 0.04666049 0.04421797]\n",
      "  [0.04253348 0.04160701 0.04009096 ... 0.05280889 0.05171397 0.04960836]\n",
      "  [0.04270193 0.04337573 0.03924872 ... 0.04522867 0.05070328 0.05466184]\n",
      "  ...\n",
      "  [0.05306157 0.04379685 0.04421797 ... 0.0521351  0.05541986 0.05289312]\n",
      "  [0.05255622 0.04960836 0.04783964 ... 0.05061905 0.05339847 0.05373537]\n",
      "  [0.052472   0.05853617 0.05600943 ... 0.05129285 0.04960836 0.04800809]]\n",
      "\n",
      " [[0.04042786 0.03427946 0.03899604 ... 0.05449339 0.04876611 0.03891182]\n",
      "  [0.04531289 0.03966984 0.04135433 ... 0.05238777 0.04607092 0.03891182]\n",
      "  [0.04767119 0.04699739 0.04447065 ... 0.04632359 0.04270193 0.04185968]\n",
      "  ...\n",
      "  [0.04809231 0.04059631 0.03950139 ... 0.05668323 0.05870462 0.05348269]\n",
      "  [0.05129285 0.04598669 0.04228081 ... 0.05255622 0.05516719 0.05087173]\n",
      "  [0.04868188 0.0504506  0.04826076 ... 0.05381959 0.05381959 0.04783964]]\n",
      "\n",
      " [[0.04522867 0.04177546 0.04910301 ... 0.06047334 0.05853617 0.04345995]\n",
      "  [0.05297734 0.04404952 0.04775541 ... 0.0572728  0.05348269 0.04152278]\n",
      "  [0.05550408 0.05162975 0.05230355 ... 0.05289312 0.04674471 0.04110166]\n",
      "  ...\n",
      "  [0.04337573 0.03293186 0.03150004 ... 0.05592521 0.05087173 0.04421797]\n",
      "  [0.04918723 0.0371431  0.03158427 ... 0.05314579 0.05280889 0.04800809]\n",
      "  [0.04573402 0.03697465 0.03166849 ... 0.05289312 0.05491451 0.04893456]]\n",
      "\n",
      " ...\n",
      "\n",
      " [[0.02728881 0.03731155 0.04733429 ... 0.05466184 0.04800809 0.04009096]\n",
      "  [0.02947865 0.03394256 0.04691316 ... 0.04666049 0.04817653 0.04598669]\n",
      "  [0.02922597 0.02804683 0.04202813 ... 0.04110166 0.04522867 0.04817653]\n",
      "  ...\n",
      "  [0.0517982  0.05499874 0.04918723 ... 0.04767119 0.04632359 0.04708161]\n",
      "  [0.05104018 0.05272467 0.04758696 ... 0.04716584 0.04943991 0.04649204]\n",
      "  [0.05339847 0.05264044 0.05508296 ... 0.04767119 0.05264044 0.04792386]]\n",
      "\n",
      " [[0.03756422 0.04219658 0.04615514 ... 0.05272467 0.05289312 0.04674471]\n",
      "  [0.03604818 0.03284764 0.03975406 ... 0.04581824 0.05087173 0.04943991]\n",
      "  [0.03520593 0.02762571 0.03444791 ... 0.04101743 0.04564979 0.0443022 ]\n",
      "  ...\n",
      "  [0.04817653 0.05255622 0.04194391 ... 0.04817653 0.04539712 0.05070328]\n",
      "  [0.04556557 0.04725006 0.0368062  ... 0.04994525 0.05735703 0.05634633]\n",
      "  [0.05019793 0.04986103 0.04531289 ... 0.05188242 0.05777815 0.05541986]]\n",
      "\n",
      " [[0.05819928 0.05331424 0.0439653  ... 0.05483029 0.05954687 0.05752548]\n",
      "  [0.05171397 0.04581824 0.04076476 ... 0.0517982  0.05323002 0.04994525]\n",
      "  [0.04901878 0.04388107 0.04051209 ... 0.04800809 0.04303883 0.03587973]\n",
      "  ...\n",
      "  [0.05264044 0.05491451 0.04303883 ... 0.0429546  0.04202813 0.04682894]\n",
      "  [0.04421797 0.04413375 0.0378169  ... 0.04615514 0.05634633 0.0589573 ]\n",
      "  [0.04253348 0.04202813 0.04051209 ... 0.0436284  0.05373537 0.05887307]]]\n"
     ]
    }
   ],
   "source": [
    "import matplotlib.pyplot as plt\n",
    "import numpy as np\n",
    "\n",
    "\n",
    "\n",
    "plt.show()\n",
    "\n",
    "case = 'A008'\n",
    "\n",
    "# load NIFTI image & mask\n",
    "image_nib = nib.load(data_path / '{}_orig.nii.gz'.format(case))\n",
    "mask_nib = nib.load(data_path / '{}_masks.nii.gz'.format(case))\n",
    "\n",
    "# convert to numpy array\n",
    "image_np = image_nib.get_fdata()\n",
    "mask_np = mask_nib.get_fdata()\n",
    "\n",
    "\n",
    "image_np /= image_np.max()\n",
    "type(image_np)\n",
    "\n",
    "image_np = image_np[50:100, 50:100, 50:100]\n",
    "print(image_np)\n",
    "\n",
    "voxelarray = (image_np > 0.01)\n"
   ]
  },
  {
   "cell_type": "code",
   "execution_count": 14,
   "metadata": {},
   "outputs": [
    {
     "data": {
      "application/vnd.jupyter.widget-view+json": {
       "model_id": "25ed5456a5f44dc089d4121f68d8c5a2",
       "version_major": 2,
       "version_minor": 0
      },
      "text/plain": [
       "IntSlider(value=110, description='Slice', max=220)"
      ]
     },
     "metadata": {},
     "output_type": "display_data"
    },
    {
     "data": {
      "application/vnd.jupyter.widget-view+json": {
       "model_id": "db09e67dd44e4b518c64d9c94a786d6c",
       "version_major": 2,
       "version_minor": 0
      },
      "image/png": "[encoded data removed]",
      "text/html": [
       "\n",
       "            <div style=\"display: inline-block;\">\n",
       "                <div class=\"jupyter-widgets widget-label\" style=\"text-align: center;\">\n",
       "                    Figure\n",
       "                </div>\n",
       "                <img src='data:image/png;base64,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' width=640.0/>\n",
       "            </div>\n",
       "        "
      ],
      "text/plain": [
       "Canvas(toolbar=Toolbar(toolitems=[('Home', 'Reset original view', 'home', 'home'), ('Back', 'Back to previous …"
      ]
     },
     "metadata": {},
     "output_type": "display_data"
    }
   ],
   "source": [
    "case = 'A006'\n",
    "figure, slider = plot3d(data_path, case)\n",
    "slider"
   ]
  },
  {
   "cell_type": "markdown",
   "metadata": {},
   "source": [
    "### Visualize mesh"
   ]
  },
  {
   "cell_type": "code",
   "execution_count": 17,
   "metadata": {},
   "outputs": [],
   "source": [
    "import pyvista as pv"
   ]
  },
  {
   "cell_type": "code",
   "execution_count": 18,
   "metadata": {},
   "outputs": [
    {
     "data": {
      "application/vnd.jupyter.widget-view+json": {
       "model_id": "bbfe94ed801b4efe8dffd54e1092364b",
       "version_major": 2,
       "version_minor": 0
      },
      "text/plain": [
       "Viewer(geometries=[{'vtkClass': 'vtkPolyData', 'points': {'vtkClass': 'vtkPoints', 'name': '_points', 'numberO…"
      ]
     },
     "metadata": {},
     "output_type": "display_data"
    },
    {
     "data": {
      "application/vnd.jupyter.widget-view+json": {
       "model_id": "bbfe94ed801b4efe8dffd54e1092364b",
       "version_major": 2,
       "version_minor": 0
      },
      "text/plain": [
       "Viewer(geometries=[{'vtkClass': 'vtkPolyData', 'points': {'vtkClass': 'vtkPoints', 'name': '_points', 'numberO…"
      ]
     },
     "metadata": {},
     "output_type": "display_data"
    }
   ],
   "source": [
    "# create a mesh and identify some scalars you wish to plot\n",
    "mesh = pv.read(data_path / '{}.stl'.format(case))\n",
    "z = mesh.points[:, 2]\n",
    "\n",
    "# Plot using the ITKplotter\n",
    "pl = pv.PlotterITK()\n",
    "pl.add_mesh(mesh, smooth_shading=True)\n",
    "pl.show(True)"
   ]
  },
  {
   "cell_type": "code",
   "execution_count": 19,
   "metadata": {},
   "outputs": [
    {
     "data": {
      "application/vnd.jupyter.widget-view+json": {
       "model_id": "9a8ac317a8d64203b16cc376f93cc977",
       "version_major": 2,
       "version_minor": 0
      },
      "text/plain": [
       "Viewer(geometries=[{'vtkClass': 'vtkPolyData', 'points': {'vtkClass': 'vtkPoints', 'name': '_points', 'numberO…"
      ]
     },
     "metadata": {},
     "output_type": "display_data"
    },
    {
     "data": {
      "application/vnd.jupyter.widget-view+json": {
       "model_id": "9a8ac317a8d64203b16cc376f93cc977",
       "version_major": 2,
       "version_minor": 0
      },
      "text/plain": [
       "Viewer(geometries=[{'vtkClass': 'vtkPolyData', 'points': {'vtkClass': 'vtkPoints', 'name': '_points', 'numberO…"
      ]
     },
     "metadata": {},
     "output_type": "display_data"
    }
   ],
   "source": [
    "# create a mesh and identify some scalars you wish to plot\n",
    "mesh = pv.read(data_path / '{}_vessel.stl'.format(case))\n",
    "z = mesh.points[:, 2]\n",
    "\n",
    "# Plot using the ITKplotter\n",
    "pl = pv.PlotterITK()\n",
    "pl.add_mesh(mesh, smooth_shading=True)\n",
    "pl.show(True)"
   ]
  },
  {
   "cell_type": "markdown",
   "metadata": {},
   "source": [
    "### Dataset + dataloader"
   ]
  },
  {
   "cell_type": "code",
   "execution_count": 14,
   "metadata": {},
   "outputs": [],
   "source": [
    "import torch\n",
    "from torch.utils.data import Dataset, DataLoader"
   ]
  },
  {
   "cell_type": "code",
   "execution_count": 15,
   "metadata": {},
   "outputs": [],
   "source": [
    "class AeurysmDataset(Dataset):\n",
    "    \"\"\"Aneurysm dataset.\"\"\"\n",
    "\n",
    "    def __init__(self, data_path, cases, transform=None, image_size=(256, 256, 220)):\n",
    "        \n",
    "        self.data_path = data_path\n",
    "        self.cases = cases\n",
    "        self.transform = transform\n",
    "        self.image_size = image_size\n",
    "\n",
    "    def __len__(self):\n",
    "        return len(self.cases)\n",
    "    \n",
    "    def __load_image(self, case):\n",
    "        # load NIFTI image\n",
    "        image_nib = nib.load(self.data_path / '{}_orig.nii.gz'.format(case))\n",
    "        return image_nib.get_fdata()\n",
    "        \n",
    "    def __load_mask(self, case):\n",
    "        # load NIFTI mask\n",
    "        mask_nib = nib.load(self.data_path / '{}_masks.nii.gz'.format(case))\n",
    "        return mask_nib.get_fdata()\n",
    "\n",
    "    def __getitem__(self, idx):\n",
    "        \n",
    "        # load image and ground-truth\n",
    "        case = self.cases[idx]\n",
    "        image = self.__load_image(case)[:self.image_size[0], :self.image_size[1], :self.image_size[2]]\n",
    "        mask = self.__load_mask(case)[:self.image_size[0], :self.image_size[1], :self.image_size[2]]\n",
    "        \n",
    "        # data augmentation\n",
    "        sample = {'image': image, 'mask': mask}\n",
    "        if self.transform:\n",
    "            sample = self.transform(sample)\n",
    "        \n",
    "        return sample['image'], sample['mask']"
   ]
  },
  {
   "cell_type": "code",
   "execution_count": 16,
   "metadata": {},
   "outputs": [],
   "source": [
    "# get case names\n",
    "cases = list(map(lambda file: '_'.join(file.parts[-1].split('_')[:-1]), data_path.glob('*_orig.nii.gz')))\n",
    "\n",
    "# create dataset + dataloader\n",
    "aneurysm_dataset = AeurysmDataset(data_path, cases[:10])\n",
    "dataloader = DataLoader(\n",
    "    aneurysm_dataset, \n",
    "    batch_size=2,\n",
    "    shuffle=True, \n",
    "    num_workers=0\n",
    ")"
   ]
  },
  {
   "cell_type": "markdown",
   "metadata": {},
   "source": [
    "### Model"
   ]
  },
  {
   "cell_type": "code",
   "execution_count": 17,
   "metadata": {},
   "outputs": [],
   "source": [
    "from torch import nn\n",
    "from torch.optim import Adam\n",
    "from torch.nn import CrossEntropyLoss, BCELoss\n",
    "\n",
    "#\n",
    "from tqdm.notebook import tqdm, trange"
   ]
  },
  {
   "cell_type": "code",
   "execution_count": 18,
   "metadata": {},
   "outputs": [],
   "source": [
    "class SimpleCNN(nn.Module):\n",
    "    def __init__(self, in_channels=1, out_channels=1):\n",
    "        super().__init__()\n",
    "\n",
    "        self.conv1 = nn.Sequential(\n",
    "            torch.nn.Conv2d(in_channels, out_channels, kernel_size=3, padding=1),\n",
    "            torch.nn.Sigmoid(),\n",
    "        )\n",
    "\n",
    "    def __call__(self, x):\n",
    "        return self.conv1(x)"
   ]
  },
  {
   "cell_type": "code",
   "execution_count": 19,
   "metadata": {},
   "outputs": [],
   "source": [
    "# create a simple cnn instance\n",
    "model = SimpleCNN().cuda()\n",
    "\n",
    "# create Adam optimizer with standard parameters\n",
    "optimizer = Adam(params=model.parameters())\n",
    "\n",
    "# binary cross entropy loss\n",
    "loss_fx = BCELoss()"
   ]
  },
  {
   "cell_type": "code",
   "execution_count": 20,
   "metadata": {},
   "outputs": [
    {
     "data": {
      "application/vnd.jupyter.widget-view+json": {
       "model_id": "9da51f9c339f4eafb7e37f95a4b34a6f",
       "version_major": 2,
       "version_minor": 0
      },
      "text/plain": [
       "  0%|          | 0/10 [00:00<?, ?it/s]"
      ]
     },
     "metadata": {},
     "output_type": "display_data"
    }
   ],
   "source": [
    "epochs = 10\n",
    "losses = []\n",
    "for epoch in trange(epochs):\n",
    "    \n",
    "    # iterate dataloader\n",
    "    epoch_loss = []\n",
    "    for image, mask in dataloader:\n",
    "    \n",
    "        #\n",
    "        _, h, w, _ = image.shape\n",
    "        image_slices = image.permute(0, 3, 1, 2).reshape(-1, h, w).float().cuda()\n",
    "        image_slices = torch.unsqueeze(image_slices, axis=1)\n",
    "        mask_slices = mask.permute(0, 3, 1, 2).reshape(-1, h, w).float().cuda()\n",
    "        \n",
    "        # reset gradient\n",
    "        optimizer.zero_grad()\n",
    "        \n",
    "        # pass input through model\n",
    "        output = model(image_slices)\n",
    "        output = torch.squeeze(output)\n",
    "        \n",
    "        # calculate loss\n",
    "        loss = loss_fx(output, mask_slices)\n",
    "        epoch_loss.append(loss.detach().item())\n",
    "        \n",
    "        # back-propagation\n",
    "        loss.backward()\n",
    "        optimizer.step()\n",
    "        \n",
    "    #\n",
    "    losses.append(np.mean(epoch_loss))"
   ]
  },
  {
   "cell_type": "code",
   "execution_count": 21,
   "metadata": {},
   "outputs": [
    {
     "data": {
      "text/plain": [
       "[<matplotlib.lines.Line2D at 0x7fcb7c081208>]"
      ]
     },
     "execution_count": 21,
     "metadata": {},
     "output_type": "execute_result"
    },
    {
     "data": {
      "application/vnd.jupyter.widget-view+json": {
       "model_id": "a7cf959feed84346b740ef1916648e2d",
       "version_major": 2,
       "version_minor": 0
      },
      "image/png": "[encoded data removed]",
      "text/html": [
       "\n",
       "            <div style=\"display: inline-block;\">\n",
       "                <div class=\"jupyter-widgets widget-label\" style=\"text-align: center;\">\n",
       "                    Figure\n",
       "                </div>\n",
       "                <img src='data:image/png;base64,iVBORw0KGgoAAAANSUhEUgAAAoAAAAHgCAYAAAA10dzkAAAAOXRFWHRTb2Z0d2FyZQBNYXRwbG90bGliIHZlcnNpb24zLjMuMSwgaHR0cHM6Ly9tYXRwbG90bGliLm9yZy/d3fzzAAAACXBIWXMAAA9hAAAPYQGoP6dpAABW+UlEQVR4nO3de1xVdb7/8fdmw94gcke5KAial0LUUkG8ZE6UNU4O55dpnkbQapo6ZZZTg84MWXNzmpkmp+zo2OkyF0vx1JjHrNHIasobitdMxwuiqKCIbBDkInv9/kB27dgoirqB/Xo+HuthrvXda38WrFrvvmut79dkGIYhAAAAeAwvdxcAAACAa4sACAAA4GEIgAAAAB6GAAgAAOBhCIAAAAAehgAIAADgYQiAAAAAHoYACAAA4GEIgAAAAB6GAAgAAOBhCIAAAAAehgAIAADgYQiAAAAAHoYACAAA4GEIgAAAAB6GAAgAAOBhCIAAAAAehgAIAADgYQiAAAAAHoYACAAA4GEIgAAAAB6GAAgAAOBhCIAAAAAehgAIAADgYQiAAAAAHoYACAAA4GEIgAAAAB6GAAgAAOBhCIAAAAAehgAIAADgYQiAAAAAHoYACAAA4GEIgAAAAB6GAAgAAOBhCIAAAAAehgAIAADgYQiAAAAAHoYACAAA4GEIgAAAAB6GAAgAAOBhCIAAAAAehgAIAADgYQiAAAAAHoYACAAA4GEIgAAAAB6GAAgAAOBhCIAAAAAehgAIAADgYQiAAAAAHoYACAAA4GEIgAAAAB6GAAgAAOBhCIAAAAAehgAIAADgYQiAAAAAHoYACAAA4GG83V1Ae2a323Xs2DEFBATIZDK5uxwAANAChmGooqJC0dHR8vLyzL4wAmArHDt2TDExMe4uAwAAXIYjR46oe/fu7i7DLQiArRAQECCp4QQKDAx0czUAAKAlysvLFRMT47iOeyICYCs03vYNDAwkAAIA0M548uNbnnnjGwAAwIMRAAEAADwMARAAAMDDEAABAAA8DAEQAADAwxAAAQAAPAwBEAAAwMMQAAEAADwMARAAAMDDEAABAAA8DAEQAADAwxAAAQAAPAwBsA1as7tY/7V4i/5v+zF3lwIAADogAmAbtKOwTKt2FmnN7mJ3lwIAADogAmAbNPK6cEnSF/tLZLcbbq4GAAB0NATANujG2BB1sph1qrJWe4sr3F0OAADoYAiAbZDF20vJ8aGSpM/3lbi5GgAA0NEQANuoEedvA3++nwAIAACuLAJgGzWyd0MA3Jh/SjXn6t1cDQAA6EgIgG1U34gAhXe2qrrOrryCMneXAwAAOhACYBtlMpk08rowSQ1vAwMAAFwpBMA2rPE5wH8RAAEAwBVEAGzDGp8D3FlYJltVnZurAQAAHQUBsA2LCvJTry7+shvS+oOn3F0OAADoIAiAbdyo3l0kSZ/vP+nmSgAAQEdBAGzjRjimhaMHEAAAXBkEwDYuuWeozF4m5ZdUqvB0lbvLAQAAHQABsI0L9PXRoJhgSQwHAwAArgwCYDvw9bRw3AYGAACtd9EA+MorryguLk6+vr5KTk7Wpk2bLth+2bJl6tevn3x9fZWYmKhVq1Y5ttXV1SkzM1OJiYny9/dXdHS00tPTdezYMad9jB8/XrGxsfL19VVUVJSmTJni1OaTTz7R97//fUVFRcnf31+DBg3S4sWLL6kWSTIMQ88884yioqLk5+en1NRU7du372I/kmtupOM5wBLZ7YabqwEAAO3dBQPg0qVLNXPmTM2ZM0d5eXkaOHCgxo4dqxMnTrhsv27dOk2ePFkPPPCAtm7dqrS0NKWlpWnXrl2SpKqqKuXl5SkrK0t5eXl69913tXfvXo0fP95pP2PGjFF2drb27t2rd955RwcOHNCECROcvmfAgAF65513tGPHDk2bNk3p6elauXJli2uRpN/97nd66aWXtHDhQm3cuFH+/v4aO3asqqurL/0neRXdGBssf4tZpZW1+qqo3N3lAACAds5kGEazXUrJyckaOnSo5s+fL0my2+2KiYnR9OnTNWvWrCbtJ02apMrKSqcgNmzYMA0aNEgLFy50+R25ublKSkpSQUGBYmNjXbZZsWKF0tLSVFNTIx8fH5dtxo0bp4iICL3++ustqsUwDEVHR+vHP/6xnnrqKUmSzWZTRESE3nzzTd17773N/VgcysvLFRQUJJvNpsDAwIu2b43738zVx3tO6Kff7aeHbu51Vb8LAICO7Fpev9uqZnsAa2trtWXLFqWmpn7d2MtLqampWr9+vcvPrF+/3qm9JI0dO7bZ9lJD6DKZTAoODna5vbS0VIsXL9bw4cObDX+N+wkNDW1xLfn5+SoqKnJqExQUpOTk5GbrrampUXl5udNyrTTeBv7XPl4EAQAArdNsACwpKVF9fb0iIiKc1kdERKioqMjlZ4qKii6pfXV1tTIzMzV58uQmCTwzM1P+/v4KCwvT4cOH9d577zV7ENnZ2crNzdW0adNaXEvjn5dS79y5cxUUFORYYmJimq3pSmucFi73UKmq6+qv2fcCAICOx21vAdfV1WnixIkyDEMLFixosv3pp5/W1q1btXr1apnNZqWnp8vV3eq1a9dq2rRpevXVV5WQkHBVa549e7ZsNptjOXLkyFX9vm/q3bWzugZYVV1nV17B6Wv2vQAAoONpNgCGh4fLbDaruLjYaX1xcbEiIyNdfiYyMrJF7RvDX0FBgdasWePy/nt4eLj69Omj2267TUuWLNGqVau0YcMGpzaffvqp7rrrLr344otKT0+/pFoa/7yU47NarQoMDHRarhWTyeS4Dfw54wECAIBWaDYAWiwWDR48WDk5OY51drtdOTk5SklJcfmZlJQUp/aStGbNGqf2jeFv3759+uijjxQWFnbRIu12u6SGZ/AaffLJJxo3bpyef/55PfTQQ5dcS3x8vCIjI53alJeXa+PGjc0en7uN+MZwMAAAAJfL+0IbZ86cqYyMDA0ZMkRJSUmaN2+eKisrHc/apaenq1u3bpo7d64kacaMGRo9erReeOEFjRs3TkuWLNHmzZu1aNEiSQ3hb8KECcrLy9PKlStVX1/veN4uNDRUFotFGzduVG5urkaOHKmQkBAdOHBAWVlZ6tWrlyOYrV27Vt/73vc0Y8YM3X333Y59WCwWx4sgF6vFZDLpiSee0K9+9Sv17t1b8fHxysrKUnR0tNLS0q7wj/nKaAyAO47aVFZVq+BOFjdXBAAA2iXjIl5++WUjNjbWsFgsRlJSkrFhwwbHttGjRxsZGRlO7bOzs40+ffoYFovFSEhIMN5//33Htvz8fEOSy2Xt2rWGYRjGjh07jDFjxhihoaGG1Wo14uLijIcfftgoLCx07CcjI8PlPkaPHt3iWgzDMOx2u5GVlWVEREQYVqvVuPXWW429e/de7EfiYLPZDEmGzWZr8WdaK/WFT4wemSuNVTuOXbPvBACgI3HH9butueA4gLgwd4wj9OyKL/XmukO6LzlWv/6PxGvynQAAdCSMA8hcwO3OqN68CAIAAFqHANjOJPcMk9nLpIJTVTpSWuXucgAAQDtEAGxnOlu9dWNMsCR6AQEAwOUhALZDI7kNDAAAWoEA2A41Dgi9bn+J7Hbe4QEAAJeGANgODYwJVmert05X1Wn38XJ3lwMAANoZAmA75GP20rCeDQNecxsYAABcKgJgO8W0cAAA4HIRANupxvEAN+WXqrqu3s3VAACA9oQA2E716tJZEYFW1Zyza0vBaXeXAwAA2hECYDtlMpkct4H/tY/bwAAAoOUIgO1Y421gngMEAACXggDYjo3o1RAAdx2z6XRlrZurAQAA7QUBsB3rGuirvhEBMgxp3YFT7i4HAAC0EwTAdq7xOUDGAwQAAC1FAGznRvYOk8RzgAAAoOUIgO1ccnyYvL1MOlxapcOnqtxdDgAAaAcIgO2cv9VbN8WGSOI2MAAAaBkCYAfw9XOAJ91cCQAAaA8IgB3AyPPjAa47cEr1dsPN1QAAgLaOANgBDOwepACrt8qq6rT7WLm7ywEAAG0cAbAD8DZ7aVivhreB/8VtYAAAcBEEwA5i5HVMCwcAAFqGANhBNL4IknvotKrr6t1cDQAAaMsIgB1Ery7+igryVe05u3IPlbq7HAAA0IYRADsIk8nEtHAAAKBFCIAdCM8BAgCAliAAdiCNPYBfHitXaWWtm6sBAABtFQGwA+kSYFW/yAAZhrTuAL2AAADANQJgB9N4G/jzfQRAAADgGgGwgxlxflq4f+0rkWEwLRwAAGiKANjBJMeHysds0tGyszpcWuXucgAAQBtEAOxgOlm8dVNsiKSGXkAAAIBvIwB2QAwHAwAALoQA2AE1Pge47sAp1dt5DhAAADgjAHZAA7oFKcDXW7azddp11ObucgAAQBtDAOyAvM1eSukZJolp4QAAQFMEwA5qVG/GAwQAAK4RADuoxmnhthSc1tnaejdXAwAA2hICYAcVH+6v6CBf1dbblXuo1N3lAACANuSCAfCVV15RXFycfH19lZycrE2bNl1wZ8uWLVO/fv3k6+urxMRErVq1yrGtrq5OmZmZSkxMlL+/v6Kjo5Wenq5jx4457WP8+PGKjY2Vr6+voqKiNGXKFKc21dXVmjp1qhITE+Xt7a20tLQmdUydOlUmk6nJkpCQ4Gjz7LPPNtner1+/Cx5fe2IymTSy8TYwzwECAIBvaDYALl26VDNnztScOXOUl5engQMHauzYsTpx4oTL9uvWrdPkyZP1wAMPaOvWrUpLS1NaWpp27dolSaqqqlJeXp6ysrKUl5end999V3v37tX48eOd9jNmzBhlZ2dr7969euedd3TgwAFNmDDBsb2+vl5+fn56/PHHlZqa6rKWP/3pTzp+/LhjOXLkiEJDQ3XPPfc4tUtISHBq9/nnn7fsp9ZOjGBeYAAA4ILJaGbC2OTkZA0dOlTz58+XJNntdsXExGj69OmaNWtWk/aTJk1SZWWlVq5c6Vg3bNgwDRo0SAsXLnT55bm5uUpKSlJBQYFiY2NdtlmxYoXS0tJUU1MjHx8fp21Tp05VWVmZli9ffsGDXL58uf7f//t/ys/PV48ePSQ19AAuX75c27Ztu+BnL6S8vFxBQUGy2WwKDAy87P1cLSVnajTkVx9Jkrb8PFVhna1urggAAPdr69fva8FlD2Btba22bNni1MPm5eWl1NRUrV+/3uWO1q9f36RHbuzYsc22lySbzSaTyaTg4GCX20tLS7V48WINHz68Sfi7FK+99ppSU1Md4a/Rvn37FB0drZ49e+q+++7T4cOHL7ifmpoalZeXOy1tWXhnq66Pajixvzhwys3VAACAtsJlACwpKVF9fb0iIiKc1kdERKioqMjljoqKii6pfXV1tTIzMzV58uQm6TszM1P+/v4KCwvT4cOH9d5777X4gL7t2LFj+uCDD/Tggw86rU9OTtabb76pDz/8UAsWLFB+fr5GjRqlioqKZvc1d+5cBQUFOZaYmJjLrutaGXldw3iAX3AbGAAAnOeWt4Dr6uo0ceJEGYahBQsWNNn+9NNPa+vWrVq9erXMZrPS09PVzJ3qi/rLX/6i4ODgJi+L3Hnnnbrnnns0YMAAjR07VqtWrVJZWZmys7Ob3dfs2bNls9kcy5EjRy6rpmtpZO8ukhpeBLncnyEAAOhYvF2tDA8Pl9lsVnFxsdP64uJiRUZGutxRZGRki9o3hr+CggJ9/PHHLu+9h4eHKzw8XH369NH111+vmJgYbdiwQSkpKZd0cIZh6PXXX9eUKVNksVgu2DY4OFh9+vTR/v37m21jtVpltbav5+iGxoXIYvbS0bKzOnSqSvHh/u4uCQAAuJnLHkCLxaLBgwcrJyfHsc5utysnJ6fZEJaSkuLUXpLWrFnj1L4x/O3bt08fffSRwsLCLlqg3W6X1PD83aX69NNPtX//fj3wwAMXbXvmzBkdOHBAUVFRl/w9bVkni7du6hEsieFgAABAA5c9gJI0c+ZMZWRkaMiQIUpKStK8efNUWVmpadOmSZLS09PVrVs3zZ07V5I0Y8YMjR49Wi+88ILGjRunJUuWaPPmzVq0aJGkhvA3YcIE5eXlaeXKlaqvr3c8HxgaGiqLxaKNGzcqNzdXI0eOVEhIiA4cOKCsrCz16tXLKUju3r1btbW1Ki0tVUVFheNN3kGDBjkdw2uvvabk5GT179+/yfE99dRTuuuuu9SjRw8dO3ZMc+bMkdls1uTJky//p9lGjerdRRsOlurzfSc1ZViPi38AAAB0bMYFvPzyy0ZsbKxhsViMpKQkY8OGDY5to0ePNjIyMpzaZ2dnG3369DEsFouRkJBgvP/++45t+fn5hiSXy9q1aw3DMIwdO3YYY8aMMUJDQw2r1WrExcUZDz/8sFFYWOj0PT169HC5n28qKysz/Pz8jEWLFrk8tkmTJhlRUVGGxWIxunXrZkyaNMnYv3//hX4cTdhsNkOSYbPZLulz19rWw6eNHpkrjf5zPjTO1dvdXQ4AAG7VXq7fV1Oz4wDi4trLOEL1dkM3/mK1yqvPafmjIzQoJtjdJQEA4Dbt5fp9NTEXsAcwe5k0vFfjrCAn3VwNAABwNwKghxjBvMAAAOA8AqCHGHV+XuAtBadVVXvOzdUAAAB3IgB6iB5hndQt2E919YY25Ze6uxwAAOBGBEAPYTKZNPJ8L+AX3AYGAMCjEQA9yMjzzwH+i3mBAQDwaARADzK8V8PMK3uKKnSy4tJnVgEAAB0DAdCDhHW26oaohvGO1h2gFxAAAE9FAPQwoxqHg+E2MAAAHosA6GFGfONFECaBAQDAMxEAPUxSfKgs3l46ZqvWwZJKd5cDAADcgADoYXx9zBrSI0QSw8EAAOCpCIAeqPE2MM8BAgDgmQiAHqjxRZD1B07pXL3dzdUAAIBrjQDogRKigxTk56OKmnPacdTm7nIAAMA1RgD0QGYvk2NQ6C+4DQwAgMchAHoox7RwvAgCAIDHIQB6qJHnXwTZevi0KmvOubkaAABwLREAPVSPMH/FhPqprt7QpvxSd5cDAACuIQKgB2vsBfyc28AAAHgUAqAH++a0cAAAwHMQAD3Y8F7hMpmkPUUVOlFR7e5yAADANUIA9GCh/hYlRAdKktbtP+XmagAAwLVCAPRwI3gOEAAAj0MA9HCjrusiqWFeYMMw3FwNAAC4FgiAHm5IXIgs3l4qKq/WgZOV7i4HAABcAwRAD+frY1ZSXKgk6fN9J91cDQAAuBYIgPjGc4C8CAIAgCcgAMIxIPSGg6d0rt7u5moAAMDVRgCEEqIDFdzJR2dqzml7YZm7ywEAAFcZARDy8jJpRK/zt4H3cRsYAICOjgAISUwLBwCAJyEAQpI0qndDAMw7fFpnas65uRoAAHA1EQAhSYoJ7aTY0E46Zze0KZ/bwAAAdGQEQDiMPN8L+K993AYGAKAjIwDCYSTPAQIA4BEIgHBI6Rkmk0n6d/EZnSivdnc5AADgKiEAwiHE36LEbkGSpM/pBQQAoMMiAMLJ19PCEQABAOioCIBw8s3nAA3DcHM1AADgarhgAHzllVcUFxcnX19fJScna9OmTRfc2bJly9SvXz/5+voqMTFRq1atcmyrq6tTZmamEhMT5e/vr+joaKWnp+vYsWNO+xg/frxiY2Pl6+urqKgoTZkyxalNdXW1pk6dqsTERHl7eystLa1JHZ988olMJlOTpaioqFXH5wkG9wiR1dtLxeU12n/ijLvLAQAAV0GzAXDp0qWaOXOm5syZo7y8PA0cOFBjx47ViRMnXLZft26dJk+erAceeEBbt25VWlqa0tLStGvXLklSVVWV8vLylJWVpby8PL377rvau3evxo8f77SfMWPGKDs7W3v37tU777yjAwcOaMKECY7t9fX18vPz0+OPP67U1NQLHtzevXt1/Phxx9K1a9fLPj5P4etjVlJ8qCRuAwMA0FGZjGbu8yUnJ2vo0KGaP3++JMlutysmJkbTp0/XrFmzmrSfNGmSKisrtXLlSse6YcOGadCgQVq4cKHLL8/NzVVSUpIKCgoUGxvrss2KFSuUlpammpoa+fj4OG2bOnWqysrKtHz5cqf1n3zyicaMGaPTp08rODjY5X4v9fhcKS8vV1BQkGw2mwIDA1v0mfbgz58e0NwP9ujWfl312tSh7i4HAIArqqNevy+Fyx7A2tpabdmyxamHzcvLS6mpqVq/fr3LHa1fv75Jj9zYsWObbS9JNptNJpOp2ZBWWlqqxYsXa/jw4U3CX0sMGjRIUVFRuu222/TFF1841l/O8UlSTU2NysvLnZaOqPFFkA0HT6mu3u7magAAwJXmMgCWlJSovr5eERERTusjIiKaPEfXqKio6JLaV1dXKzMzU5MnT26SvjMzM+Xv76+wsDAdPnxY7733XosPSJKioqK0cOFCvfPOO3rnnXcUExOjW265RXl5eZd9fJI0d+5cBQUFOZaYmJhLqqu9uCEqUKH+FlXW1mv7kTJ3lwMAAK4wt7wFXFdXp4kTJ8owDC1YsKDJ9qefflpbt27V6tWrZTablZ6efklvpPbt21c/+tGPNHjwYA0fPlyvv/66hg8frhdffLFVdc+ePVs2m82xHDlypFX7a6u8vEwa3itMEtPCAQDQEbkMgOHh4TKbzSouLnZaX1xcrMjISJc7ioyMbFH7xvBXUFCgNWvWuLz3Hh4erj59+ui2227TkiVLtGrVKm3YsOGSDuzbkpKStH//fsf+L/X4JMlqtSowMNBp6aiYFg4AgI7LZQC0WCwaPHiwcnJyHOvsdrtycnKUkpLickcpKSlO7SVpzZo1Tu0bw9++ffv00UcfKSws7KIF2u0Nz6DV1NRc/GguYNu2bYqKipJ0ecfnaRqfA9x6pEwV1XVurgYAAFxJ3s1tmDlzpjIyMjRkyBAlJSVp3rx5qqys1LRp0yRJ6enp6tatm+bOnStJmjFjhkaPHq0XXnhB48aN05IlS7R582YtWrRIUkP4mzBhgvLy8rRy5UrV19c7nrcLDQ2VxWLRxo0blZubq5EjRyokJEQHDhxQVlaWevXq5RTMdu/erdraWpWWlqqiokLbtm2T1PDShyTNmzdP8fHxSkhIUHV1tf7nf/5HH3/8sVavXt3i4/N0MaGdFBfWSYdOVWnjwVKl3hBx8Q8BAID2wbiAl19+2YiNjTUsFouRlJRkbNiwwbFt9OjRRkZGhlP77Oxso0+fPobFYjESEhKM999/37EtPz/fkORyWbt2rWEYhrFjxw5jzJgxRmhoqGG1Wo24uDjj4YcfNgoLC52+p0ePHi730+j55583evXqZfj6+hqhoaHGLbfcYnz88ceXdHwtYbPZDEmGzWa7pM+1Fz99d4fRI3OlMee9Xe4uBQCAK6ajX79botlxAHFxHX0coQ93HdfDf8/TdV0766OZo91dDgAAV0RHv363BHMBo1kpPcNlMkn7T5xRka3a3eUAAIArhACIZgV18tGAbkGSeBsYAICOhACICxrZu+FtYOYFBgCg4yAA4oIah4P5fH/JJQ3GDQAA2i4CIC5ocI8Q+fp46WRFjfadOOPucgAAwBVAAMQFWb3NSopnWjgAADoSAiAuauR1DQGQF0EAAOgYCIC4qJHXdZEkbTh4SrXn7G6uBgAAtBYBEBfVLzJAYf4WVdXWa9uRMneXAwAAWokAiIvy8jJp+HUMBwMAQEdBAESLjGoMgPtOurkSAADQWgRAtMiI8wNCby+0qby6zs3VAACA1iAAokW6BfspPtxf9XZDGw+WurscAADQCgRAtNhIbgMDANAhEADRYiN4EQQAgA6BAIgWS+kVJi+TdOBkpY7bzrq7HAAAcJkIgGixID8fDegeLEn6nGnhAABotwiAuCSNzwEyLRwAAO0XARCXZGTvxucAT8kwDDdXAwAALgcBEJfkxthg+fmYVXKmRnuLK9xdDgAAuAwEQFwSq7dZSfGhkngOEACA9ooAiEs2qjfDwQAA0J4RAHHJGscD3HiwVLXn7G6uBgAAXCoCIC5Zv8gAhXe26GxdvbYePu3ucgAAwCUiAOKSmUwmZgUBAKAdIwDishAAAQBovwiAuCyNA0JvP1Im29k6N1cDAAAuBQEQlyU62E89u/jLbkgbDp5ydzkAAOASEABx2ZgWDgCA9okAiMvWGAAZEBoAgPaFAIjLNqxXmMxeJh0sqdTRsrPuLgcAALQQARCXLdDXRwO7B0niNjAAAO0JARCtwm1gAADaHwIgWmXEN14EsdsNN1cDAABaggCIVrkxNkSdLGadqqzVnqIKd5cDAABagACIVrF4eyk5PlQSzwECANBeEADRakwLBwBA+0IARKuN6t1FkrQx/5RqztW7uRoAAHAxBEC0Wp+IzuoSYFV1nV15BWXuLgcAAFwEARCtZjKZmBYOAIB25IIB8JVXXlFcXJx8fX2VnJysTZs2XXBny5YtU79+/eTr66vExEStWrXKsa2urk6ZmZlKTEyUv7+/oqOjlZ6ermPHjjntY/z48YqNjZWvr6+ioqI0ZcoUpzbV1dWaOnWqEhMT5e3trbS0tCZ1vPvuu7rtttvUpUsXBQYGKiUlRf/85z+d2jz77LMymUxOS79+/S54fGhe43OA/yIAAgDQ5jUbAJcuXaqZM2dqzpw5ysvL08CBAzV27FidOHHCZft169Zp8uTJeuCBB7R161alpaUpLS1Nu3btkiRVVVUpLy9PWVlZysvL07vvvqu9e/dq/PjxTvsZM2aMsrOztXfvXr3zzjs6cOCAJkyY4NheX18vPz8/Pf7440pNTXVZy2effabbbrtNq1at0pYtWzRmzBjddddd2rp1q1O7hIQEHT9+3LF8/vnnLfupoYnGHsCdhWWyVdW5uRoAAHAhJsMwXI7em5ycrKFDh2r+/PmSJLvdrpiYGE2fPl2zZs1q0n7SpEmqrKzUypUrHeuGDRumQYMGaeHChS6/PDc3V0lJSSooKFBsbKzLNitWrFBaWppqamrk4+PjtG3q1KkqKyvT8uXLL3qgCQkJmjRpkp555hlJDT2Ay5cv17Zt2y762eaUl5crKChINptNgYGBl72fjiL1j59q/4kzWviDm3RH/yh3lwMAgEtcv5vpAaytrdWWLVuceti8vLyUmpqq9evXu9zR+vXrm/TIjR07ttn2kmSz2WQymRQcHOxye2lpqRYvXqzhw4c3CX+Xwm63q6KiQqGhoU7r9+3bp+joaPXs2VP33XefDh8+fNnfgW9MC8dtYAAA2jSXAbCkpET19fWKiIhwWh8REaGioiKXOyoqKrqk9tXV1crMzNTkyZObpO/MzEz5+/srLCxMhw8f1nvvvdfiA3LlD3/4g86cOaOJEyc61iUnJ+vNN9/Uhx9+qAULFig/P1+jRo1SRUXzs1nU1NSovLzcacHXvn4R5JSbKwEAABfilreA6+rqNHHiRBmGoQULFjTZ/vTTT2vr1q1avXq1zGaz0tPT1cyd6ot666239Nxzzyk7O1tdu3Z1rL/zzjt1zz33aMCAARo7dqxWrVqlsrIyZWdnN7uvuXPnKigoyLHExMRcVk0dVXLPUJm9TMovqVTh6Sp3lwMAAJrhMgCGh4fLbDaruLjYaX1xcbEiIyNd7igyMrJF7RvDX0FBgdasWePy3nt4eLj69Omj2267TUuWLNGqVau0YcOGSzowSVqyZIkefPBBZWdnN/vCSKPg4GD16dNH+/fvb7bN7NmzZbPZHMuRI0cuuaaOLMDXR4NigiUxHAwAAG2ZywBosVg0ePBg5eTkONbZ7Xbl5OQoJSXF5Y5SUlKc2kvSmjVrnNo3hr99+/bpo48+UlhY2EULtNvtkhpuv16Kt99+W9OmTdPbb7+tcePGXbT9mTNndODAAUVFNf/ygtVqVWBgoNMCZ18/B8htYAAA2irv5jbMnDlTGRkZGjJkiJKSkjRv3jxVVlZq2rRpkqT09HR169ZNc+fOlSTNmDFDo0eP1gsvvKBx48ZpyZIl2rx5sxYtWiSpIfxNmDBBeXl5Wrlyperr6x3PB4aGhspisWjjxo3Kzc3VyJEjFRISogMHDigrK0u9evVyCpK7d+9WbW2tSktLVVFR4XiTd9CgQZIabvtmZGToT3/6k5KTkx3f4+fnp6CgIEnSU089pbvuuks9evTQsWPHNGfOHJnNZk2ePPkK/ng9z8je4fpTzj59sb9EdrshLy+Tu0sCAADfZlzAyy+/bMTGxhoWi8VISkoyNmzY4Ng2evRoIyMjw6l9dna20adPH8NisRgJCQnG+++/79iWn59vSHK5rF271jAMw9ixY4cxZswYIzQ01LBarUZcXJzx8MMPG4WFhU7f06NHD5f7+WZtrrZ/s95JkyYZUVFRhsViMbp162ZMmjTJ2L9//4V+HE3YbDZDkmGz2S7pcx1Z7bl644asD4wemSuNXUfL3F0OAABNcP02jGbHAcTFMY6Qaw+8maucPSc0+85++tHoXu4uBwAAJ1y/mQsYV8EIxgMEAKBNIwDiihvVuyEA5h4qVXVdvZurAQAA30YAxBV3XdfO6hpgVXWdXXkFp91dDgAA+BYCIK44k8nEtHAAALRhBEBcFSN7N04LRwAEAKCtIQDiqmh8EWTHUZvKqmrdXA0AAPgmAiCuiohAX/Xu2lmGIa0/wKwgAAC0JQRAXDWNt4GXbzsqhpsEAKDtIADiqhk/MFpeJumfXxbrD6v3urscAABwHgEQV82NsSH6zX8kSpJeWXtAb3yR7+aKAACARADEVXZvUqyeHttXkvSLlbu1YvsxN1cEAAAIgLjq/uuWXpo6PE6GIf04e5v+te+ku0sCAMCjEQBx1ZlMJj3zvRv0vQFRqqs39KO/bdGOwjJ3lwUAgMciAOKa8PIy6YWJAzXyunBV1dZr6hu5OnjyjLvLAgDAIxEAcc1Yvc1aOGWwErsFqbSyVumvb1JxebW7ywIAwOMQAHFNdbZ6641pQxUf7q/C02eV8fom2c7WubssAAA8CgEQ11x4Z6v+en+SugRYtaeoQj/862ZV19W7uywAADwGARBuERPaSX+ZlqQAq7c25Zfq8be3qt7ObCEAAFwLBEC4zQ3RgXo1Y4gs3l5avbtYP1++kynjAAC4BgiAcKthPcP00r03ysskvb3piF5c8293lwQAQIdHAITb3dE/Ur9Ka5gy7qWP9+sv6w65tyAAADo4AiDahP9MjtXM2/pIkp79vy+1cgdTxgEAcLUQANFmTP/OdUpP6SHDkJ5cuk2f7ytxd0kAAHRIBEC0GSaTSXPuStC4xMYp4zZrZ6HN3WUBANDhEADRppi9TPrjpIEa3itMlbX1mvrGJuWXVLq7LAAAOhQCINocq7dZf54yWP27BepUZa3SX9+oE0wZBwDAFUMARJsU4OujN6YmqUdYJx0pPauMN3JVXs2UcQAAXAkEQLRZXQKs+tv9yQrvbNVXx8v1w78wZRwAAFcCARBtWmxYJ/3l/qEKsHprY36pnliyjSnjAABoJQIg2ryE6CAtSh8ii9lLH35ZpKz3djFlHAAArUAARLuQ0itMf7p3kEwm6a2NhzXvo33uLgkAgHaLAIh2487EKP3y+/0lSX/K2ae/bShwc0UAALRPBEC0Kz8Y1kNPpPaWJD3z3i6t2nnczRUBAND+EADR7sy4tbd+MCxWhiE9sWSb1u1nyjgAAC4FARDtjslk0nPj++u7iZGqrbfrob9t0a6jTBkHAEBLEQDRLpm9THpx0iCl9AzTmZpzmvpGrgpOMWUcAAAtQQBEu2X1NmtR+mDdEBWokjM1mvLaJp2sqHF3WQAAtHkEQLRrAb4+evP+oYoN7aTDpVWa+sYmVTBlHAAAF0QARLvXNcBXf3sgSeGdLfryWLke+usWpowDAOACCIDoEHqE+evNaUnqbPXW+oOnNDObKeMAAGjOBQPgK6+8ori4OPn6+io5OVmbNm264M6WLVumfv36ydfXV4mJiVq1apVjW11dnTIzM5WYmCh/f39FR0crPT1dx44dc9rH+PHjFRsbK19fX0VFRWnKlClObaqrqzV16lQlJibK29tbaWlpLmv55JNPdNNNN8lqteq6667Tm2++2erjQ9vWv1uQFk0ZLIvZS6t2FmnOCqaMAwDAlWYD4NKlSzVz5kzNmTNHeXl5GjhwoMaOHasTJ064bL9u3TpNnjxZDzzwgLZu3aq0tDSlpaVp165dkqSqqirl5eUpKytLeXl5evfdd7V3716NHz/eaT9jxoxRdna29u7dq3feeUcHDhzQhAkTHNvr6+vl5+enxx9/XKmpqS5ryc/P17hx4zRmzBht27ZNTzzxhB588EH985//vOzjQ/sw/LpwvTipYcq4v284rJdy9ru7JAAA2hyT0UwXSXJysoYOHar58+dLkux2u2JiYjR9+nTNmjWrSftJkyapsrJSK1eudKwbNmyYBg0apIULF7r88tzcXCUlJamgoECxsbEu26xYsUJpaWmqqamRj4+P07apU6eqrKxMy5cvd1qfmZmp999/3xE+Jenee+9VWVmZPvzww8s6PlfKy8sVFBQkm82mwMDAFn0G18bf1h9S1ntfSpJ+ldZfPxjWw80VAQDaCq7fzfQA1tbWasuWLU49bF5eXkpNTdX69etd7mj9+vVNeuTGjh3bbHtJstlsMplMCg4Odrm9tLRUixcv1vDhw5uEvwu5WC2Xc3xoX6akxOnxWxumjMt6b5c+YMo4AAAcXAbAkpIS1dfXKyIiwml9RESEioqKXO6oqKjoktpXV1crMzNTkydPbpK+MzMz5e/vr7CwMB0+fFjvvfdeiw/oQrWUl5fr7Nmzl3V8klRTU6Py8nKnBW3Xk6m9NTmpYcq4GUu2af2BU+4uCQCANsEtbwHX1dVp4sSJMgxDCxYsaLL96aef1tatW7V69WqZzWalp6e3iYf5586dq6CgIMcSExPj7pJwASaTSb9K6687Es5PGffXzfryGFPGAQDgMgCGh4fLbDaruLjYaX1xcbEiIyNd7igyMrJF7RvDX0FBgdasWePy3nt4eLj69Omj2267TUuWLNGqVau0YcOGFh9Uc7UEBgbKz8/vso5PkmbPni2bzeZYjhw50uKa4B5mL5Pm3TtIyfGhqqg5p4zXc3X4VJW7ywIAwK1cBkCLxaLBgwcrJyfHsc5utysnJ0cpKSkud5SSkuLUXpLWrFnj1L4x/O3bt08fffSRwsLCLlqg3W6X1HD7taUuVsvlHJ8kWa1WBQYGOi1o+3x9zHo1Y4iub5wy7vWNTBkHAPBozd4Cnjlzpl599VX95S9/0VdffaVHHnlElZWVmjZtmiQpPT1ds2fPdrSfMWOGPvzwQ73wwgvas2ePnn32WW3evFmPPfaYpIbwN2HCBG3evFmLFy9WfX29ioqKVFRUpNraWknSxo0bNX/+fG3btk0FBQX6+OOPNXnyZPXq1cspmO3evVvbtm1TaWmpbDabtm3bpm3btjm2P/zwwzp48KB+8pOfaM+ePfrv//5vZWdn68knn2zx8aFjCfT10V+mDVVMqJ8KTlVp2ptMGQcA8GDGBbz88stGbGysYbFYjKSkJGPDhg2ObaNHjzYyMjKc2mdnZxt9+vQxLBaLkZCQYLz//vuObfn5+YYkl8vatWsNwzCMHTt2GGPGjDFCQ0MNq9VqxMXFGQ8//LBRWFjo9D09evRwuZ9vWrt2rTFo0CDDYrEYPXv2NN54441LOr6WsNlshiTDZrNd0ufgPgdPnjFu+sVqo0fmSuM/X11vVNedc3dJAIBrjOu3YTQ7DiAujnGE2qedhTbdu2i9KmvrNW5AlF6690aZvUzuLgsAcI1w/WYuYHigxO5B+vOUIfIxm/T+juN67v++bBNvmQMAcK0QAOGRRvb+esq4v64v0PyPmTIOAOA5CIDwWN8bEK1n70qQJL2w5t96e9NhN1cEAMC1QQCER8sYHqfp37lOkvSzf+zUh7uanwkGAICOggAIjzfztj6anBQjuyE9vmSrNh5kyjgAQMdGAITHM5lM+uX3++v2GyJUe86uB/+6WV8dZ55nAEDHRQAEJHmbvfTS5BuVFBeqiupzSn99k46UMmUcAKBjIgAC5zVOGdcvMkAnK2o05bWNKjnDlHEAgI6HAAh8Q5Cfj/5yf5K6h/jp0KkqTXsjV2dqzrm7LAAArigCIPAtEYG++uv9SQr1t2jnUZse/tsW1Z6zu7ssAACuGAIg4ELPLp31xtSh6mQx6/P9Jfrxsu2y25ktBADQMRAAgWYMjAnWn6cMlo/ZpP/bfkxPZm+T7Wydu8sCAKDVCIDABYzq3UV/uGegTCbpvW3HdPuLn+qj3cXuLgsAgFYhAAIX8f1B3bT0oRTFh/uruLxGD/51s2Ys2arSylp3lwYAwGUhAAItkBQfqg9mjNKPRveU1/newNv++KlW7jgmw+DZQABA+0IABFrI18es2Xder3/81wj1jQjQqcpaPfbWVv3ob1t0orza3eUBANBiBEDgEg2MCdb/TR+pGbf2lreXSat3Fyv1j59q2eYj9AYCANoFAiBwGSzeXnrytj76v+kjldgtSOXV5/T0/+5Qxhu5Olp21t3lAQBwQQRAoBWujwrUP/5ruDLv6CeLt5c++/dJ3f7HT/W3DQWMGwgAaLMIgEAreZu99MgtvfTBjFEa0iNElbX1ylq+S5Nf3aBDJZXuLg8AgCYIgMAV0qtLZ2X/KEXP3nWD/HzM2phfqjv+9Jle/eyg6ukNBAC0IQRA4Ary8jJp6oh4rX7yZo24LkzVdXb9etVXunvBOv27uMLd5QEAIIkACFwVMaGd9PcHkvXb/5eoAKu3th0p0/de+lwv5+xTXb3d3eUBADwcARC4Skwmk+5NitWamaN1a7+uqq2364U1/9b353+hXUdt7i4PAODBCIDAVRYZ5Kv/yRiiP907SCGdfLT7eLm+/8oX+v0/96i6rt7d5QEAPBABELgGTCaTvj+om9bMHK1xA6JUbzf0ytoDGvfSv7Sl4LS7ywMAeBgCIHANhXe26pX/vEkLfzBY4Z2tOnCyUhMWrtMv/m+3qmrPubs8AICHIAACbnBH/0h9NPNm3X1TdxmG9PoX+bpj3r+07kCJu0sDAHgAAiDgJsGdLHph4kC9OW2oooN8dbi0Sv/56kb99B87VVFd5+7yAAAdGAEQcLNb+nbVP5+8WT8YFitJemvjYd3+4mdau+eEmysDAHRUBECgDQjw9dGv0hL19g+HqUdYJx23VWvam7mauXSbyqpq3V0eAKCDIQACbUhKrzB9OONmPTgyXiaT9O7Wo0r942f6YOdxd5cGAOhACIBAG+NnMevn37tB7zwyXNd17aySMzV6ZHGe/mvxFp2sqHF3eQCADoAACLRRN8WG6P3HR2r6d66T2cukVTuLdNuLn+ofWwtlGIa7ywMAtGMEQKANs3qb9ePb++q9R0fohqhAlVXV6cml2/XAXzbruO2su8sDALRTBECgHejfLUjvPTZCT4/tK4vZSx/vOaHb//iZ3tp4mN5AAMAlIwAC7YSP2UuPjrlO7z8+UjfGBqui5px++o+duu9/NurwqSp3lwcAaEcIgEA70zsiQP/78HBlfe8G+fp4ad2BUxo77zO9/nm+6u30BgIALo4ACLRDZi+THhgZr38+cbOG9QzV2bp6/WLlbk3883rtP3HG3eUBANo4AiDQjvUI89dbDw7Tr/+jvzpbvbWl4LS++9K/9Mra/TpXb3d3eQCANooACLRzXl4m3ZfcQ6ufvFm39O2i2nN2/f6fe5X2319o97Fyd5cHAGiDLhoAX3nlFcXFxcnX11fJycnatGnTBdsvW7ZM/fr1k6+vrxITE7Vq1SrHtrq6OmVmZioxMVH+/v6Kjo5Wenq6jh075rSP8ePHKzY2Vr6+voqKitKUKVOatNmxY4dGjRolX19fxcTE6He/+53T9ltuuUUmk6nJMm7cOEebqVOnNtl+xx13XOxHArRJ0cF+emPqUL1wz0AF+flo19FyjZ//uf64eq9qztW7uzwAQBtywQC4dOlSzZw5U3PmzFFeXp4GDhyosWPH6sQJ15PUr1u3TpMnT9YDDzygrVu3Ki0tTWlpadq1a5ckqaqqSnl5ecrKylJeXp7effdd7d27V+PHj3faz5gxY5Sdna29e/fqnXfe0YEDBzRhwgTH9vLyct1+++3q0aOHtmzZot///vd69tlntWjRIkebd999V8ePH3csu3btktls1j333OP0XXfccYdTu7fffvvSfoJAG2IymXT34O5aM/Nm3ZEQqXN2Qy99vF93vfy5th0pc3d5AIA2wmRcYBCx5ORkDR06VPPnz5ck2e12xcTEaPr06Zo1a1aT9pMmTVJlZaVWrlzpWDds2DANGjRICxcudPkdubm5SkpKUkFBgWJjY122WbFihdLS0lRTUyMfHx8tWLBAP/vZz1RUVCSLxSJJmjVrlpYvX649e/a43Me8efP0zDPP6Pjx4/L395fU0ANYVlam5cuXN/cjuKDy8nIFBQXJZrMpMDDwsvYBXE2rdh7XM+/tUsmZWnmZpAdH9dSTqX3kZzG7uzQAcBuu3xfoAaytrdWWLVuUmpr6dWMvL6Wmpmr9+vUuP7N+/Xqn9pI0duzYZttLks1mk8lkUnBwsMvtpaWlWrx4sYYPHy4fHx/H99x8882O8Nf4PXv37tXp06dd7ue1117Tvffe6wh/jT755BN17dpVffv21SOPPKJTp041W2tNTY3Ky8udFqAt+25ilNY8OVr/cWM32Q1p0WcHlfybj/TUsu1au+eEas/xoggAeKJmA2BJSYnq6+sVERHhtD4iIkJFRUUuP1NUVHRJ7aurq5WZmanJkyc3SeCZmZny9/dXWFiYDh8+rPfee++i39O47ds2bdqkXbt26cEHH3Raf8cdd+ivf/2rcnJy9Pzzz+vTTz/VnXfeqfp6189LzZ07V0FBQY4lJibGZTugLQnxt+jFSYP0+tQh6hbsp/Lqc/rfLYWa9mauhvxqjX6cvV0f7ykmDAKAB3HbW8B1dXWaOHGiDMPQggULmmx/+umntXXrVq1evVpms1np6emXPeXVa6+9psTERCUlJTmtv/feezV+/HglJiYqLS1NK1euVG5urj755BOX+5k9e7ZsNptjOXLkyGXVA7jDd/pF6LOfjNHSh4YpPaWHugRYVV59Tu/kFer+Nzdr8K/WaGb2NuV8VcxLIwDQwXk3tyE8PFxms1nFxcVO64uLixUZGenyM5GRkS1q3xj+CgoK9PHHH7u8/x4eHq7w8HD16dNH119/vWJiYrRhwwalpKQ0+z2NNXxTZWWllixZol/84hfNHapDz549FR4erv379+vWW29tst1qtcpqtV50P0BbZfYyKblnmJJ7hmnOXQnafKhUq3Ye1we7inSiokbv5h3Vu3lHFeDrrduuj9B3E6M0qk+4rN48MwgAHUmzPYAWi0WDBw9WTk6OY53dbldOTo5SUlJcfiYlJcWpvSStWbPGqX1j+Nu3b58++ugjhYWFXbRIu73h1lRNTY3jez777DPV1dU5fU/fvn0VEhLi9Nlly5appqZGP/jBDy76PYWFhTp16pSioqIu2hZo7xrD4HPf768Ns29V9o9SNHV4nCICraqoPqd3tx7Vg3/drCG//EhPLt2mNbuLVV1HzyAAdAQXfAt46dKlysjI0J///GclJSVp3rx5ys7O1p49exQREaH09HR169ZNc+fOldQwDMzo0aP129/+VuPGjdOSJUv0m9/8Rnl5eerfv7/q6uo0YcIE5eXlaeXKlU7P8YWGhspisWjjxo3Kzc3VyJEjFRISogMHDigrK0vFxcX68ssvZbVaZbPZ1LdvX91+++3KzMzUrl27dP/99+vFF1/UQw895HQMo0aNUrdu3bRkyRKn9WfOnNFzzz2nu+++W5GRkTpw4IB+8pOfqKKiQjt37mxRTx9vEaEjstsNbTl8Wu/vOK4Pdh1XcXmNY1tnq7dSr++q7yZG6eY+XeTrQ88ggPaH67ck4yJefvllIzY21rBYLEZSUpKxYcMGx7bRo0cbGRkZTu2zs7ONPn36GBaLxUhISDDef/99x7b8/HxDkstl7dq1hmEYxo4dO4wxY8YYoaGhhtVqNeLi4oyHH37YKCwsdPqe7du3GyNHjjSsVqvRrVs347e//W2T2vfs2WNIMlavXt1kW1VVlXH77bcbXbp0MXx8fIwePXoYP/zhD42ioqKL/UgcbDabIcmw2Wwt/gzQntTX243c/FPGsyt2Gcm//sjokbnSsSQ886Hx+Nt5xoe7jhtna8+5u1QAaDGu34ZxwR5AXBj/BwFPYrcb2nrktN7fUaQPdh3XcVu1Y5u/xaxbr4/QuAFRGk3PIIA2juv3RW4B48I4geCpGsJgWcMLJDuP65iLMPjdxCjd0pcwCKDt4fpNAGwVTiCgIQxuKyzTqh3HtcpFGPzO9REalxipW/p2JQwCaBO4fhMAW4UTCHBmGIa2HSk7/wJJkY6WnXVs62Qx6zv9umpcYpRu6duV6egAuA3XbwJgq3ACAc1rDIOrdh7Xqp1Nw+CY82FwDGEQwDXG9ZsA2CqcQEDLGIah7YU2rdp5XO/vOO4UBv18GnoGv5sYpTH9uqiTpdnx6QHgiuD6TQBsFU4g4NIZhqEdjWFw53EVnnYOg2P6ddF3E6P0nX5dCYMArgqu3wTAVuEEAlrHMAztPGrT+zsbXiA5Uvp1GPT18dKYvl0dYdDfShgEcGVw/SYAtgonEHDlGIahXUfLHWHwcGmVY5uvj5du6dNV3x0QpVsJgwBaies3AbBVOIGAq8MwDH157OswWHDq6zBo9fbSLX276LYbIpUcH6qY0E5urBRAe8T1mwDYKpxAwNXXGAZXnQ+Dh74RBiWpW7CfkuNDlRQfquSeYYoL6ySTyeSmagG0B1y/CYCtwgkEXFuGYWj38XJ9sLNIn+8v0c6jNtXbnf8T1jXA6giDw+JDdV3XzgRCAE64fhMAW4UTCHCvyppzyjt8WpvyS7XxYKm2HSlTbb3dqU2ov0VJcaFK7tnQS3h9ZKC8vAiEgCfj+k0AbBVOIKBtqa6r17YjZdp4sFQb808p7/BpVdc5B8JAX28NPR8Ik+PDlBAdKG+zl5sqBuAOXL8JgK3CCQS0bbXn7Np5tEwbDpZqU36pNh8qVWVtvVMbf4tZg+NClRzfsAzoHiyLN4EQ6Mi4fhMAW4UTCGhfztXb9eWx8oZbxvmntCm/VOXV55za+Pp46caYEEcP4Y2xwfL1Yao6oCPh+k0AbBVOIKB9q7cb2lNU7niGcNOhUpVW1jq1sZi9NDAmSMnxYUqKD9XgHiGMQwi0c1y/CYCtwgkEdCyGYWj/iTPakF96PhSe0omKGqc23l4m9e8W1HDLuGeohsSFKtDXx00VA7gcXL8JgK3CCQR0bIZh6NCpKm3KP3X+xZJSHS0769TGyyRdHxWo5PiwhjeN40IV4m9xU8UAWoLrNwGwVTiBAM9TeLrK8ZbxpvzSJgNTS1LfiADHsDNJ8aHqGuDrhkoBNIfrNwGwVTiBABTZqh1hcGN+qfafONOkTc8u/uffMm7oJYwK8nNDpQAacf0mALYKJxCAbys5U6Pc82Fww8FT2ltcoW//VzYm1M/xUklSXKh6MH0dcE1x/SYAtgonEICLKauqVe6h09p48JQ2HSrVrqM2fWv2OgX5+WhA96DzS7AGdg9WZBC3jYGrhes3AbBVOIEAXKqK6jptKTitjeffMt51tLzJ9HVSw5zGA2OCNfB8KBzQPUjBnXi5BLgSuH4TAFuFEwhAa9Wes2tvUYW2F5Zp+5Ey7Si0ad+Jiia9hJLUI6zT+R7CIA2MCVZCdKA6WRiTELhUXL8JgK3CCQTgaqisOacvj5VrR2GZthfatKOwTAUu3jb2Mkl9IgKcbh33jQxgKjvgIrh+EwBbhRMIwLVSVlWrHYU2bT/ydSj89iDVkmTx9tL1UYENvYTdgzUwJkg9wzvLy4uXTIBGXL8JgK3CCQTAnYps1dpeWKYdhWWOcPjtuY0lqbPVW/27BWpg92DH84TdQ/x48xgei+s3AbBVOIEAtCWNM5fsKCzT9iMNvYS7jtlUXdf0JZMwf8vXt45jGv4M72x1Q9XAtcf1mwDYKpxAANq6c/V27TtxxvE84fYjZdpbVKFzLt4y6Rbs943nCYPUv3sQ8xyjQ+L6TQBsFU4gAO1RdV29dh8v147zbx1vLyzTgZOVLtv26uJ//tZxkAbEBOuGqED5+pivccXAlcX1mwDYKpxAADqK8uo67Sq0OV4w2VFo09Gys03aeXuZ1DcyQAO6B2vQ+VvHvbt2lreZN4/RfnD9JgC2CicQgI6s5EyN0/OEOwptOlVZ26Sdr0/Dm8c9wzurZxd/xYd/vdBbiLaI6zcBsFU4gQB4EsMwdLTsrCMQbi8s066j5TpT0/TN40bdgv2cAmF8F3/1Cu+sbiF+MjM0DdyE6zcBsFU4gQB4Orvd0MGSM9pTVKH8k5XKL6nUwZJKHTx5xuWQNI0sZi/FhnVSfLi/ep4Phz27dFZ8uL/CO1sYogZXFddviTmEAACXzcvLpOu6Bui6rgFO6w3DUGllrSMQ5pdUOgJi/qlK1Z6za/+JM9p/4kyTfQZYvRX/jVvJPbt0Vs9wf8WF+6uzlcsWcCXQA9gK/B8EAFy6eruhY2VnG8JgSeU3QuIZFZ4+qwtdlboGWM+HQn/1DO/suK0cE9KJKfDQYly/CYCtwgkEAFdWdV29jpRW6UBjb2HJGUdILDnT9AWURmYvk2JC/JxuJfc8Hw4jA325pQwnXL8JgK3CCQQA147tbN3XofDkN24tl1Sqqra+2c/5+ZgV5+g1/Mat5fDOCurEQNeeiOs3AbBVOIEAwP0Mw9CJihodPFmpg+fDYWMwPFxa5XLWk0ah/han3sLGZw3jwhjCpiPj+k0AbBVOIABo2+rq7So8fVb5JWfOB8SvX0YpKq++4Gejg3wVF+48rmFcOM8bdgRcv1sQAF955RX9/ve/V1FRkQYOHKiXX35ZSUlJzbZftmyZsrKydOjQIfXu3VvPP/+8vvvd70qS6urq9POf/1yrVq3SwYMHFRQUpNTUVP32t79VdHS0Yx/jx4/Xtm3bdOLECYWEhCg1NVXPP/+8U5sdO3bo0UcfVW5urrp06aLp06frJz/5iWP7m2++qWnTpjnVZrVaVV399b/whmFozpw5evXVV1VWVqYRI0ZowYIF6t27d4t+eJxAANB+Vdac06FT519C+cYQNvkXGcLG7GVS9xA/xYU5B8Oe4f6KDmZ8w/aA6/dFhoFZunSpZs6cqYULFyo5OVnz5s3T2LFjtXfvXnXt2rVJ+3Xr1mny5MmaO3euvve97+mtt95SWlqa8vLy1L9/f1VVVSkvL09ZWVkaOHCgTp8+rRkzZmj8+PHavHmzYz9jxozRT3/6U0VFReno0aN66qmnNGHCBK1bt05Swy/u9ttvV2pqqhYuXKidO3fq/vvvV3BwsB566CHHfgIDA7V3717H37/9EPDvfvc7vfTSS/rLX/6i+Ph4ZWVlaezYsdq9e7d8fX0v7ycKAGgX/K3eSogOUkJ0kNN6wzB0uqrhecNDJV8PXZN/slKHTjU8b1hwqkoFp6r06b9POn3WYvZSTKif4sM7Kz68k+LDOysuvGG8Q15GQVtywR7A5ORkDR06VPPnz5ck2e12xcTEaPr06Zo1a1aT9pMmTVJlZaVWrlzpWDds2DANGjRICxcudPkdubm5SkpKUkFBgWJjY122WbFihdLS0lRTUyMfHx8tWLBAP/vZz1RUVCSLxSJJmjVrlpYvX649e/ZIaugBfOKJJ1RWVuZyn4ZhKDo6Wj/+8Y/11FNPSZJsNpsiIiL05ptv6t57723ux+LA/0EAgGdpfN7QKRyeXwpKq1R7zt7sZ/18zOoR1kk9uzQ8Y9jYaxgX7q8wfwa/vpa4fl+gB7C2tlZbtmzR7NmzHeu8vLyUmpqq9evXu/zM+vXrNXPmTKd1Y8eO1fLly5stwGazyWQyKTg42OX20tJSLV68WMOHD5ePj4/je26++WZH+Gv8nueff16nT59WSEiIJOnMmTPq0aOH7Ha7brrpJv3mN79RQkKCJCk/P19FRUVKTU117CMoKEjJyclav369ywBYU1Ojmpoax9/Ly8ubPS4AQMdjMpkUEeiriEBfDesZ5rStcXzDQ6cawuHBb4TEI6fP6mxdvfYUVWhPUUWT/Qb4ejfcSv7WbeX4cH8F+fGmMq68ZgNgSUmJ6uvrFRER4bQ+IiLC0cv2bUVFRS7bFxUVuWxfXV2tzMxMTZ48uUkCz8zM1Pz581VVVaVhw4Y59SoWFRUpPj6+yfc0bgsJCVHfvn31+uuva8CAAbLZbPrDH/6g4cOH68svv1T37t0dNV1KvXPnztVzzz3nchsAwLOZvUyKCe2kmNBOGtW7i9O2b76Mkl9SpfySMzpUUqX8kkods51VRfU57Si0aUehrcl+G99UbgiHzreVO1mYGQWXx21nTl1dnSZOnCjDMLRgwYIm259++mk98MADKigo0HPPPaf09HStXLmyxV3kKSkpSklJcfx9+PDhuv766/XnP/9Zv/zlLy+r5tmzZzv1cJaXlysmJuay9gUA8Bw+Zi9Hz963VdfV63BplQ6ef8Yw/2TDM4eHSip1oqJGpZW1Kq2s1ZaC000+GxFoVVyYv+O2cuN3xIZ1ktWbYWzQvGYDYHh4uMxms4qLi53WFxcXKzIy0uVnIiMjW9S+MfwVFBTo448/dnn/PTw8XOHh4erTp4+uv/56xcTEaMOGDUpJSWn2exprcMXHx0c33nij9u/f79SuuLhYUVFRTvsZNGiQy31YrVZZrVaX2wAAuBy+Pmb1iQhQn4iAJtvO1Jxz3EY+1Pgyyvl/Pl1Vp+LyGhWX12hjfqnT50wmKSLAVzGhfuoe0kkxIQ1/dg/1U0xIJ0UF+crbzFA2nqzZAGixWDR48GDl5OQoLS1NUsNLIDk5OXrsscdcfiYlJUU5OTl64oknHOvWrFnj1BPXGP727duntWvXKiwszMWenNntDQ/VNj5/l5KSop/97Geqq6tzPBe4Zs0a9e3b1/H837fV19dr586djiFp4uPjFRkZqZycHEfgKy8v18aNG/XII49ctCYAAK62zlZv9e8WpP7dgppsK6uqdbyA0hAOv761fKbmnIrKq1VUXq3cQ017Ds1eJkUF+SompJO6h/idv3XdGBY7qWuAVV4MZ9OhXfAW8MyZM5WRkaEhQ4YoKSlJ8+bNU2VlpWN8vfT0dHXr1k1z586VJM2YMUOjR4/WCy+8oHHjxmnJkiXavHmzFi1aJKkh/E2YMEF5eXlauXKl6uvrHc/bhYaGymKxaOPGjcrNzdXIkSMVEhKiAwcOKCsrS7169XIEyf/8z//Uc889pwceeECZmZnatWuX/vSnP+nFF1901P6LX/xCw4YN03XXXaeysjL9/ve/V0FBgR588EFJDQ/yPvHEE/rVr36l3r17O4aBiY6OdgReAADaquBOFt0Ya9GNsc4dH4ZhqORMrQpPV6nw9FkdOV2lI6VnHX8/evqsas8/k1h4+qzLfVvMXuoW4qfu53sOY873HDaGRd5abv8uGAAnTZqkkydP6plnnlFRUZEGDRqkDz/80PHixOHDh+Xl9XUX8vDhw/XWW2/p5z//uX7605+qd+/eWr58ufr37y9JOnr0qFasWCFJTW6zrl27Vrfccos6deqkd999V3PmzFFlZaWioqJ0xx136Oc//7nj9mtQUJBWr16tRx99VIMHD1Z4eLieeeYZpzEAT58+rR/+8IeOl0IGDx6sdevW6YYbbnC0+clPfqLKyko99NBDKisr08iRI/Xhhx8yBiAAoN0ymUzqEmBVlwBrk3AoSXZ7w1A2R05XqfB8ODxS+nVYPG6rVm293dG76Iqfj9kRBruHNITDb/YgBvp5ExDbOKaCawXGEQIAdDTn6u06bqs+HxDPqrC0SkdOn3WExeKKal0sOQRYvdU99OtnDx09iOf/9Le69+1lrt9ufAsYAAC0Pd5mL8dwNq7UnKvXsbJqp17Dxn8uPF2lkjO1qqg5p6+Ol+ur467Hyw3p5NPwHedvK38zLHYP8ZOvD28wX20EQAAA0GJWb3OzQ9pI0tna+obewsZnEEudn0W0na3T6ao6na5yPe6hJHUJsCrm/C3mO/tH6o7+US7b4fIRAAEAwBXjZzGrd0SAersY1kaSyqvrVHj+pZQj3wiIhed7Eitr63WyokYnK2qUd7hMPcM7647+1/ggPAABEAAAXDOBvj66IdpHN0Q3ffbOMAyVVdU59R4mxYe6ocqOjwAIAADaBJPJpBB/i0L8LRrQPdjd5XRoDAMOAADgYQiAAAAAHoYACAAA4GEIgAAAAB6GAAgAAOBhCIAAAAAehgAIAADgYQiAAAAAHoYACAAA4GEIgAAAAB6GAAgAAOBhCIAAAAAehgAIAADgYbzdXUB7ZhiGJKm8vNzNlQAAgJZqvG43Xsc9EQGwFSoqKiRJMTExbq4EAABcqoqKCgUFBbm7DLcwGZ4cf1vJbrfr2LFjCggIkMlkuqL7Li8vV0xMjI4cOaLAwMArum9cOn4fbQu/j7aF30fbwu/j4gzDUEVFhaKjo+Xl5ZlPw9ED2ApeXl7q3r37Vf2OwMBA/gVuQ/h9tC38PtoWfh9tC7+PC/PUnr9Gnhl7AQAAPBgBEAAAwMMQANsoq9WqOXPmyGq1ursUiN9HW8Pvo23h99G28PtAS/ASCAAAgIehBxAAAMDDEAABAAA8DAEQAADAwxAAAQAAPAwBsA165ZVXFBcXJ19fXyUnJ2vTpk3uLskjzZ07V0OHDlVAQIC6du2qtLQ07d27191l4bzf/va3MplMeuKJJ9xdikc7evSofvCDHygsLEx+fn5KTEzU5s2b3V2WR6qvr1dWVpbi4+Pl5+enXr166Ze//KVHz3eL5hEA25ilS5dq5syZmjNnjvLy8jRw4ECNHTtWJ06ccHdpHufTTz/Vo48+qg0bNmjNmjWqq6vT7bffrsrKSneX5vFyc3P15z//WQMGDHB3KR7t9OnTGjFihHx8fPTBBx9o9+7deuGFFxQSEuLu0jzS888/rwULFmj+/Pn66quv9Pzzz+t3v/udXn75ZXeXhjaIYWDamOTkZA0dOlTz58+X1DDfcExMjKZPn65Zs2a5uTrPdvLkSXXt2lWffvqpbr75ZneX47HOnDmjm266Sf/93/+tX/3qVxo0aJDmzZvn7rI80qxZs/TFF1/oX//6l7tLgaTvfe97ioiI0GuvveZYd/fdd8vPz09///vf3VgZ2iJ6ANuQ2tpabdmyRampqY51Xl5eSk1N1fr1691YGSTJZrNJkkJDQ91ciWd79NFHNW7cOKd/T+AeK1as0JAhQ3TPPfeoa9euuvHGG/Xqq6+6uyyPNXz4cOXk5Ojf//63JGn79u36/PPPdeedd7q5MrRF3u4uAF8rKSlRfX29IiIinNZHRERoz549bqoKUkNP7BNPPKERI0aof//+7i7HYy1ZskR5eXnKzc11dymQdPDgQS1YsEAzZ87UT3/6U+Xm5urxxx+XxWJRRkaGu8vzOLNmzVJ5ebn69esns9ms+vp6/frXv9Z9993n7tLQBhEAgRZ49NFHtWvXLn3++efuLsVjHTlyRDNmzNCaNWvk6+vr7nKghv8xGjJkiH7zm99Ikm688Ubt2rVLCxcuJAC6QXZ2thYvXqy33npLCQkJ2rZtm5544glFR0fz+0ATBMA2JDw8XGazWcXFxU7ri4uLFRkZ6aaq8Nhjj2nlypX67LPP1L17d3eX47G2bNmiEydO6KabbnKsq6+v12effab58+erpqZGZrPZjRV6nqioKN1www1O666//nq98847bqrIsz399NOaNWuW7r33XklSYmKiCgoKNHfuXAIgmuAZwDbEYrFo8ODBysnJcayz2+3KyclRSkqKGyvzTIZh6LHHHtM//vEPffzxx4qPj3d3SR7t1ltv1c6dO7Vt2zbHMmTIEN13333atm0b4c8NRowY0WRopH//+9/q0aOHmyrybFVVVfLycr6sm81m2e12N1WEtowewDZm5syZysjI0JAhQ5SUlKR58+apsrJS06ZNc3dpHufRRx/VW2+9pffee08BAQEqKiqSJAUFBcnPz8/N1XmegICAJs9f+vv7KywsjOcy3eTJJ5/U8OHD9Zvf/EYTJ07Upk2btGjRIi1atMjdpXmku+66S7/+9a8VGxurhIQEbd26VX/84x91//33u7s0tEEMA9MGzZ8/X7///e9VVFSkQYMG6aWXXlJycrK7y/I4JpPJ5fo33nhDU6dOvbbFwKVbbrmFYWDcbOXKlZo9e7b27dun+Ph4zZw5Uz/84Q/dXZZHqqioUFZWlv7xj3/oxIkTio6O1uTJk/XMM8/IYrG4uzy0MQRAAAAAD8MzgAAAAB6GAAgAAOBhCIAAAAAehgAIAADgYQiAAAAAHoYACAAA4GEIgAAAAB6GAAgArWQymbR8+XJ3lwEALUYABNCuTZ06VSaTqclyxx13uLs0AGizmAsYQLt3xx136I033nBaZ7Va3VQNALR99AACaPesVqsiIyOdlpCQEEkNt2cXLFigO++8U35+furZs6f+93//1+nzO3fu1He+8x35+fkpLCxMDz30kM6cOePU5vXXX1dCQoKsVquioqL02GOPOW0vKSnRf/zHf6hTp07q3bu3VqxY4dh2+vRp3XffferSpYv8/PzUu3fvJoEVAK4lAiCADi8rK0t33323tm/frvvuu0/33nuvvvrqK0lSZWWlxo4dq5CQEOXm5mrZsmX66KOPnALeggUL9Oijj+qhhx7Szp07tWLFCl133XVO3/Hcc89p4sSJ2rFjh7773e/qvvvuU2lpqeP7d+/erQ8++EBfffWVFixYoPDw8Gv3AwCAbzMAoB3LyMgwzGaz4e/v77T8+te/NgzDMCQZDz/8sNNnkpOTjUceecQwDMNYtGiRERISYpw5c8ax/f333ze8vLyMoqIiwzAMIzo62vjZz37WbA2SjJ///OeOv585c8aQZHzwwQeGYRjGXXfdZUybNu3KHDAAXAE8Awig3RszZowWLFjgtC40NNTxzykpKU7bUlJStG3bNknSV199pYEDB8rf39+xfcSIEbLb7dq7d69MJpOOHTumW2+99YI1DBgwwPHP/v7+CgwM1IkTJyRJjzzyiO6++27l5eXp9ttvV1pamoYPH35ZxwoAVwIBEEC75+/v3+SW7JXi5+fXonY+Pj5OfzeZTLLb7ZKkO++8UwUFBVq1apXWrFmjW2+9VY8++qj+8Ic/XPF6AaAleAYQQIe3YcOGJn+//vrrJUnXX3+9tm/frsrKSsf2L774Ql5eXurbt68CAgIUFxennJycVtXQpUsXZWRk6O9//7vmzZunRYsWtWp/ANAa9AACaPdqampUVFTktM7b29vxosWyZcs0ZMgQjRw5UosXL9amTZv02muvSZLuu+8+zZkzRxkZGXr22Wd18uRJTZ8+XVOmTFFERIQk6dlnn9XDDz+srl276s4771RFRYW++OILTZ8+vUX1PfPMMxo8eLASEhJUU1OjlStXOgIoALgDARBAu/fhhx8qKirKaV3fvn21Z88eSQ1v6C5ZskT/9V//paioKL399tu64YYbJEmdOnXSP//5T82YMUNDhw5Vp06ddPfdd+uPf/yjY18ZGRmqrq7Wiy++qKeeekrh4eGaMGFCi+uzWCyaPXu2Dh06JD8/P40aNUpLliy5AkcOAJfHZBiG4e4iAOBqMZlM+sc//qG0tDR3lwIAbQbPAAIAAHgYAiAAAICH4RlAAB0aT7kAQFP0AAIAAHgYAiAAAICHIQACAAB4GAIgAACAhyEAAgAAeBgCIAAAgIchAAIAAHgYAiAAAICHIQACAAB4mP8PFQ+zTdk39HEAAAAASUVORK5CYII=' width=640.0/>\n",
       "            </div>\n",
       "        "
      ],
      "text/plain": [
       "Canvas(toolbar=Toolbar(toolitems=[('Home', 'Reset original view', 'home', 'home'), ('Back', 'Back to previous …"
      ]
     },
     "metadata": {},
     "output_type": "display_data"
    }
   ],
   "source": [
    "fig = plt.figure()\n",
    "\n",
    "#\n",
    "plt.xlabel('Epochs')\n",
    "plt.ylabel('Loss')\n",
    "plt.plot(losses)"
   ]
  },
  {
   "cell_type": "markdown",
   "metadata": {},
   "source": [
    "### View model predictions"
   ]
  },
  {
   "cell_type": "code",
   "execution_count": 23,
   "metadata": {},
   "outputs": [],
   "source": [
    "# get first batch from dataloader\n",
    "image, mask = next(iter(dataloader))\n",
    "\n",
    "# transpose data\n",
    "_, h, w, _ = image.shape\n",
    "image_slices = image.permute(0, 3, 1, 2).reshape(-1, h, w).float()\n",
    "image_slices = torch.unsqueeze(image_slices, axis=1)\n",
    "mask_slices = mask.permute(0, 3, 1, 2).reshape(-1, h, w).float()\n",
    "\n",
    "# model prediction\n",
    "with torch.no_grad():\n",
    "    outputs = model(image_slices.cuda())\n",
    "    outputs = torch.squeeze(outputs)\n",
    "    \n",
    "# convert to numpy\n",
    "image_np = torch.squeeze(image_slices).numpy()\n",
    "ground_truth_np = mask_slices.numpy()\n",
    "prediction_np = outputs.cpu().numpy()"
   ]
  },
  {
   "cell_type": "code",
   "execution_count": null,
   "metadata": {},
   "outputs": [],
   "source": [
    "# TODO: visualize predictions"
   ]
  }
 ],
 "metadata": {
  "interpreter": {
   "hash": "2f6205960b311e377f41cf8daf6c1745eda188400d19cb467b1330fee120c973"
  },
  "kernelspec": {
   "display_name": "Python 3.6.9 ('mlmed')",
   "language": "python",
   "name": "python3"
  },
  "language_info": {
   "codemirror_mode": {
    "name": "ipython",
    "version": 3
   },
   "file_extension": ".py",
   "mimetype": "text/x-python",
   "name": "python",
   "nbconvert_exporter": "python",
   "pygments_lexer": "ipython3",
   "version": "3.6.9"
  }
 },
 "nbformat": 4,
 "nbformat_minor": 4
}
