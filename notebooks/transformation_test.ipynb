{
 "cells": [
  {
   "cell_type": "code",
   "execution_count": 6,
   "metadata": {
    "pycharm": {
     "name": "#%%\n"
    }
   },
   "outputs": [],
   "source": [
    "import matplotlib.pyplot as plt\n",
    "import numpy as np\n",
    "import h5py\n",
    "from ipywidgets import widgets\n",
    "%matplotlib widget\n",
    "\n",
    "def mask_overlay(image, mask, color=(0., 1., 0.), weight=.8):\n",
    "    \"\"\"\n",
    "    Helper function to visualize mask on the top of the aneurysm\n",
    "    \"\"\"\n",
    "    mask = np.dstack((mask, mask, mask)) * np.array(color)\n",
    "    mask = mask.astype(np.uint8)\n",
    "    weighted_sum = image * weight + mask * (1 - weight) # cv2.addWeighted(image, 1 - weight, mask, weight, 0.,  dtype=cv2.CV_32F)\n",
    "    img = image.copy()\n",
    "    ind = mask[:, :, 1] > 0\n",
    "    img[ind] = weighted_sum[ind]\n",
    "    return img\n",
    "\n",
    "\n",
    "class ImageSlicer(object):\n",
    "\n",
    "    def __init__(self, ax, img, mask, start_index):\n",
    "        self.ax = ax\n",
    "\n",
    "        # convert to numpy array\n",
    "        self.image_np = img\n",
    "        self.mask_np = mask\n",
    "\n",
    "        # get number of slices\n",
    "        _, _, self.slices = self.image_np.shape\n",
    "        self.ind = start_index if start_index is not None else self.slices // 2\n",
    "        self.show_mask = True\n",
    "\n",
    "        # plot image with mask overlay\n",
    "        self.image_plt = self.ax.imshow(self.overlay)\n",
    "        self._draw()\n",
    "\n",
    "    @property\n",
    "    def overlay(self):\n",
    "        # get image and mask slice\n",
    "        image = self.image_np[:, :, self.ind]\n",
    "        image = image / np.max(image)\n",
    "        image = np.dstack((image, image, image))\n",
    "        mask = self.mask_np[:, :, self.ind]\n",
    "\n",
    "        # create masked overlay\n",
    "        if self.show_mask:\n",
    "            return mask_overlay(image, mask)\n",
    "        else: \n",
    "            return image\n",
    "\n",
    "    def onscroll(self, event):\n",
    "\n",
    "        # get new slice number\n",
    "        self.ind = event['new']\n",
    "        self.update()\n",
    "\n",
    "    def on_show_mask(self, event):\n",
    "\n",
    "        self.show_mask = event['new']\n",
    "        with open(\"file.txt\", \"a\") as f:\n",
    "            f.write(f\"{self.show_mask}\\n\")\n",
    "        self.update()\n",
    "\n",
    "    def update(self):\n",
    "\n",
    "        # draw overlay\n",
    "        self.image_plt.set_data(self.overlay)\n",
    "        self._draw()\n",
    "\n",
    "    def _draw(self):\n",
    "        try:\n",
    "            self.image_plt.axes.figure.canvas.draw()\n",
    "        except Exception as e:\n",
    "            with open(\"file.txt\", \"a\") as f:\n",
    "                f.write(f\"Exception {e}\\n\")\n",
    "            pass\n",
    "\n",
    "\n",
    "def plot3d(img, mask, start_index = None):\n",
    "\n",
    "    #\n",
    "    figure, ax = plt.subplots(1, 1)\n",
    "    tracker = ImageSlicer(ax, img, mask, start_index)\n",
    "\n",
    "    #\n",
    "    int_slider = widgets.IntSlider(\n",
    "        value=tracker.ind,\n",
    "        min=0,\n",
    "        max=tracker.slices,\n",
    "        step=1,\n",
    "        description='Slice',\n",
    "        continuous_update=True\n",
    "    )\n",
    "    int_slider.observe(tracker.onscroll, 'value')\n",
    "\n",
    "    show_mask = widgets.Checkbox(\n",
    "        value=True,\n",
    "        description='Show Mask',\n",
    "        disabled=False,\n",
    "        indent=False\n",
    "    )\n",
    "    show_mask.observe(tracker.on_show_mask, 'value')\n",
    "\n",
    "    return figure, int_slider, show_mask\n",
    "\n",
    "def load_case(i):\n",
    "    f = h5py.File(f\"./data/val/{files[i]}\", \"r\")\n",
    "    return f[\"raw\"][:], f[\"label\"][:]"
   ]
  },
  {
   "cell_type": "code",
   "execution_count": 3,
   "metadata": {
    "pycharm": {
     "name": "#%%\n"
    }
   },
   "outputs": [
    {
     "name": "stdout",
     "output_type": "stream",
     "text": [
      "['A133.h5', 'A027.h5', 'A096_L.h5', 'A003.h5', 'A085.h5', 'A137.h5', 'A066.h5', 'A080.h5', 'A084.h5', 'A033.h5', 'A028.h5', 'A029.h5', 'A134.h5', 'A008.h5', 'A049.h5', 'A056.h5', 'A014.h5', 'A059_R.h5', 'A103.h5', 'A078_R.h5', 'A077.h5', 'A105_R.h5', 'A012.h5', 'A047.h5', 'A019.h5', 'A118.h5', 'A070.h5', 'A032.h5', 'A043.h5', 'A097.h5', 'A031.h5', 'A018.h5', 'A072.h5']\n"
     ]
    }
   ],
   "source": [
    "import yaml\n",
    "import os\n",
    "from pytorch3dunet.augment.transforms import Transformer\n",
    "\n",
    "config_path = \"./train-configs/aug_tests/id.yml\"\n",
    "\n",
    "config = yaml.safe_load(open(config_path, 'r'))\n",
    "\n",
    "transform_config = config[\"loaders\"][\"train\"][\"transformer\"]\n",
    "datapath = config[\"loaders\"][\"train\"][\"file_paths\"][0]\n",
    "\n",
    "transformer = Transformer(transform_config, {})\n",
    "raw_transform = transformer.raw_transform()\n",
    "label_transform = transformer.label_transform()\n",
    "\n",
    "files = os.listdir(\"./data/val\")\n",
    "print(files)"
   ]
  },
  {
   "cell_type": "code",
   "execution_count": 98,
   "metadata": {
    "pycharm": {
     "name": "#%%\n"
    }
   },
   "outputs": [
    {
     "name": "stdout",
     "output_type": "stream",
     "text": [
      "A024.h5\n",
      "1 90\n",
      "1 91\n",
      "1 92\n",
      "1 93\n",
      "1 94\n",
      "1 95\n",
      "1 96\n",
      "1 97\n",
      "1 98\n",
      "1 99\n",
      "2 90\n",
      "2 91\n",
      "2 92\n",
      "2 93\n",
      "2 94\n",
      "2 95\n",
      "2 96\n",
      "2 97\n",
      "2 98\n",
      "2 99\n",
      "3 90\n",
      "3 91\n",
      "3 92\n",
      "3 93\n",
      "3 94\n",
      "3 95\n",
      "3 96\n",
      "3 97\n",
      "3 98\n",
      "3 99\n",
      "4 90\n",
      "4 91\n",
      "4 92\n",
      "4 93\n",
      "4 94\n",
      "4 95\n",
      "4 96\n",
      "4 97\n",
      "4 98\n",
      "4 99\n",
      "5 90\n",
      "5 91\n",
      "5 92\n",
      "5 93\n",
      "5 94\n",
      "5 95\n",
      "5 96\n",
      "5 97\n",
      "5 98\n",
      "5 99\n",
      "6 90\n",
      "6 91\n",
      "6 92\n",
      "6 93\n",
      "6 94\n",
      "6 95\n",
      "6 96\n",
      "6 97\n",
      "6 98\n",
      "6 99\n",
      "7 90\n",
      "7 91\n",
      "7 92\n",
      "7 93\n",
      "7 94\n",
      "7 95\n",
      "7 96\n",
      "7 97\n",
      "7 98\n",
      "7 99\n",
      "8 90\n",
      "8 91\n",
      "8 92\n",
      "8 93\n",
      "8 94\n",
      "8 95\n",
      "8 96\n",
      "8 97\n",
      "8 98\n",
      "8 99\n",
      "9 90\n",
      "9 91\n",
      "9 92\n",
      "9 93\n",
      "9 94\n",
      "9 95\n",
      "9 96\n",
      "9 97\n",
      "9 98\n",
      "9 99\n",
      "10 90\n",
      "10 91\n",
      "10 92\n",
      "10 93\n",
      "10 94\n",
      "10 95\n",
      "10 96\n",
      "10 97\n",
      "10 98\n",
      "10 99\n",
      "A096_R.h5\n",
      "1 90\n",
      "1 91\n",
      "1 92\n",
      "1 93\n",
      "1 94\n",
      "1 95\n",
      "1 96\n",
      "1 97\n",
      "1 98\n",
      "1 99\n",
      "2 90\n",
      "2 91\n",
      "2 92\n",
      "2 93\n",
      "2 94\n",
      "2 95\n",
      "2 96\n",
      "2 97\n",
      "2 98\n",
      "2 99\n",
      "3 90\n",
      "3 91\n",
      "3 92\n"
     ]
    },
    {
     "ename": "KeyboardInterrupt",
     "evalue": "",
     "output_type": "error",
     "traceback": [
      "\u001B[0;31m---------------------------------------------------------------------------\u001B[0m",
      "\u001B[0;31mKeyboardInterrupt\u001B[0m                         Traceback (most recent call last)",
      "\u001B[0;32m<ipython-input-98-c6f6eafe33ee>\u001B[0m in \u001B[0;36m<module>\u001B[0;34m\u001B[0m\n\u001B[1;32m     52\u001B[0m                 \u001B[0mprint\u001B[0m\u001B[0;34m(\u001B[0m\u001B[0mlow\u001B[0m\u001B[0;34m,\u001B[0m \u001B[0mhigh\u001B[0m\u001B[0;34m)\u001B[0m\u001B[0;34m\u001B[0m\u001B[0;34m\u001B[0m\u001B[0m\n\u001B[1;32m     53\u001B[0m                 \u001B[0mlow_perc\u001B[0m \u001B[0;34m=\u001B[0m \u001B[0mnp\u001B[0m\u001B[0;34m.\u001B[0m\u001B[0mpercentile\u001B[0m\u001B[0;34m(\u001B[0m\u001B[0mraw\u001B[0m\u001B[0;34m,\u001B[0m \u001B[0mlow\u001B[0m\u001B[0;34m)\u001B[0m\u001B[0;34m\u001B[0m\u001B[0;34m\u001B[0m\u001B[0m\n\u001B[0;32m---> 54\u001B[0;31m                 \u001B[0mhigh_perc\u001B[0m \u001B[0;34m=\u001B[0m \u001B[0mnp\u001B[0m\u001B[0;34m.\u001B[0m\u001B[0mpercentile\u001B[0m\u001B[0;34m(\u001B[0m\u001B[0mraw\u001B[0m\u001B[0;34m,\u001B[0m \u001B[0mhigh\u001B[0m\u001B[0;34m)\u001B[0m\u001B[0;34m\u001B[0m\u001B[0;34m\u001B[0m\u001B[0m\n\u001B[0m\u001B[1;32m     55\u001B[0m \u001B[0;34m\u001B[0m\u001B[0m\n\u001B[1;32m     56\u001B[0m                 \u001B[0mraw_copy\u001B[0m \u001B[0;34m=\u001B[0m \u001B[0mraw_bounded\u001B[0m\u001B[0;34m.\u001B[0m\u001B[0mcopy\u001B[0m\u001B[0;34m(\u001B[0m\u001B[0;34m)\u001B[0m\u001B[0;34m\u001B[0m\u001B[0;34m\u001B[0m\u001B[0m\n",
      "\u001B[0;32m<__array_function__ internals>\u001B[0m in \u001B[0;36mpercentile\u001B[0;34m(*args, **kwargs)\u001B[0m\n",
      "\u001B[0;32m~/anaconda3/envs/mlmed/lib/python3.6/site-packages/numpy/lib/function_base.py\u001B[0m in \u001B[0;36mpercentile\u001B[0;34m(a, q, axis, out, overwrite_input, interpolation, keepdims)\u001B[0m\n\u001B[1;32m   3731\u001B[0m         \u001B[0;32mraise\u001B[0m \u001B[0mValueError\u001B[0m\u001B[0;34m(\u001B[0m\u001B[0;34m\"Percentiles must be in the range [0, 100]\"\u001B[0m\u001B[0;34m)\u001B[0m\u001B[0;34m\u001B[0m\u001B[0;34m\u001B[0m\u001B[0m\n\u001B[1;32m   3732\u001B[0m     return _quantile_unchecked(\n\u001B[0;32m-> 3733\u001B[0;31m         a, q, axis, out, overwrite_input, interpolation, keepdims)\n\u001B[0m\u001B[1;32m   3734\u001B[0m \u001B[0;34m\u001B[0m\u001B[0m\n\u001B[1;32m   3735\u001B[0m \u001B[0;34m\u001B[0m\u001B[0m\n",
      "\u001B[0;32m~/anaconda3/envs/mlmed/lib/python3.6/site-packages/numpy/lib/function_base.py\u001B[0m in \u001B[0;36m_quantile_unchecked\u001B[0;34m(a, q, axis, out, overwrite_input, interpolation, keepdims)\u001B[0m\n\u001B[1;32m   3851\u001B[0m     r, k = _ureduce(a, func=_quantile_ureduce_func, q=q, axis=axis, out=out,\n\u001B[1;32m   3852\u001B[0m                     \u001B[0moverwrite_input\u001B[0m\u001B[0;34m=\u001B[0m\u001B[0moverwrite_input\u001B[0m\u001B[0;34m,\u001B[0m\u001B[0;34m\u001B[0m\u001B[0;34m\u001B[0m\u001B[0m\n\u001B[0;32m-> 3853\u001B[0;31m                     interpolation=interpolation)\n\u001B[0m\u001B[1;32m   3854\u001B[0m     \u001B[0;32mif\u001B[0m \u001B[0mkeepdims\u001B[0m\u001B[0;34m:\u001B[0m\u001B[0;34m\u001B[0m\u001B[0;34m\u001B[0m\u001B[0m\n\u001B[1;32m   3855\u001B[0m         \u001B[0;32mreturn\u001B[0m \u001B[0mr\u001B[0m\u001B[0;34m.\u001B[0m\u001B[0mreshape\u001B[0m\u001B[0;34m(\u001B[0m\u001B[0mq\u001B[0m\u001B[0;34m.\u001B[0m\u001B[0mshape\u001B[0m \u001B[0;34m+\u001B[0m \u001B[0mk\u001B[0m\u001B[0;34m)\u001B[0m\u001B[0;34m\u001B[0m\u001B[0;34m\u001B[0m\u001B[0m\n",
      "\u001B[0;32m~/anaconda3/envs/mlmed/lib/python3.6/site-packages/numpy/lib/function_base.py\u001B[0m in \u001B[0;36m_ureduce\u001B[0;34m(a, func, **kwargs)\u001B[0m\n\u001B[1;32m   3427\u001B[0m         \u001B[0mkeepdim\u001B[0m \u001B[0;34m=\u001B[0m \u001B[0;34m(\u001B[0m\u001B[0;36m1\u001B[0m\u001B[0;34m,\u001B[0m\u001B[0;34m)\u001B[0m \u001B[0;34m*\u001B[0m \u001B[0ma\u001B[0m\u001B[0;34m.\u001B[0m\u001B[0mndim\u001B[0m\u001B[0;34m\u001B[0m\u001B[0;34m\u001B[0m\u001B[0m\n\u001B[1;32m   3428\u001B[0m \u001B[0;34m\u001B[0m\u001B[0m\n\u001B[0;32m-> 3429\u001B[0;31m     \u001B[0mr\u001B[0m \u001B[0;34m=\u001B[0m \u001B[0mfunc\u001B[0m\u001B[0;34m(\u001B[0m\u001B[0ma\u001B[0m\u001B[0;34m,\u001B[0m \u001B[0;34m**\u001B[0m\u001B[0mkwargs\u001B[0m\u001B[0;34m)\u001B[0m\u001B[0;34m\u001B[0m\u001B[0;34m\u001B[0m\u001B[0m\n\u001B[0m\u001B[1;32m   3430\u001B[0m     \u001B[0;32mreturn\u001B[0m \u001B[0mr\u001B[0m\u001B[0;34m,\u001B[0m \u001B[0mkeepdim\u001B[0m\u001B[0;34m\u001B[0m\u001B[0;34m\u001B[0m\u001B[0m\n\u001B[1;32m   3431\u001B[0m \u001B[0;34m\u001B[0m\u001B[0m\n",
      "\u001B[0;32m~/anaconda3/envs/mlmed/lib/python3.6/site-packages/numpy/lib/function_base.py\u001B[0m in \u001B[0;36m_quantile_ureduce_func\u001B[0;34m(a, q, axis, out, overwrite_input, interpolation, keepdims)\u001B[0m\n\u001B[1;32m   3952\u001B[0m         \u001B[0mweights_above\u001B[0m\u001B[0;34m.\u001B[0m\u001B[0mshape\u001B[0m \u001B[0;34m=\u001B[0m \u001B[0mweights_shape\u001B[0m\u001B[0;34m\u001B[0m\u001B[0;34m\u001B[0m\u001B[0m\n\u001B[1;32m   3953\u001B[0m \u001B[0;34m\u001B[0m\u001B[0m\n\u001B[0;32m-> 3954\u001B[0;31m         \u001B[0map\u001B[0m\u001B[0;34m.\u001B[0m\u001B[0mpartition\u001B[0m\u001B[0;34m(\u001B[0m\u001B[0mconcatenate\u001B[0m\u001B[0;34m(\u001B[0m\u001B[0;34m(\u001B[0m\u001B[0mindices_below\u001B[0m\u001B[0;34m,\u001B[0m \u001B[0mindices_above\u001B[0m\u001B[0;34m)\u001B[0m\u001B[0;34m)\u001B[0m\u001B[0;34m,\u001B[0m \u001B[0maxis\u001B[0m\u001B[0;34m=\u001B[0m\u001B[0maxis\u001B[0m\u001B[0;34m)\u001B[0m\u001B[0;34m\u001B[0m\u001B[0;34m\u001B[0m\u001B[0m\n\u001B[0m\u001B[1;32m   3955\u001B[0m \u001B[0;34m\u001B[0m\u001B[0m\n\u001B[1;32m   3956\u001B[0m         \u001B[0;31m# ensure axis with q-th is first\u001B[0m\u001B[0;34m\u001B[0m\u001B[0;34m\u001B[0m\u001B[0;34m\u001B[0m\u001B[0m\n",
      "\u001B[0;31mKeyboardInterrupt\u001B[0m: "
     ]
    }
   ],
   "source": [
    "from scipy.ndimage import percentile_filter, binary_dilation\n",
    "\n",
    "padding = 40\n",
    "def pad_min_max(max, ival):\n",
    "    return slice(\n",
    "        np.clip(ival[0] - padding, a_min=0, a_max=max - 1),\n",
    "        np.clip(ival[1] + padding, a_min=0, a_max=max - 1)\n",
    "    )\n",
    "\n",
    "def get_aneurysm_bounds(mask):\n",
    "    x_s = mask.sum(axis=(1, 2))\n",
    "    y_s = mask.sum(axis=(0, 2))\n",
    "    z_s = mask.sum(axis=(0, 1))\n",
    "\n",
    "    x = np.where(x_s)[0][[0, -1]]\n",
    "    y = np.where(y_s)[0][[0, -1]]\n",
    "    z = np.where(z_s)[0][[0, -1]]\n",
    "\n",
    "    x = pad_min_max(mask.shape[0], x)\n",
    "    y = pad_min_max(mask.shape[1], y)\n",
    "    z = pad_min_max(mask.shape[2], z)\n",
    "\n",
    "    return x, y, z\n",
    "\n",
    "def check_percentile(low, high):\n",
    "\n",
    "\n",
    "    \n",
    "    return s / len(files)\n",
    "\n",
    "start_low = 1\n",
    "start_high = 90\n",
    "r = 10\n",
    "\n",
    "res = np.zeros((15, 15))\n",
    "for file in files:\n",
    "    print(file)\n",
    "    with h5py.File(f\"./data/train/{file}\", \"r\") as f:\n",
    "        gt = f[\"label\"][:]\n",
    "        raw = f[\"raw\"][:]\n",
    "\n",
    "        bounds = get_aneurysm_bounds(gt)\n",
    "\n",
    "        gt_bounded = gt[bounds]\n",
    "        raw_bounded = raw[bounds]\n",
    "\n",
    "        ignore_mask = np.logical_not(binary_dilation(gt_bounded, iterations=5))\n",
    "        gt_bounded[ignore_mask] = 0\n",
    "\n",
    "        for low in range(start_low, start_low + r):\n",
    "            for high in range(start_high, start_high + r):\n",
    "                print(low, high)\n",
    "                low_perc = np.percentile(raw, low)\n",
    "                high_perc = np.percentile(raw, high)\n",
    "                \n",
    "                raw_copy = raw_bounded.copy()\n",
    "                raw_copy[raw_copy < low_perc] = 0\n",
    "                raw_copy[raw_copy > high_perc] = 1\n",
    "                raw_copy[ignore_mask] = 0\n",
    "\n",
    "                res[low - start_low, high - start_high] += np.mean(np.abs(gt_bounded - raw_copy))\n",
    "    \n",
    "\n",
    "        \n",
    "res"
   ]
  },
  {
   "cell_type": "code",
   "execution_count": null,
   "metadata": {
    "pycharm": {
     "name": "#%%\n"
    }
   },
   "outputs": [
    {
     "data": {
      "text/plain": [
       "(10, 99)"
      ]
     },
     "execution_count": 58,
     "metadata": {},
     "output_type": "execute_result"
    }
   ],
   "source": [
    "res[:10, :10].argmin()\n",
    "t = res[:10, :10]\n",
    "m = np.unravel_index(t.argmin(), t.shape)\n",
    "m[0] + start_low, m[1] + start_high"
   ]
  },
  {
   "cell_type": "code",
   "execution_count": null,
   "metadata": {
    "pycharm": {
     "name": "#%%\n"
    }
   },
   "outputs": [],
   "source": []
  },
  {
   "cell_type": "code",
   "execution_count": null,
   "metadata": {
    "pycharm": {
     "name": "#%%\n"
    }
   },
   "outputs": [],
   "source": []
  },
  {
   "cell_type": "code",
   "execution_count": 4,
   "metadata": {
    "pycharm": {
     "name": "#%%\n"
    }
   },
   "outputs": [],
   "source": [
    "padding = 50\n",
    "def pad_min_max(max, ival):\n",
    "    return slice(\n",
    "        np.clip(ival[0] - padding, a_min=0, a_max=max - 1),\n",
    "        np.clip(ival[1] + padding, a_min=0, a_max=max - 1)\n",
    "    )\n",
    "\n",
    "def get_aneurysm_bounds(mask):\n",
    "    x_s = mask.sum(axis=(1, 2))\n",
    "    y_s = mask.sum(axis=(0, 2))\n",
    "    z_s = mask.sum(axis=(0, 1))\n",
    "\n",
    "    x = np.where(x_s)[0][[0, -1]]\n",
    "    y = np.where(y_s)[0][[0, -1]]\n",
    "    z = np.where(z_s)[0][[0, -1]]\n",
    "\n",
    "    x = pad_min_max(mask.shape[0], x)\n",
    "    y = pad_min_max(mask.shape[1], y)\n",
    "    z = pad_min_max(mask.shape[2], z)\n",
    "\n",
    "    return x, y, z"
   ]
  },
  {
   "cell_type": "code",
   "execution_count": 20,
   "metadata": {
    "pycharm": {
     "name": "#%%\n"
    }
   },
   "outputs": [
    {
     "data": {
      "application/vnd.jupyter.widget-view+json": {
       "model_id": "bc06e978e0f840a292aac94ca3bfeeb2",
       "version_major": 2,
       "version_minor": 0
      },
      "text/plain": [
       "Canvas(toolbar=Toolbar(toolitems=[('Home', 'Reset original view', 'home', 'home'), ('Back', 'Back to previous …"
      ]
     },
     "metadata": {},
     "output_type": "display_data"
    },
    {
     "data": {
      "application/vnd.jupyter.widget-view+json": {
       "model_id": "e1035083466d4a21a0a24426dcc79dbb",
       "version_major": 2,
       "version_minor": 0
      },
      "text/plain": [
       "IntSlider(value=64, description='Slice', max=128)"
      ]
     },
     "metadata": {},
     "output_type": "display_data"
    }
   ],
   "source": [
    "import torch\n",
    "f = h5py.File(\"./test/2800_0.h5\", \"r\")\n",
    "gt = f[\"label\"][0, 0]\n",
    "pred = f[\"pred\"][0, 0]\n",
    "raw = f[\"raw\"][0, 0]\n",
    "\n",
    "\n",
    "#pred = (torch.sigmoid(torch.from_numpy(pred)) > 0.5).long()\n",
    "\n",
    "\n",
    "fig, slider = plot3d(raw, pred)\n",
    "slider"
   ]
  },
  {
   "cell_type": "code",
   "execution_count": 7,
   "metadata": {
    "pycharm": {
     "name": "#%%\n"
    }
   },
   "outputs": [
    {
     "name": "stdout",
     "output_type": "stream",
     "text": [
      "count    33.000000\n",
      "mean      0.964741\n",
      "std       0.029528\n",
      "min       0.866838\n",
      "25%       0.949482\n",
      "50%       0.970121\n",
      "75%       0.986667\n",
      "max       1.000000\n",
      "dtype: float64\n",
      "count    33.000000\n",
      "mean      0.013147\n",
      "std       0.002039\n",
      "min       0.008905\n",
      "25%       0.012248\n",
      "50%       0.013932\n",
      "75%       0.014500\n",
      "max       0.016158\n",
      "dtype: float64\n"
     ]
    }
   ],
   "source": [
    "from scipy.ndimage import percentile_filter, binary_dilation, maximum_filter, minimum_filter, generic_filter\n",
    "import pandas as pd\n",
    "i = 0\n",
    "\n",
    "img, mask = load_case(i)\n",
    "img /= img.max()\n",
    "\n",
    "# img_t = raw_transform(img)\n",
    "# mask_t = label_transform(mask)\n",
    "\n",
    "# img = img[:128, :128, 128]\n",
    "# mask = mask[128, :128, 128]\n",
    "\n",
    "# out_img = percentile_filter(img, size=3, percentile=50)\n",
    "\n",
    "def transform(img, mask):\n",
    "    high_perc = np.percentile(img, 99)\n",
    "    img_b = img.copy()\n",
    "    img_b[img_b >= high_perc] = 1\n",
    "    img_b[img_b < high_perc] = 0\n",
    "    img_b = minimum_filter(img_b, size=2)\n",
    "    img_b = binary_dilation(img_b, iterations=2)\n",
    "\n",
    "    # img[mask_e != 1] = 0\n",
    "\n",
    "    return img_b, mask\n",
    "\n",
    "def calc_overlap(img_b, mask):\n",
    "    return np.mean(img_b[mask == 1])\n",
    "\n",
    "ret = []\n",
    "ret_2 = []\n",
    "\n",
    "for i in range(len(files)):\n",
    "    img, mask = load_case(i)\n",
    "    img /= img.max()\n",
    "    img_b, mask = transform(img, mask)\n",
    "    ret.append(calc_overlap(img_b, mask))\n",
    "    ret_2.append(img_b.sum() / (img_b.shape[0] * img_b.shape[1] * img_b.shape[2]))\n",
    "\n",
    "s = pd.Series(ret)\n",
    "s_2 = pd.Series(ret_2)\n",
    "print(s.describe())\n",
    "print(s_2.describe())\n",
    "\n",
    "\n",
    "# bounds = get_aneurysm_bounds(mask)\n",
    "\n",
    "# zero_mask = np.zeros(img_b.shape)\n",
    "# print(calc_overlap(img_b, mask))\n",
    "\n",
    "# fig, slider, show_mask = plot3d(img_b[bounds], mask[bounds])\n",
    "\n",
    "# widgets.Box(\n",
    "#     [slider, show_mask]\n",
    "# )\n"
   ]
  },
  {
   "cell_type": "code",
   "execution_count": null,
   "metadata": {
    "pycharm": {
     "name": "#%%\n"
    }
   },
   "outputs": [],
   "source": [
    "Coverage 1 weniger\n",
    "count    75.000000\n",
    "mean      0.850895\n",
    "std       0.067300\n",
    "min       0.658271\n",
    "25%       0.818405\n",
    "50%       0.867841\n",
    "75%       0.898143\n",
    "max       0.942187\n",
    "\n",
    "Coverage\n",
    "count    75.000000\n",
    "mean      0.997276\n",
    "std       0.008810\n",
    "min       0.931575\n",
    "25%       0.997698\n",
    "50%       0.999767\n",
    "75%       1.000000\n",
    "max       1.000000\n",
    "\n",
    "% of input\n",
    "dtype: float64\n",
    "count    75.000000\n",
    "mean      0.020444\n",
    "std       0.003271\n",
    "min       0.009217\n",
    "25%       0.018929\n",
    "50%       0.020931\n",
    "75%       0.022494\n",
    "max       0.025825\n",
    "dtype: float64"
   ]
  }
 ],
 "metadata": {
  "kernelspec": {
   "display_name": "Python 3.6.9 ('mlmed')",
   "language": "python",
   "name": "python3"
  },
  "language_info": {
   "codemirror_mode": {
    "name": "ipython",
    "version": 3
   },
   "file_extension": ".py",
   "mimetype": "text/x-python",
   "name": "python",
   "nbconvert_exporter": "python",
   "pygments_lexer": "ipython3",
   "version": "3.6.9"
  },
  "vscode": {
   "interpreter": {
    "hash": "2f6205960b311e377f41cf8daf6c1745eda188400d19cb467b1330fee120c973"
   }
  }
 },
 "nbformat": 4,
 "nbformat_minor": 1
}