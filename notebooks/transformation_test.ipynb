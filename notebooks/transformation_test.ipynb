{
 "cells": [
  {
   "cell_type": "code",
   "execution_count": 1,
   "metadata": {
    "pycharm": {
     "name": "#%%\n"
    }
   },
   "outputs": [],
   "source": [
    "import matplotlib.pyplot as plt\n",
    "import numpy as np\n",
    "import h5py\n",
    "from ipywidgets import widgets\n",
    "%matplotlib widget\n",
    "\n",
    "def mask_overlay(image, mask, color=(0., 1., 0.), weight=.8):\n",
    "    \"\"\"\n",
    "    Helper function to visualize mask on the top of the aneurysm\n",
    "    \"\"\"\n",
    "    mask = np.dstack((mask, mask, mask)) * np.array(color)\n",
    "    mask = mask.astype(np.uint8)\n",
    "    weighted_sum = image * weight + mask * (1 - weight) # cv2.addWeighted(image, 1 - weight, mask, weight, 0.,  dtype=cv2.CV_32F)\n",
    "    img = image.copy()\n",
    "    ind = mask[:, :, 1] > 0\n",
    "    img[ind] = weighted_sum[ind]\n",
    "    return img\n",
    "\n",
    "\n",
    "class ImageSlicer(object):\n",
    "\n",
    "    def __init__(self, ax, img, mask, start_index):\n",
    "        self.ax = ax\n",
    "\n",
    "        # convert to numpy array\n",
    "        self.image_np = img\n",
    "        self.mask_np = mask\n",
    "\n",
    "        # get number of slices\n",
    "        _, _, self.slices = self.image_np.shape\n",
    "        self.ind = start_index if start_index is not None else self.slices // 2\n",
    "        self.show_mask = True\n",
    "\n",
    "        # plot image with mask overlay\n",
    "        self.image_plt = self.ax.imshow(self.overlay)\n",
    "        self._draw()\n",
    "\n",
    "    @property\n",
    "    def overlay(self):\n",
    "        # get image and mask slice\n",
    "        image = self.image_np[:, :, self.ind]\n",
    "        image = image / np.max(image)\n",
    "        image = np.dstack((image, image, image))\n",
    "        mask = self.mask_np[:, :, self.ind]\n",
    "\n",
    "        # create masked overlay\n",
    "        if self.show_mask:\n",
    "            return mask_overlay(image, mask)\n",
    "        else: \n",
    "            return image\n",
    "\n",
    "    def onscroll(self, event):\n",
    "\n",
    "        # get new slice number\n",
    "        self.ind = event['new']\n",
    "        self.update()\n",
    "\n",
    "    def on_show_mask(self, event):\n",
    "\n",
    "        self.show_mask = event['new']\n",
    "        with open(\"file.txt\", \"a\") as f:\n",
    "            f.write(f\"{self.show_mask}\\n\")\n",
    "        self.update()\n",
    "\n",
    "    def update(self):\n",
    "\n",
    "        # draw overlay\n",
    "        self.image_plt.set_data(self.overlay)\n",
    "        self._draw()\n",
    "\n",
    "    def _draw(self):\n",
    "        try:\n",
    "            self.image_plt.axes.figure.canvas.draw()\n",
    "        except Exception as e:\n",
    "            with open(\"file.txt\", \"a\") as f:\n",
    "                f.write(f\"Exception {e}\\n\")\n",
    "            pass\n",
    "\n",
    "\n",
    "def plot3d(img, mask, start_index = None):\n",
    "\n",
    "    #\n",
    "    figure, ax = plt.subplots(1, 1)\n",
    "    tracker = ImageSlicer(ax, img, mask, start_index)\n",
    "\n",
    "    #\n",
    "    int_slider = widgets.IntSlider(\n",
    "        value=tracker.ind,\n",
    "        min=0,\n",
    "        max=tracker.slices,\n",
    "        step=1,\n",
    "        description='Slice',\n",
    "        continuous_update=True\n",
    "    )\n",
    "    int_slider.observe(tracker.onscroll, 'value')\n",
    "\n",
    "    show_mask = widgets.Checkbox(\n",
    "        value=True,\n",
    "        description='Show Mask',\n",
    "        disabled=False,\n",
    "        indent=False\n",
    "    )\n",
    "    show_mask.observe(tracker.on_show_mask, 'value')\n",
    "\n",
    "    return figure, int_slider, show_mask\n",
    "\n"
   ]
  },
  {
   "cell_type": "code",
   "execution_count": 2,
   "metadata": {
    "pycharm": {
     "name": "#%%\n"
    }
   },
   "outputs": [
    {
     "name": "stdout",
     "output_type": "stream",
     "text": [
      "['A024.h5', 'A096_R.h5', 'A094_R.h5', 'A054.h5', 'A121.h5', 'A088.h5', 'A093.h5', 'A009.h5', 'A091_R.h5', 'A126.h5', 'A119.h5', 'A083.h5', 'A100.h5', 'A098.h5', 'A057.h5', 'A010.h5', 'A130_L.h5', 'A124.h5', 'A046.h5', 'A038_M.h5', 'A130_R.h5', 'A078_L.h5', 'A059_L.h5', 'A035.h5', 'A042.h5', 'A062_L.h5', 'A095.h5', 'A068.h5', 'A040.h5', 'A108.h5', 'A105_L.h5', 'A025.h5', 'A138.h5', 'A127.h5', 'A086.h5', 'A045.h5', 'A112.h5', 'A060.h5', 'A076.h5', 'A026.h5', 'A017_L.h5', 'A021.h5', 'A013.h5', 'A005.h5', 'A082.h5', 'A071.h5', 'A136.h5', 'A006.h5', 'A038_R.h5', 'A067.h5', 'A115.h5', 'A087.h5', 'A079.h5', 'A074.h5', 'A015.h5', 'A001.h5', 'A135.h5', 'A081.h5', 'PA5.h5', 'A123.h5', 'A064.h5', 'PA6.h5', 'A073.h5', 'A092.h5', 'A113.h5', 'A023_R.h5', 'A114.h5', 'A120.h5', 'A038_L.h5', 'A041.h5', 'A016.h5', 'A089_R.h5', 'A044.h5', 'A129.h5', 'A050.h5']\n"
     ]
    }
   ],
   "source": [
    "import yaml\n",
    "import os\n",
    "from pytorch3dunet.augment.transforms import Transformer\n",
    "\n",
    "config_path = \"./train-configs/aug_tests/id.yml\"\n",
    "\n",
    "config = yaml.safe_load(open(config_path, 'r'))\n",
    "\n",
    "transform_config = config[\"loaders\"][\"train\"][\"transformer\"]\n",
    "datapath = config[\"loaders\"][\"train\"][\"file_paths\"][0]\n",
    "\n",
    "transformer = Transformer(transform_config, {})\n",
    "raw_transform = transformer.raw_transform()\n",
    "label_transform = transformer.label_transform()\n",
    "\n",
    "files = os.listdir(\"./data/train\")\n",
    "print(files)"
   ]
  },
  {
   "cell_type": "code",
   "execution_count": 98,
   "metadata": {
    "pycharm": {
     "name": "#%%\n"
    }
   },
   "outputs": [
    {
     "name": "stdout",
     "output_type": "stream",
     "text": [
      "A024.h5\n",
      "1 90\n",
      "1 91\n",
      "1 92\n",
      "1 93\n",
      "1 94\n",
      "1 95\n",
      "1 96\n",
      "1 97\n",
      "1 98\n",
      "1 99\n",
      "2 90\n",
      "2 91\n",
      "2 92\n",
      "2 93\n",
      "2 94\n",
      "2 95\n",
      "2 96\n",
      "2 97\n",
      "2 98\n",
      "2 99\n",
      "3 90\n",
      "3 91\n",
      "3 92\n",
      "3 93\n",
      "3 94\n",
      "3 95\n",
      "3 96\n",
      "3 97\n",
      "3 98\n",
      "3 99\n",
      "4 90\n",
      "4 91\n",
      "4 92\n",
      "4 93\n",
      "4 94\n",
      "4 95\n",
      "4 96\n",
      "4 97\n",
      "4 98\n",
      "4 99\n",
      "5 90\n",
      "5 91\n",
      "5 92\n",
      "5 93\n",
      "5 94\n",
      "5 95\n",
      "5 96\n",
      "5 97\n",
      "5 98\n",
      "5 99\n",
      "6 90\n",
      "6 91\n",
      "6 92\n",
      "6 93\n",
      "6 94\n",
      "6 95\n",
      "6 96\n",
      "6 97\n",
      "6 98\n",
      "6 99\n",
      "7 90\n",
      "7 91\n",
      "7 92\n",
      "7 93\n",
      "7 94\n",
      "7 95\n",
      "7 96\n",
      "7 97\n",
      "7 98\n",
      "7 99\n",
      "8 90\n",
      "8 91\n",
      "8 92\n",
      "8 93\n",
      "8 94\n",
      "8 95\n",
      "8 96\n",
      "8 97\n",
      "8 98\n",
      "8 99\n",
      "9 90\n",
      "9 91\n",
      "9 92\n",
      "9 93\n",
      "9 94\n",
      "9 95\n",
      "9 96\n",
      "9 97\n",
      "9 98\n",
      "9 99\n",
      "10 90\n",
      "10 91\n",
      "10 92\n",
      "10 93\n",
      "10 94\n",
      "10 95\n",
      "10 96\n",
      "10 97\n",
      "10 98\n",
      "10 99\n",
      "A096_R.h5\n",
      "1 90\n",
      "1 91\n",
      "1 92\n",
      "1 93\n",
      "1 94\n",
      "1 95\n",
      "1 96\n",
      "1 97\n",
      "1 98\n",
      "1 99\n",
      "2 90\n",
      "2 91\n",
      "2 92\n",
      "2 93\n",
      "2 94\n",
      "2 95\n",
      "2 96\n",
      "2 97\n",
      "2 98\n",
      "2 99\n",
      "3 90\n",
      "3 91\n",
      "3 92\n"
     ]
    },
    {
     "ename": "KeyboardInterrupt",
     "evalue": "",
     "output_type": "error",
     "traceback": [
      "\u001B[0;31m---------------------------------------------------------------------------\u001B[0m",
      "\u001B[0;31mKeyboardInterrupt\u001B[0m                         Traceback (most recent call last)",
      "\u001B[0;32m<ipython-input-98-c6f6eafe33ee>\u001B[0m in \u001B[0;36m<module>\u001B[0;34m\u001B[0m\n\u001B[1;32m     52\u001B[0m                 \u001B[0mprint\u001B[0m\u001B[0;34m(\u001B[0m\u001B[0mlow\u001B[0m\u001B[0;34m,\u001B[0m \u001B[0mhigh\u001B[0m\u001B[0;34m)\u001B[0m\u001B[0;34m\u001B[0m\u001B[0;34m\u001B[0m\u001B[0m\n\u001B[1;32m     53\u001B[0m                 \u001B[0mlow_perc\u001B[0m \u001B[0;34m=\u001B[0m \u001B[0mnp\u001B[0m\u001B[0;34m.\u001B[0m\u001B[0mpercentile\u001B[0m\u001B[0;34m(\u001B[0m\u001B[0mraw\u001B[0m\u001B[0;34m,\u001B[0m \u001B[0mlow\u001B[0m\u001B[0;34m)\u001B[0m\u001B[0;34m\u001B[0m\u001B[0;34m\u001B[0m\u001B[0m\n\u001B[0;32m---> 54\u001B[0;31m                 \u001B[0mhigh_perc\u001B[0m \u001B[0;34m=\u001B[0m \u001B[0mnp\u001B[0m\u001B[0;34m.\u001B[0m\u001B[0mpercentile\u001B[0m\u001B[0;34m(\u001B[0m\u001B[0mraw\u001B[0m\u001B[0;34m,\u001B[0m \u001B[0mhigh\u001B[0m\u001B[0;34m)\u001B[0m\u001B[0;34m\u001B[0m\u001B[0;34m\u001B[0m\u001B[0m\n\u001B[0m\u001B[1;32m     55\u001B[0m \u001B[0;34m\u001B[0m\u001B[0m\n\u001B[1;32m     56\u001B[0m                 \u001B[0mraw_copy\u001B[0m \u001B[0;34m=\u001B[0m \u001B[0mraw_bounded\u001B[0m\u001B[0;34m.\u001B[0m\u001B[0mcopy\u001B[0m\u001B[0;34m(\u001B[0m\u001B[0;34m)\u001B[0m\u001B[0;34m\u001B[0m\u001B[0;34m\u001B[0m\u001B[0m\n",
      "\u001B[0;32m<__array_function__ internals>\u001B[0m in \u001B[0;36mpercentile\u001B[0;34m(*args, **kwargs)\u001B[0m\n",
      "\u001B[0;32m~/anaconda3/envs/mlmed/lib/python3.6/site-packages/numpy/lib/function_base.py\u001B[0m in \u001B[0;36mpercentile\u001B[0;34m(a, q, axis, out, overwrite_input, interpolation, keepdims)\u001B[0m\n\u001B[1;32m   3731\u001B[0m         \u001B[0;32mraise\u001B[0m \u001B[0mValueError\u001B[0m\u001B[0;34m(\u001B[0m\u001B[0;34m\"Percentiles must be in the range [0, 100]\"\u001B[0m\u001B[0;34m)\u001B[0m\u001B[0;34m\u001B[0m\u001B[0;34m\u001B[0m\u001B[0m\n\u001B[1;32m   3732\u001B[0m     return _quantile_unchecked(\n\u001B[0;32m-> 3733\u001B[0;31m         a, q, axis, out, overwrite_input, interpolation, keepdims)\n\u001B[0m\u001B[1;32m   3734\u001B[0m \u001B[0;34m\u001B[0m\u001B[0m\n\u001B[1;32m   3735\u001B[0m \u001B[0;34m\u001B[0m\u001B[0m\n",
      "\u001B[0;32m~/anaconda3/envs/mlmed/lib/python3.6/site-packages/numpy/lib/function_base.py\u001B[0m in \u001B[0;36m_quantile_unchecked\u001B[0;34m(a, q, axis, out, overwrite_input, interpolation, keepdims)\u001B[0m\n\u001B[1;32m   3851\u001B[0m     r, k = _ureduce(a, func=_quantile_ureduce_func, q=q, axis=axis, out=out,\n\u001B[1;32m   3852\u001B[0m                     \u001B[0moverwrite_input\u001B[0m\u001B[0;34m=\u001B[0m\u001B[0moverwrite_input\u001B[0m\u001B[0;34m,\u001B[0m\u001B[0;34m\u001B[0m\u001B[0;34m\u001B[0m\u001B[0m\n\u001B[0;32m-> 3853\u001B[0;31m                     interpolation=interpolation)\n\u001B[0m\u001B[1;32m   3854\u001B[0m     \u001B[0;32mif\u001B[0m \u001B[0mkeepdims\u001B[0m\u001B[0;34m:\u001B[0m\u001B[0;34m\u001B[0m\u001B[0;34m\u001B[0m\u001B[0m\n\u001B[1;32m   3855\u001B[0m         \u001B[0;32mreturn\u001B[0m \u001B[0mr\u001B[0m\u001B[0;34m.\u001B[0m\u001B[0mreshape\u001B[0m\u001B[0;34m(\u001B[0m\u001B[0mq\u001B[0m\u001B[0;34m.\u001B[0m\u001B[0mshape\u001B[0m \u001B[0;34m+\u001B[0m \u001B[0mk\u001B[0m\u001B[0;34m)\u001B[0m\u001B[0;34m\u001B[0m\u001B[0;34m\u001B[0m\u001B[0m\n",
      "\u001B[0;32m~/anaconda3/envs/mlmed/lib/python3.6/site-packages/numpy/lib/function_base.py\u001B[0m in \u001B[0;36m_ureduce\u001B[0;34m(a, func, **kwargs)\u001B[0m\n\u001B[1;32m   3427\u001B[0m         \u001B[0mkeepdim\u001B[0m \u001B[0;34m=\u001B[0m \u001B[0;34m(\u001B[0m\u001B[0;36m1\u001B[0m\u001B[0;34m,\u001B[0m\u001B[0;34m)\u001B[0m \u001B[0;34m*\u001B[0m \u001B[0ma\u001B[0m\u001B[0;34m.\u001B[0m\u001B[0mndim\u001B[0m\u001B[0;34m\u001B[0m\u001B[0;34m\u001B[0m\u001B[0m\n\u001B[1;32m   3428\u001B[0m \u001B[0;34m\u001B[0m\u001B[0m\n\u001B[0;32m-> 3429\u001B[0;31m     \u001B[0mr\u001B[0m \u001B[0;34m=\u001B[0m \u001B[0mfunc\u001B[0m\u001B[0;34m(\u001B[0m\u001B[0ma\u001B[0m\u001B[0;34m,\u001B[0m \u001B[0;34m**\u001B[0m\u001B[0mkwargs\u001B[0m\u001B[0;34m)\u001B[0m\u001B[0;34m\u001B[0m\u001B[0;34m\u001B[0m\u001B[0m\n\u001B[0m\u001B[1;32m   3430\u001B[0m     \u001B[0;32mreturn\u001B[0m \u001B[0mr\u001B[0m\u001B[0;34m,\u001B[0m \u001B[0mkeepdim\u001B[0m\u001B[0;34m\u001B[0m\u001B[0;34m\u001B[0m\u001B[0m\n\u001B[1;32m   3431\u001B[0m \u001B[0;34m\u001B[0m\u001B[0m\n",
      "\u001B[0;32m~/anaconda3/envs/mlmed/lib/python3.6/site-packages/numpy/lib/function_base.py\u001B[0m in \u001B[0;36m_quantile_ureduce_func\u001B[0;34m(a, q, axis, out, overwrite_input, interpolation, keepdims)\u001B[0m\n\u001B[1;32m   3952\u001B[0m         \u001B[0mweights_above\u001B[0m\u001B[0;34m.\u001B[0m\u001B[0mshape\u001B[0m \u001B[0;34m=\u001B[0m \u001B[0mweights_shape\u001B[0m\u001B[0;34m\u001B[0m\u001B[0;34m\u001B[0m\u001B[0m\n\u001B[1;32m   3953\u001B[0m \u001B[0;34m\u001B[0m\u001B[0m\n\u001B[0;32m-> 3954\u001B[0;31m         \u001B[0map\u001B[0m\u001B[0;34m.\u001B[0m\u001B[0mpartition\u001B[0m\u001B[0;34m(\u001B[0m\u001B[0mconcatenate\u001B[0m\u001B[0;34m(\u001B[0m\u001B[0;34m(\u001B[0m\u001B[0mindices_below\u001B[0m\u001B[0;34m,\u001B[0m \u001B[0mindices_above\u001B[0m\u001B[0;34m)\u001B[0m\u001B[0;34m)\u001B[0m\u001B[0;34m,\u001B[0m \u001B[0maxis\u001B[0m\u001B[0;34m=\u001B[0m\u001B[0maxis\u001B[0m\u001B[0;34m)\u001B[0m\u001B[0;34m\u001B[0m\u001B[0;34m\u001B[0m\u001B[0m\n\u001B[0m\u001B[1;32m   3955\u001B[0m \u001B[0;34m\u001B[0m\u001B[0m\n\u001B[1;32m   3956\u001B[0m         \u001B[0;31m# ensure axis with q-th is first\u001B[0m\u001B[0;34m\u001B[0m\u001B[0;34m\u001B[0m\u001B[0;34m\u001B[0m\u001B[0m\n",
      "\u001B[0;31mKeyboardInterrupt\u001B[0m: "
     ]
    }
   ],
   "source": [
    "from scipy.ndimage import percentile_filter, binary_dilation\n",
    "\n",
    "padding = 40\n",
    "def pad_min_max(max, ival):\n",
    "    return slice(\n",
    "        np.clip(ival[0] - padding, a_min=0, a_max=max - 1),\n",
    "        np.clip(ival[1] + padding, a_min=0, a_max=max - 1)\n",
    "    )\n",
    "\n",
    "def get_aneurysm_bounds(mask):\n",
    "    x_s = mask.sum(axis=(1, 2))\n",
    "    y_s = mask.sum(axis=(0, 2))\n",
    "    z_s = mask.sum(axis=(0, 1))\n",
    "\n",
    "    x = np.where(x_s)[0][[0, -1]]\n",
    "    y = np.where(y_s)[0][[0, -1]]\n",
    "    z = np.where(z_s)[0][[0, -1]]\n",
    "\n",
    "    x = pad_min_max(mask.shape[0], x)\n",
    "    y = pad_min_max(mask.shape[1], y)\n",
    "    z = pad_min_max(mask.shape[2], z)\n",
    "\n",
    "    return x, y, z\n",
    "\n",
    "def check_percentile(low, high):\n",
    "\n",
    "\n",
    "    \n",
    "    return s / len(files)\n",
    "\n",
    "start_low = 1\n",
    "start_high = 90\n",
    "r = 10\n",
    "\n",
    "res = np.zeros((15, 15))\n",
    "for file in files:\n",
    "    print(file)\n",
    "    with h5py.File(f\"./data/train/{file}\", \"r\") as f:\n",
    "        gt = f[\"label\"][:]\n",
    "        raw = f[\"raw\"][:]\n",
    "\n",
    "        bounds = get_aneurysm_bounds(gt)\n",
    "\n",
    "        gt_bounded = gt[bounds]\n",
    "        raw_bounded = raw[bounds]\n",
    "\n",
    "        ignore_mask = np.logical_not(binary_dilation(gt_bounded, iterations=5))\n",
    "        gt_bounded[ignore_mask] = 0\n",
    "\n",
    "        for low in range(start_low, start_low + r):\n",
    "            for high in range(start_high, start_high + r):\n",
    "                print(low, high)\n",
    "                low_perc = np.percentile(raw, low)\n",
    "                high_perc = np.percentile(raw, high)\n",
    "                \n",
    "                raw_copy = raw_bounded.copy()\n",
    "                raw_copy[raw_copy < low_perc] = 0\n",
    "                raw_copy[raw_copy > high_perc] = 1\n",
    "                raw_copy[ignore_mask] = 0\n",
    "\n",
    "                res[low - start_low, high - start_high] += np.mean(np.abs(gt_bounded - raw_copy))\n",
    "    \n",
    "\n",
    "        \n",
    "res"
   ]
  },
  {
   "cell_type": "code",
   "execution_count": null,
   "metadata": {
    "pycharm": {
     "name": "#%%\n"
    }
   },
   "outputs": [
    {
     "data": {
      "text/plain": [
       "(10, 99)"
      ]
     },
     "execution_count": 58,
     "metadata": {},
     "output_type": "execute_result"
    }
   ],
   "source": [
    "res[:10, :10].argmin()\n",
    "t = res[:10, :10]\n",
    "m = np.unravel_index(t.argmin(), t.shape)\n",
    "m[0] + start_low, m[1] + start_high"
   ]
  },
  {
   "cell_type": "code",
   "execution_count": null,
   "metadata": {
    "pycharm": {
     "name": "#%%\n"
    }
   },
   "outputs": [],
   "source": []
  },
  {
   "cell_type": "code",
   "execution_count": null,
   "metadata": {
    "pycharm": {
     "name": "#%%\n"
    }
   },
   "outputs": [],
   "source": []
  },
  {
   "cell_type": "code",
   "execution_count": 22,
   "metadata": {
    "pycharm": {
     "name": "#%%\n"
    }
   },
   "outputs": [],
   "source": [
    "padding = 50\n",
    "def pad_min_max(max, ival):\n",
    "    return slice(\n",
    "        np.clip(ival[0] - padding, a_min=0, a_max=max - 1),\n",
    "        np.clip(ival[1] + padding, a_min=0, a_max=max - 1)\n",
    "    )\n",
    "\n",
    "def get_aneurysm_bounds(mask):\n",
    "    x_s = mask.sum(axis=(1, 2))\n",
    "    y_s = mask.sum(axis=(0, 2))\n",
    "    z_s = mask.sum(axis=(0, 1))\n",
    "\n",
    "    x = np.where(x_s)[0][[0, -1]]\n",
    "    y = np.where(y_s)[0][[0, -1]]\n",
    "    z = np.where(z_s)[0][[0, -1]]\n",
    "\n",
    "    x = pad_min_max(mask.shape[0], x)\n",
    "    y = pad_min_max(mask.shape[1], y)\n",
    "    z = pad_min_max(mask.shape[2], z)\n",
    "\n",
    "    return x, y, z"
   ]
  },
  {
   "cell_type": "code",
   "execution_count": 20,
   "metadata": {
    "pycharm": {
     "name": "#%%\n"
    }
   },
   "outputs": [
    {
     "data": {
      "application/vnd.jupyter.widget-view+json": {
       "model_id": "bc06e978e0f840a292aac94ca3bfeeb2",
       "version_major": 2,
       "version_minor": 0
      },
      "text/plain": [
       "Canvas(toolbar=Toolbar(toolitems=[('Home', 'Reset original view', 'home', 'home'), ('Back', 'Back to previous …"
      ]
     },
     "metadata": {},
     "output_type": "display_data"
    },
    {
     "data": {
      "application/vnd.jupyter.widget-view+json": {
       "model_id": "e1035083466d4a21a0a24426dcc79dbb",
       "version_major": 2,
       "version_minor": 0
      },
      "text/plain": [
       "IntSlider(value=64, description='Slice', max=128)"
      ]
     },
     "metadata": {},
     "output_type": "display_data"
    }
   ],
   "source": [
    "import torch\n",
    "f = h5py.File(\"./test/2800_0.h5\", \"r\")\n",
    "gt = f[\"label\"][0, 0]\n",
    "pred = f[\"pred\"][0, 0]\n",
    "raw = f[\"raw\"][0, 0]\n",
    "\n",
    "\n",
    "#pred = (torch.sigmoid(torch.from_numpy(pred)) > 0.5).long()\n",
    "\n",
    "\n",
    "fig, slider = plot3d(raw, pred)\n",
    "slider"
   ]
  },
  {
   "cell_type": "code",
   "execution_count": 16,
   "metadata": {
    "pycharm": {
     "name": "#%%\n"
    }
   },
   "outputs": [
    {
     "data": {
      "application/vnd.jupyter.widget-view+json": {
       "model_id": "ca4078653e77465f972a4af8ca6cb2b8",
       "version_major": 2,
       "version_minor": 0
      },
      "text/plain": [
       "Canvas(toolbar=Toolbar(toolitems=[('Home', 'Reset original view', 'home', 'home'), ('Back', 'Back to previous …"
      ]
     },
     "metadata": {},
     "output_type": "display_data"
    },
    {
     "name": "stderr",
     "output_type": "stream",
     "text": [
      "/home/lm/anaconda3/envs/mlmed/lib/python3.6/site-packages/ipykernel_launcher.py:42: RuntimeWarning: invalid value encountered in true_divide\n"
     ]
    },
    {
     "data": {
      "application/vnd.jupyter.widget-view+json": {
       "model_id": "d1ccbb60e0954e07bb91a8ff92c66893",
       "version_major": 2,
       "version_minor": 0
      },
      "text/plain": [
       "Box(children=(IntSlider(value=64, description='Slice', max=128), Checkbox(value=True, description='Show Mask',…"
      ]
     },
     "metadata": {},
     "output_type": "display_data"
    }
   ],
   "source": [
    "from scipy.ndimage import percentile_filter, binary_dilation, maximum_filter, minimum_filter, generic_filter\n",
    "import pandas as pd\n",
    "import torch.nn as nn\n",
    "import torch\n",
    "i = 0\n",
    "\n",
    "def load_case(i):\n",
    "    f = h5py.File(f\"./data/train/{files[i]}\", \"r\")\n",
    "    return f[\"raw\"][:], f[\"label\"][:]\n",
    "\n",
    "# img, mask = load_case(i)\n",
    "# img /= img.max()\n",
    "\n",
    "# img_t = raw_transform(img)\n",
    "# mask_t = label_transform(mask)\n",
    "\n",
    "# img = img[:128, :128, 128]\n",
    "# mask = mask[128, :128, 128]\n",
    "\n",
    "# out_img = percentile_filter(img, size=3, percentile=50)\n",
    "\n",
    "def transform(img, mask):\n",
    "    high_perc = np.percentile(img, 99)\n",
    "    print(high_perc)\n",
    "    img_b = img.copy()\n",
    "    img_b[img_b >= high_perc] = 1\n",
    "    img_b[img_b < high_perc] = 0\n",
    "    img_b = minimum_filter(img_b, size=2)\n",
    "    img_b = binary_dilation(img_b, iterations=2)\n",
    "\n",
    "    # img[mask_e != 1] = 0\n",
    "\n",
    "    return img_b, mask\n",
    "\n",
    "def calc_overlap(img_b, mask):\n",
    "    return np.mean(img_b[mask == 1])\n",
    "\n",
    "# ret = []\n",
    "# ret_2 = []\n",
    "\n",
    "# for i in range(len(files)):\n",
    "#     img, mask = load_case(i)\n",
    "#     img /= img.max()\n",
    "#     img_b, mask = transform(img, mask)\n",
    "#     ret.append(calc_overlap(img_b, mask))\n",
    "#     ret_2.append(img_b.sum() / (img_b.shape[0] * img_b.shape[1] * img_b.shape[2]))\n",
    "\n",
    "# s = pd.Series(ret)\n",
    "# s_2 = pd.Series(ret_2)\n",
    "# print(s.describe())\n",
    "# print(s_2.describe())\n",
    "\n",
    "i = 0\n",
    "img, mask = load_case(i)\n",
    "#img_b, mask = transform(img, mask)\n",
    "\n",
    "# bounds = get_aneurysm_bounds(mask)\n",
    "\n",
    "# zero_mask = np.zeros(img_b.shape)\n",
    "# print(calc_overlap(img_b, mask))\n",
    "\n",
    "pool = nn.MaxPool3d((2, 2, 2))\n",
    "img = pool(torch.from_numpy(img[None, None]))[0, 0].numpy()\n",
    "mask = pool(torch.from_numpy(mask[None, None]))[0, 0].numpy()\n",
    "\n",
    "fig, slider, show_mask = plot3d(mask, mask)\n",
    "\n",
    "widgets.Box(\n",
    "    [slider, show_mask]\n",
    ")\n"
   ]
  },
  {
   "cell_type": "code",
   "execution_count": null,
   "metadata": {
    "pycharm": {
     "name": "#%%\n"
    }
   },
   "outputs": [],
   "source": []
  },
  {
   "cell_type": "code",
   "execution_count": null,
   "metadata": {
    "pycharm": {
     "name": "#%%\n"
    }
   },
   "outputs": [],
   "source": [
    "Coverage 1 weniger\n",
    "count    75.000000\n",
    "mean      0.850895\n",
    "std       0.067300\n",
    "min       0.658271\n",
    "25%       0.818405\n",
    "50%       0.867841\n",
    "75%       0.898143\n",
    "max       0.942187\n",
    "\n",
    "Coverage\n",
    "count    75.000000\n",
    "mean      0.997276\n",
    "std       0.008810\n",
    "min       0.931575\n",
    "25%       0.997698\n",
    "50%       0.999767\n",
    "75%       1.000000\n",
    "max       1.000000\n",
    "\n",
    "% of input\n",
    "dtype: float64\n",
    "count    75.000000\n",
    "mean      0.020444\n",
    "std       0.003271\n",
    "min       0.009217\n",
    "25%       0.018929\n",
    "50%       0.020931\n",
    "75%       0.022494\n",
    "max       0.025825\n",
    "dtype: float64"
   ]
  },
  {
   "cell_type": "code",
   "execution_count": 19,
   "metadata": {
    "pycharm": {
     "name": "#%%\n"
    }
   },
   "outputs": [
    {
     "name": "stdout",
     "output_type": "stream",
     "text": [
      "0/75\n",
      "1/75\n",
      "2/75\n",
      "3/75\n",
      "4/75\n",
      "5/75\n",
      "6/75\n",
      "7/75\n",
      "8/75\n",
      "9/75\n",
      "10/75\n",
      "11/75\n",
      "12/75\n",
      "13/75\n",
      "14/75\n",
      "15/75\n",
      "16/75\n",
      "17/75\n",
      "18/75\n",
      "19/75\n",
      "20/75\n",
      "21/75\n",
      "22/75\n",
      "23/75\n",
      "24/75\n",
      "25/75\n",
      "26/75\n",
      "27/75\n",
      "28/75\n",
      "29/75\n",
      "30/75\n",
      "31/75\n",
      "32/75\n",
      "33/75\n",
      "34/75\n",
      "35/75\n",
      "36/75\n"
     ]
    },
    {
     "ename": "ValueError",
     "evalue": "zero-size array to reduction operation minimum which has no identity",
     "output_type": "error",
     "traceback": [
      "\u001B[0;31m---------------------------------------------------------------------------\u001B[0m",
      "\u001B[0;31mValueError\u001B[0m                                Traceback (most recent call last)",
      "\u001B[0;32m<ipython-input-19-dc735ba3a386>\u001B[0m in \u001B[0;36m<module>\u001B[0;34m\u001B[0m\n\u001B[1;32m     15\u001B[0m \u001B[0;34m\u001B[0m\u001B[0m\n\u001B[1;32m     16\u001B[0m     \u001B[0mt\u001B[0m \u001B[0;34m=\u001B[0m \u001B[0mimg\u001B[0m\u001B[0;34m[\u001B[0m\u001B[0mmask\u001B[0m \u001B[0;34m==\u001B[0m \u001B[0;36m1\u001B[0m\u001B[0;34m]\u001B[0m\u001B[0;34m\u001B[0m\u001B[0;34m\u001B[0m\u001B[0m\n\u001B[0;32m---> 17\u001B[0;31m     \u001B[0mret\u001B[0m\u001B[0;34m.\u001B[0m\u001B[0mappend\u001B[0m\u001B[0;34m(\u001B[0m\u001B[0;34m[\u001B[0m\u001B[0mt\u001B[0m\u001B[0;34m.\u001B[0m\u001B[0mmin\u001B[0m\u001B[0;34m(\u001B[0m\u001B[0;34m)\u001B[0m\u001B[0;34m,\u001B[0m \u001B[0mt\u001B[0m\u001B[0;34m.\u001B[0m\u001B[0mmax\u001B[0m\u001B[0;34m(\u001B[0m\u001B[0;34m)\u001B[0m\u001B[0;34m,\u001B[0m \u001B[0mlen\u001B[0m\u001B[0;34m(\u001B[0m\u001B[0mt\u001B[0m\u001B[0;34m)\u001B[0m\u001B[0;34m,\u001B[0m \u001B[0mnp\u001B[0m\u001B[0;34m.\u001B[0m\u001B[0mstd\u001B[0m\u001B[0;34m(\u001B[0m\u001B[0mt\u001B[0m\u001B[0;34m)\u001B[0m\u001B[0;34m,\u001B[0m \u001B[0mnp\u001B[0m\u001B[0;34m.\u001B[0m\u001B[0mmean\u001B[0m\u001B[0;34m(\u001B[0m\u001B[0mt\u001B[0m\u001B[0;34m)\u001B[0m\u001B[0;34m,\u001B[0m \u001B[0mt\u001B[0m\u001B[0;34m.\u001B[0m\u001B[0msum\u001B[0m\u001B[0;34m(\u001B[0m\u001B[0;34m)\u001B[0m \u001B[0;34m/\u001B[0m \u001B[0;34m(\u001B[0m\u001B[0mt\u001B[0m\u001B[0;34m.\u001B[0m\u001B[0mmax\u001B[0m\u001B[0;34m(\u001B[0m\u001B[0;34m)\u001B[0m \u001B[0;34m*\u001B[0m \u001B[0mlen\u001B[0m\u001B[0;34m(\u001B[0m\u001B[0mt\u001B[0m\u001B[0;34m)\u001B[0m\u001B[0;34m)\u001B[0m\u001B[0;34m]\u001B[0m\u001B[0;34m)\u001B[0m\u001B[0;34m\u001B[0m\u001B[0;34m\u001B[0m\u001B[0m\n\u001B[0m\u001B[1;32m     18\u001B[0m \u001B[0;34m\u001B[0m\u001B[0m\n\u001B[1;32m     19\u001B[0m \u001B[0;34m\u001B[0m\u001B[0m\n",
      "\u001B[0;32m~/anaconda3/envs/mlmed/lib/python3.6/site-packages/numpy/core/_methods.py\u001B[0m in \u001B[0;36m_amin\u001B[0;34m(a, axis, out, keepdims, initial, where)\u001B[0m\n\u001B[1;32m     41\u001B[0m def _amin(a, axis=None, out=None, keepdims=False,\n\u001B[1;32m     42\u001B[0m           initial=_NoValue, where=True):\n\u001B[0;32m---> 43\u001B[0;31m     \u001B[0;32mreturn\u001B[0m \u001B[0mumr_minimum\u001B[0m\u001B[0;34m(\u001B[0m\u001B[0ma\u001B[0m\u001B[0;34m,\u001B[0m \u001B[0maxis\u001B[0m\u001B[0;34m,\u001B[0m \u001B[0;32mNone\u001B[0m\u001B[0;34m,\u001B[0m \u001B[0mout\u001B[0m\u001B[0;34m,\u001B[0m \u001B[0mkeepdims\u001B[0m\u001B[0;34m,\u001B[0m \u001B[0minitial\u001B[0m\u001B[0;34m,\u001B[0m \u001B[0mwhere\u001B[0m\u001B[0;34m)\u001B[0m\u001B[0;34m\u001B[0m\u001B[0;34m\u001B[0m\u001B[0m\n\u001B[0m\u001B[1;32m     44\u001B[0m \u001B[0;34m\u001B[0m\u001B[0m\n\u001B[1;32m     45\u001B[0m def _sum(a, axis=None, dtype=None, out=None, keepdims=False,\n",
      "\u001B[0;31mValueError\u001B[0m: zero-size array to reduction operation minimum which has no identity"
     ]
    }
   ],
   "source": [
    "from scipy.ndimage import percentile_filter, binary_dilation, binary_erosion, maximum_filter, minimum_filter, generic_filter\n",
    "import pandas as pd\n",
    "i = 0\n",
    "\n",
    "img, mask = load_case(i)\n",
    "img /= img.max()\n",
    "\n",
    "ret = []\n",
    "for i in range(len(files)):\n",
    "    print(f\"{i}/{len(files)}\")\n",
    "    img, mask = load_case(i)\n",
    "\n",
    "    mask = binary_erosion(mask, iterations=3)\n",
    "\n",
    "\n",
    "    t = img[mask == 1]\n",
    "    ret.append([t.min(), t.max(), len(t), np.std(t), np.mean(t), t.sum() / (t.max() * len(t))])\n",
    "    \n",
    "\n",
    "s_3 = pd.DataFrame(ret, columns=[\"min\", \"max\", \"len\", \"std\", \"mean\", \"ratio\"])"
   ]
  },
  {
   "cell_type": "code",
   "execution_count": 13,
   "metadata": {
    "pycharm": {
     "name": "#%%\n"
    }
   },
   "outputs": [
    {
     "data": {
      "text/html": [
       "<div>\n",
       "<style scoped>\n",
       "    .dataframe tbody tr th:only-of-type {\n",
       "        vertical-align: middle;\n",
       "    }\n",
       "\n",
       "    .dataframe tbody tr th {\n",
       "        vertical-align: top;\n",
       "    }\n",
       "\n",
       "    .dataframe thead th {\n",
       "        text-align: right;\n",
       "    }\n",
       "</style>\n",
       "<table border=\"1\" class=\"dataframe\">\n",
       "  <thead>\n",
       "    <tr style=\"text-align: right;\">\n",
       "      <th></th>\n",
       "      <th>min</th>\n",
       "      <th>max</th>\n",
       "      <th>len</th>\n",
       "      <th>std</th>\n",
       "      <th>mean</th>\n",
       "      <th>ratio</th>\n",
       "    </tr>\n",
       "  </thead>\n",
       "  <tbody>\n",
       "    <tr>\n",
       "      <th>count</th>\n",
       "      <td>75.000000</td>\n",
       "      <td>75.000000</td>\n",
       "      <td>75.000000</td>\n",
       "      <td>75.000000</td>\n",
       "      <td>75.000000</td>\n",
       "      <td>75.000000</td>\n",
       "    </tr>\n",
       "    <tr>\n",
       "      <th>mean</th>\n",
       "      <td>0.012214</td>\n",
       "      <td>0.708982</td>\n",
       "      <td>3614.773333</td>\n",
       "      <td>0.173980</td>\n",
       "      <td>0.346963</td>\n",
       "      <td>0.490403</td>\n",
       "    </tr>\n",
       "    <tr>\n",
       "      <th>std</th>\n",
       "      <td>0.021685</td>\n",
       "      <td>0.127396</td>\n",
       "      <td>7128.514000</td>\n",
       "      <td>0.042325</td>\n",
       "      <td>0.072827</td>\n",
       "      <td>0.062249</td>\n",
       "    </tr>\n",
       "    <tr>\n",
       "      <th>min</th>\n",
       "      <td>0.000000</td>\n",
       "      <td>0.331886</td>\n",
       "      <td>159.000000</td>\n",
       "      <td>0.047812</td>\n",
       "      <td>0.121667</td>\n",
       "      <td>0.337518</td>\n",
       "    </tr>\n",
       "    <tr>\n",
       "      <th>25%</th>\n",
       "      <td>0.000000</td>\n",
       "      <td>0.624898</td>\n",
       "      <td>637.000000</td>\n",
       "      <td>0.145646</td>\n",
       "      <td>0.303383</td>\n",
       "      <td>0.454846</td>\n",
       "    </tr>\n",
       "    <tr>\n",
       "      <th>50%</th>\n",
       "      <td>0.000000</td>\n",
       "      <td>0.706570</td>\n",
       "      <td>1247.000000</td>\n",
       "      <td>0.176744</td>\n",
       "      <td>0.341383</td>\n",
       "      <td>0.489148</td>\n",
       "    </tr>\n",
       "    <tr>\n",
       "      <th>75%</th>\n",
       "      <td>0.021395</td>\n",
       "      <td>0.775113</td>\n",
       "      <td>3548.500000</td>\n",
       "      <td>0.205331</td>\n",
       "      <td>0.389242</td>\n",
       "      <td>0.529372</td>\n",
       "    </tr>\n",
       "    <tr>\n",
       "      <th>max</th>\n",
       "      <td>0.093032</td>\n",
       "      <td>0.942536</td>\n",
       "      <td>41464.000000</td>\n",
       "      <td>0.280563</td>\n",
       "      <td>0.536797</td>\n",
       "      <td>0.667593</td>\n",
       "    </tr>\n",
       "  </tbody>\n",
       "</table>\n",
       "</div>"
      ],
      "text/plain": [
       "             min        max           len        std       mean      ratio\n",
       "count  75.000000  75.000000     75.000000  75.000000  75.000000  75.000000\n",
       "mean    0.012214   0.708982   3614.773333   0.173980   0.346963   0.490403\n",
       "std     0.021685   0.127396   7128.514000   0.042325   0.072827   0.062249\n",
       "min     0.000000   0.331886    159.000000   0.047812   0.121667   0.337518\n",
       "25%     0.000000   0.624898    637.000000   0.145646   0.303383   0.454846\n",
       "50%     0.000000   0.706570   1247.000000   0.176744   0.341383   0.489148\n",
       "75%     0.021395   0.775113   3548.500000   0.205331   0.389242   0.529372\n",
       "max     0.093032   0.942536  41464.000000   0.280563   0.536797   0.667593"
      ]
     },
     "execution_count": 13,
     "metadata": {},
     "output_type": "execute_result"
    }
   ],
   "source": [
    "s.describe()"
   ]
  },
  {
   "cell_type": "code",
   "execution_count": 18,
   "metadata": {
    "pycharm": {
     "name": "#%%\n"
    }
   },
   "outputs": [
    {
     "data": {
      "text/html": [
       "<div>\n",
       "<style scoped>\n",
       "    .dataframe tbody tr th:only-of-type {\n",
       "        vertical-align: middle;\n",
       "    }\n",
       "\n",
       "    .dataframe tbody tr th {\n",
       "        vertical-align: top;\n",
       "    }\n",
       "\n",
       "    .dataframe thead th {\n",
       "        text-align: right;\n",
       "    }\n",
       "</style>\n",
       "<table border=\"1\" class=\"dataframe\">\n",
       "  <thead>\n",
       "    <tr style=\"text-align: right;\">\n",
       "      <th></th>\n",
       "      <th>min</th>\n",
       "      <th>max</th>\n",
       "      <th>len</th>\n",
       "      <th>std</th>\n",
       "      <th>mean</th>\n",
       "      <th>ratio</th>\n",
       "    </tr>\n",
       "  </thead>\n",
       "  <tbody>\n",
       "    <tr>\n",
       "      <th>count</th>\n",
       "      <td>75.000000</td>\n",
       "      <td>75.000000</td>\n",
       "      <td>75.000000</td>\n",
       "      <td>75.000000</td>\n",
       "      <td>75.000000</td>\n",
       "      <td>75.000000</td>\n",
       "    </tr>\n",
       "    <tr>\n",
       "      <th>mean</th>\n",
       "      <td>0.311028</td>\n",
       "      <td>0.703913</td>\n",
       "      <td>2179.920000</td>\n",
       "      <td>0.073762</td>\n",
       "      <td>0.519283</td>\n",
       "      <td>0.737684</td>\n",
       "    </tr>\n",
       "    <tr>\n",
       "      <th>std</th>\n",
       "      <td>0.127894</td>\n",
       "      <td>0.128716</td>\n",
       "      <td>5467.067003</td>\n",
       "      <td>0.029169</td>\n",
       "      <td>0.118223</td>\n",
       "      <td>0.117143</td>\n",
       "    </tr>\n",
       "    <tr>\n",
       "      <th>min</th>\n",
       "      <td>0.023478</td>\n",
       "      <td>0.331886</td>\n",
       "      <td>9.000000</td>\n",
       "      <td>0.019481</td>\n",
       "      <td>0.131613</td>\n",
       "      <td>0.396561</td>\n",
       "    </tr>\n",
       "    <tr>\n",
       "      <th>25%</th>\n",
       "      <td>0.214704</td>\n",
       "      <td>0.622517</td>\n",
       "      <td>143.000000</td>\n",
       "      <td>0.053781</td>\n",
       "      <td>0.454717</td>\n",
       "      <td>0.654247</td>\n",
       "    </tr>\n",
       "    <tr>\n",
       "      <th>50%</th>\n",
       "      <td>0.323343</td>\n",
       "      <td>0.703904</td>\n",
       "      <td>439.000000</td>\n",
       "      <td>0.069557</td>\n",
       "      <td>0.530370</td>\n",
       "      <td>0.758229</td>\n",
       "    </tr>\n",
       "    <tr>\n",
       "      <th>75%</th>\n",
       "      <td>0.391739</td>\n",
       "      <td>0.775113</td>\n",
       "      <td>1709.000000</td>\n",
       "      <td>0.087093</td>\n",
       "      <td>0.604220</td>\n",
       "      <td>0.833005</td>\n",
       "    </tr>\n",
       "    <tr>\n",
       "      <th>max</th>\n",
       "      <td>0.645861</td>\n",
       "      <td>0.942536</td>\n",
       "      <td>31728.000000</td>\n",
       "      <td>0.206786</td>\n",
       "      <td>0.752791</td>\n",
       "      <td>0.957274</td>\n",
       "    </tr>\n",
       "  </tbody>\n",
       "</table>\n",
       "</div>"
      ],
      "text/plain": [
       "             min        max           len        std       mean      ratio\n",
       "count  75.000000  75.000000     75.000000  75.000000  75.000000  75.000000\n",
       "mean    0.311028   0.703913   2179.920000   0.073762   0.519283   0.737684\n",
       "std     0.127894   0.128716   5467.067003   0.029169   0.118223   0.117143\n",
       "min     0.023478   0.331886      9.000000   0.019481   0.131613   0.396561\n",
       "25%     0.214704   0.622517    143.000000   0.053781   0.454717   0.654247\n",
       "50%     0.323343   0.703904    439.000000   0.069557   0.530370   0.758229\n",
       "75%     0.391739   0.775113   1709.000000   0.087093   0.604220   0.833005\n",
       "max     0.645861   0.942536  31728.000000   0.206786   0.752791   0.957274"
      ]
     },
     "execution_count": 18,
     "metadata": {},
     "output_type": "execute_result"
    }
   ],
   "source": [
    "s_2.describe()"
   ]
  },
  {
   "cell_type": "code",
   "execution_count": null,
   "metadata": {
    "pycharm": {
     "name": "#%%\n"
    }
   },
   "outputs": [],
   "source": []
  }
 ],
 "metadata": {
  "kernelspec": {
   "display_name": "Python 3.6.9 ('mlmed')",
   "language": "python",
   "name": "python3"
  },
  "language_info": {
   "codemirror_mode": {
    "name": "ipython",
    "version": 3
   },
   "file_extension": ".py",
   "mimetype": "text/x-python",
   "name": "python",
   "nbconvert_exporter": "python",
   "pygments_lexer": "ipython3",
   "version": "3.6.9"
  },
  "vscode": {
   "interpreter": {
    "hash": "2f6205960b311e377f41cf8daf6c1745eda188400d19cb467b1330fee120c973"
   }
  }
 },
 "nbformat": 4,
 "nbformat_minor": 1
}