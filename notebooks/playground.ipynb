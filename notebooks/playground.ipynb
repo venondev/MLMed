{
 "cells": [
  {
   "cell_type": "code",
   "execution_count": 1,
   "metadata": {
    "pycharm": {
     "name": "#%%\n"
    }
   },
   "outputs": [
    {
     "data": {
      "text/plain": [
       "['A094_R',\n",
       " 'A047',\n",
       " 'A130_L',\n",
       " 'A097',\n",
       " 'A118',\n",
       " 'A003',\n",
       " 'A073',\n",
       " 'A028',\n",
       " 'A081',\n",
       " 'A021',\n",
       " 'A046',\n",
       " 'A115',\n",
       " 'A049',\n",
       " 'A077',\n",
       " 'A013',\n",
       " 'A074',\n",
       " 'A070',\n",
       " 'A105_L',\n",
       " 'A067',\n",
       " 'A012',\n",
       " 'A127',\n",
       " 'A060',\n",
       " 'A035',\n",
       " 'A009',\n",
       " 'A087',\n",
       " 'A095',\n",
       " 'A057',\n",
       " 'A044',\n",
       " 'A024',\n",
       " 'A084',\n",
       " 'A041',\n",
       " 'A059_L',\n",
       " 'A085',\n",
       " 'A076',\n",
       " 'A054',\n",
       " 'A121',\n",
       " 'A033',\n",
       " 'A014',\n",
       " 'PA5',\n",
       " 'A025',\n",
       " 'A001',\n",
       " 'A092',\n",
       " 'A038_R',\n",
       " 'A038_L',\n",
       " 'A062_L',\n",
       " 'A015',\n",
       " 'A138',\n",
       " 'A135',\n",
       " 'A124',\n",
       " 'A079',\n",
       " 'A089_R',\n",
       " 'A051_R',\n",
       " 'A010',\n",
       " 'A056',\n",
       " 'A113',\n",
       " 'A098',\n",
       " 'A103',\n",
       " 'A029',\n",
       " 'A078_L',\n",
       " 'A083',\n",
       " 'A043',\n",
       " 'A119',\n",
       " 'A108',\n",
       " 'A134',\n",
       " 'A038_M',\n",
       " 'A086',\n",
       " 'A082',\n",
       " 'A072',\n",
       " 'A050',\n",
       " 'A091_R',\n",
       " 'A023_R',\n",
       " 'A068',\n",
       " 'A120',\n",
       " 'A071',\n",
       " 'A008',\n",
       " 'A093',\n",
       " 'A040',\n",
       " 'A114',\n",
       " 'A096_R',\n",
       " 'A031',\n",
       " 'A006',\n",
       " 'A096_L',\n",
       " 'A100',\n",
       " 'A129',\n",
       " 'A130_R',\n",
       " 'PA6',\n",
       " 'A016',\n",
       " 'A133',\n",
       " 'A042',\n",
       " 'A018',\n",
       " 'A026',\n",
       " 'A017_L',\n",
       " 'A032',\n",
       " 'A066',\n",
       " 'A123',\n",
       " 'A064',\n",
       " 'A112',\n",
       " 'A088',\n",
       " 'A078_R',\n",
       " 'A126',\n",
       " 'A019',\n",
       " 'A137',\n",
       " 'A136',\n",
       " 'A005',\n",
       " 'A027',\n",
       " 'A045',\n",
       " 'A105_R',\n",
       " 'A059_R',\n",
       " 'A080']"
      ]
     },
     "execution_count": 1,
     "metadata": {},
     "output_type": "execute_result"
    }
   ],
   "source": [
    "import h5py\n",
    "import os\n",
    "import nibabel as nib\n",
    "import torch\n",
    "import numpy as np\n",
    "\n",
    "datapath = \"/home/lm/Schreibtisch/Uni/MedicalML/pytorch-3dunet/data/training\"\n",
    "\n",
    "files = os.listdir(datapath)\n",
    "files = filter(lambda x: x.endswith(\"_orig.nii.gz\"), files)\n",
    "files = list(map(lambda x: x.replace(\"_orig.nii.gz\", \"\"), files))\n",
    "files"
   ]
  },
  {
   "cell_type": "code",
   "execution_count": 2,
   "metadata": {
    "pycharm": {
     "name": "#%%\n"
    }
   },
   "outputs": [
    {
     "name": "stdout",
     "output_type": "stream",
     "text": [
      "Before (256, 256, 228) (256, 256, 228)\n",
      "after (256, 256, 220) (256, 256, 220)\n",
      "Before (256, 256, 221) (256, 256, 221)\n",
      "after (256, 256, 220) (256, 256, 220)\n",
      "Before (256, 256, 228) (256, 256, 228)\n",
      "after (256, 256, 220) (256, 256, 220)\n",
      "Before (256, 256, 218) (256, 256, 218)\n",
      "Diff 2 A114\n",
      "after (256, 256, 220) (256, 256, 220)\n",
      "Before (256, 256, 228) (256, 256, 228)\n",
      "after (256, 256, 220) (256, 256, 220)\n"
     ]
    }
   ],
   "source": [
    "images = []\n",
    "labels = []\n",
    "affines = []\n",
    "cases = []\n",
    "\n",
    "for case in files:\n",
    "        image_raw = nib.load(f\"{datapath}/{case}_orig.nii.gz\")\n",
    "        mask_raw = nib.load(f\"{datapath}/{case}_masks.nii.gz\")\n",
    "\n",
    "        image = image_raw.get_fdata()\n",
    "        mask = mask_raw.get_fdata()\n",
    "\n",
    "        if image.shape != mask.shape:\n",
    "                print(\"Dont match\")\n",
    "                continue\n",
    "\n",
    "        if image.shape[2] < 220:\n",
    "\n",
    "                print(\"Before\", image.shape, mask.shape)\n",
    "                diff = 220 - image.shape[2]\n",
    "                print(\"Diff\", diff, case)\n",
    "                \n",
    "                image = np.concatenate([image] + [image[:, :, -1][:, :, np.newaxis]] * diff, axis=2)\n",
    "                mask = np.concatenate([mask] + [mask[:, :, -1][:, :, np.newaxis]] * diff, axis=2)\n",
    "\n",
    "                print(\"after\", image.shape, mask.shape)\n",
    "                \n",
    "        if image.shape[2] > 220:\n",
    "                print(\"Before\", image.shape, mask.shape)\n",
    "                image = image[:, :, :220]\n",
    "                mask = mask[:, :, :220]\n",
    "                print(\"after\", image.shape, mask.shape)\n",
    "\n",
    "        affine = image_raw.affine\n",
    "\n",
    "        images.append(image)\n",
    "        labels.append(mask)\n",
    "        affines.append(affine)\n",
    "        cases.append(case)"
   ]
  },
  {
   "cell_type": "code",
   "execution_count": 3,
   "metadata": {
    "pycharm": {
     "name": "#%%\n"
    }
   },
   "outputs": [
    {
     "ename": "",
     "evalue": "",
     "output_type": "error",
     "traceback": [
      "\u001B[1;31mThe Kernel crashed while executing code in the the current cell or a previous cell. Please review the code in the cell(s) to identify a possible cause of the failure. Click <a href='https://aka.ms/vscodeJupyterKernelCrash'>here</a> for more info. View Jupyter <a href='command:jupyter.viewOutput'>log</a> for further details."
     ]
    },
    {
     "ename": "",
     "evalue": "",
     "output_type": "error",
     "traceback": [
      "\u001B[1;31mCanceled future for execute_request message before replies were done"
     ]
    }
   ],
   "source": [
    "hf = h5py.File(\"data.h5\", \"w\")\n",
    "\n",
    "hf.create_dataset(\"images\", data=images)\n",
    "hf.create_dataset(\"masks\", data=labels)\n",
    "hf.create_dataset(\"affines\", data=affines)\n",
    "hf.create_dataset(\"names\", data=cases)\n",
    "\n",
    "hf.close()\n",
    "\n"
   ]
  }
 ],
 "metadata": {
  "interpreter": {
   "hash": "2f6205960b311e377f41cf8daf6c1745eda188400d19cb467b1330fee120c973"
  },
  "kernelspec": {
   "display_name": "Python 3.6.9 ('mlmed')",
   "language": "python",
   "name": "python3"
  },
  "language_info": {
   "codemirror_mode": {
    "name": "ipython",
    "version": 3
   },
   "file_extension": ".py",
   "mimetype": "text/x-python",
   "name": "python",
   "nbconvert_exporter": "python",
   "pygments_lexer": "ipython3",
   "version": "3.6.9"
  },
  "orig_nbformat": 4
 },
 "nbformat": 4,
 "nbformat_minor": 2
}