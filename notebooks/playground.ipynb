{
 "cells": [
  {
   "cell_type": "code",
   "execution_count": 1,
   "metadata": {
    "pycharm": {
     "name": "#%%\n"
    }
   },
   "outputs": [
    {
     "ename": "FileNotFoundError",
     "evalue": "[Errno 2] No such file or directory: '/home/lm/Schreibtisch/Uni/MedicalML/pytorch-3dunet/data/training'",
     "output_type": "error",
     "traceback": [
      "\u001B[0;31m---------------------------------------------------------------------------\u001B[0m",
      "\u001B[0;31mFileNotFoundError\u001B[0m                         Traceback (most recent call last)",
      "Input \u001B[0;32mIn [1]\u001B[0m, in \u001B[0;36m<cell line: 9>\u001B[0;34m()\u001B[0m\n\u001B[1;32m      5\u001B[0m \u001B[38;5;28;01mimport\u001B[39;00m \u001B[38;5;21;01mnumpy\u001B[39;00m \u001B[38;5;28;01mas\u001B[39;00m \u001B[38;5;21;01mnp\u001B[39;00m\n\u001B[1;32m      7\u001B[0m datapath \u001B[38;5;241m=\u001B[39m \u001B[38;5;124m\"\u001B[39m\u001B[38;5;124m/home/lm/Schreibtisch/Uni/MedicalML/pytorch-3dunet/data/training\u001B[39m\u001B[38;5;124m\"\u001B[39m\n\u001B[0;32m----> 9\u001B[0m files \u001B[38;5;241m=\u001B[39m \u001B[43mos\u001B[49m\u001B[38;5;241;43m.\u001B[39;49m\u001B[43mlistdir\u001B[49m\u001B[43m(\u001B[49m\u001B[43mdatapath\u001B[49m\u001B[43m)\u001B[49m\n\u001B[1;32m     10\u001B[0m files \u001B[38;5;241m=\u001B[39m \u001B[38;5;28mfilter\u001B[39m(\u001B[38;5;28;01mlambda\u001B[39;00m x: x\u001B[38;5;241m.\u001B[39mendswith(\u001B[38;5;124m\"\u001B[39m\u001B[38;5;124m_orig.nii.gz\u001B[39m\u001B[38;5;124m\"\u001B[39m), files)\n\u001B[1;32m     11\u001B[0m files \u001B[38;5;241m=\u001B[39m \u001B[38;5;28mlist\u001B[39m(\u001B[38;5;28mmap\u001B[39m(\u001B[38;5;28;01mlambda\u001B[39;00m x: x\u001B[38;5;241m.\u001B[39mreplace(\u001B[38;5;124m\"\u001B[39m\u001B[38;5;124m_orig.nii.gz\u001B[39m\u001B[38;5;124m\"\u001B[39m, \u001B[38;5;124m\"\u001B[39m\u001B[38;5;124m\"\u001B[39m), files))\n",
      "\u001B[0;31mFileNotFoundError\u001B[0m: [Errno 2] No such file or directory: '/home/lm/Schreibtisch/Uni/MedicalML/pytorch-3dunet/data/training'"
     ]
    }
   ],
   "source": [
    "import h5py\n",
    "import os\n",
    "import nibabel as nib\n",
    "import torch\n",
    "import numpy as np\n",
    "\n",
    "datapath = \"/home/lm/Schreibtisch/Uni/MedicalML/pytorch-3dunet/data/training\"\n",
    "\n",
    "files = os.listdir(datapath)\n",
    "files = filter(lambda x: x.endswith(\"_orig.nii.gz\"), files)\n",
    "files = list(map(lambda x: x.replace(\"_orig.nii.gz\", \"\"), files))\n",
    "files"
   ]
  },
  {
   "cell_type": "code",
   "execution_count": 14,
   "outputs": [],
   "source": [
    "image_raw = nib.load(f\"/home/philipp/uni/Med/data/training/A001_orig.nii.gz\")"
   ],
   "metadata": {
    "collapsed": false,
    "pycharm": {
     "name": "#%%\n"
    }
   }
  },
  {
   "cell_type": "code",
   "execution_count": 15,
   "outputs": [
    {
     "name": "stdout",
     "output_type": "stream",
     "text": [
      "[1.       0.27148  0.27148  0.270863 0.       0.       0.       0.      ]\n"
     ]
    }
   ],
   "source": [
    "print(image_raw.header.get(\"pixdim\"))\n"
   ],
   "metadata": {
    "collapsed": false,
    "pycharm": {
     "name": "#%%\n"
    }
   }
  },
  {
   "cell_type": "code",
   "execution_count": 2,
   "metadata": {
    "pycharm": {
     "name": "#%%\n"
    }
   },
   "outputs": [
    {
     "name": "stdout",
     "output_type": "stream",
     "text": [
      "Before (256, 256, 228) (256, 256, 228)\n",
      "after (256, 256, 220) (256, 256, 220)\n",
      "Before (256, 256, 221) (256, 256, 221)\n",
      "after (256, 256, 220) (256, 256, 220)\n",
      "Before (256, 256, 228) (256, 256, 228)\n",
      "after (256, 256, 220) (256, 256, 220)\n",
      "Before (256, 256, 218) (256, 256, 218)\n",
      "Diff 2 A114\n",
      "after (256, 256, 220) (256, 256, 220)\n",
      "Before (256, 256, 228) (256, 256, 228)\n",
      "after (256, 256, 220) (256, 256, 220)\n"
     ]
    }
   ],
   "source": [
    "images = []\n",
    "labels = []\n",
    "affines = []\n",
    "cases = []\n",
    "\n",
    "for case in files:\n",
    "        image_raw = nib.load(f\"{datapath}/{case}_orig.nii.gz\")\n",
    "        mask_raw = nib.load(f\"{datapath}/{case}_masks.nii.gz\")\n",
    "\n",
    "        image = image_raw.get_fdata()\n",
    "        mask = mask_raw.get_fdata()\n",
    "\n",
    "        if image.shape != mask.shape:\n",
    "                print(\"Dont match\")\n",
    "                continue\n",
    "\n",
    "        if image.shape[2] < 220:\n",
    "\n",
    "                print(\"Before\", image.shape, mask.shape)\n",
    "                diff = 220 - image.shape[2]\n",
    "                print(\"Diff\", diff, case)\n",
    "                \n",
    "                image = np.concatenate([image] + [image[:, :, -1][:, :, np.newaxis]] * diff, axis=2)\n",
    "                mask = np.concatenate([mask] + [mask[:, :, -1][:, :, np.newaxis]] * diff, axis=2)\n",
    "\n",
    "                print(\"after\", image.shape, mask.shape)\n",
    "                \n",
    "        if image.shape[2] > 220:\n",
    "                print(\"Before\", image.shape, mask.shape)\n",
    "                image = image[:, :, :220]\n",
    "                mask = mask[:, :, :220]\n",
    "                print(\"after\", image.shape, mask.shape)\n",
    "\n",
    "        affine = image_raw.affine\n",
    "\n",
    "        images.append(image)\n",
    "        labels.append(mask)\n",
    "        affines.append(affine)\n",
    "        cases.append(case)"
   ]
  },
  {
   "cell_type": "code",
   "execution_count": 3,
   "metadata": {
    "pycharm": {
     "name": "#%%\n"
    }
   },
   "outputs": [
    {
     "ename": "",
     "evalue": "",
     "output_type": "error",
     "traceback": [
      "\u001B[1;31mThe Kernel crashed while executing code in the the current cell or a previous cell. Please review the code in the cell(s) to identify a possible cause of the failure. Click <a href='https://aka.ms/vscodeJupyterKernelCrash'>here</a> for more info. View Jupyter <a href='command:jupyter.viewOutput'>log</a> for further details."
     ]
    },
    {
     "ename": "",
     "evalue": "",
     "output_type": "error",
     "traceback": [
      "\u001B[1;31mCanceled future for execute_request message before replies were done"
     ]
    }
   ],
   "source": [
    "hf = h5py.File(\"data.h5\", \"w\")\n",
    "\n",
    "hf.create_dataset(\"images\", data=images)\n",
    "hf.create_dataset(\"masks\", data=labels)\n",
    "hf.create_dataset(\"affines\", data=affines)\n",
    "hf.create_dataset(\"names\", data=cases)\n",
    "\n",
    "hf.close()\n",
    "\n"
   ]
  }
 ],
 "metadata": {
  "interpreter": {
   "hash": "2f6205960b311e377f41cf8daf6c1745eda188400d19cb467b1330fee120c973"
  },
  "kernelspec": {
   "display_name": "Python 3.6.9 ('mlmed')",
   "language": "python",
   "name": "python3"
  },
  "language_info": {
   "codemirror_mode": {
    "name": "ipython",
    "version": 3
   },
   "file_extension": ".py",
   "mimetype": "text/x-python",
   "name": "python",
   "nbconvert_exporter": "python",
   "pygments_lexer": "ipython3",
   "version": "3.6.9"
  },
  "orig_nbformat": 4
 },
 "nbformat": 4,
 "nbformat_minor": 2
}