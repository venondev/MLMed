{
 "cells": [
  {
   "cell_type": "code",
   "execution_count": 1,
   "metadata": {
    "pycharm": {
     "name": "#%%\n"
    }
   },
   "outputs": [],
   "source": [
    "%load_ext autoreload\n",
    "%autoreload 2"
   ]
  },
  {
   "cell_type": "code",
   "execution_count": 9,
   "metadata": {
    "collapsed": false,
    "pycharm": {
     "name": "#%%\n"
    }
   },
   "outputs": [
    {
     "name": "stderr",
     "output_type": "stream",
     "text": [
      "[autoreload of pytorch3dunet.datasets.utils failed: Traceback (most recent call last):\n",
      "  File \"/home/lm/anaconda3/envs/mlmed/lib/python3.6/site-packages/IPython/extensions/autoreload.py\", line 245, in check\n",
      "    superreload(m, reload, self.old_objects)\n",
      "  File \"/home/lm/anaconda3/envs/mlmed/lib/python3.6/site-packages/IPython/extensions/autoreload.py\", line 410, in superreload\n",
      "    update_generic(old_obj, new_obj)\n",
      "  File \"/home/lm/anaconda3/envs/mlmed/lib/python3.6/site-packages/IPython/extensions/autoreload.py\", line 347, in update_generic\n",
      "    update(a, b)\n",
      "  File \"/home/lm/anaconda3/envs/mlmed/lib/python3.6/site-packages/IPython/extensions/autoreload.py\", line 302, in update_class\n",
      "    if update_generic(old_obj, new_obj): continue\n",
      "  File \"/home/lm/anaconda3/envs/mlmed/lib/python3.6/site-packages/IPython/extensions/autoreload.py\", line 347, in update_generic\n",
      "    update(a, b)\n",
      "  File \"/home/lm/anaconda3/envs/mlmed/lib/python3.6/site-packages/IPython/extensions/autoreload.py\", line 302, in update_class\n",
      "    if update_generic(old_obj, new_obj): continue\n",
      "  File \"/home/lm/anaconda3/envs/mlmed/lib/python3.6/site-packages/IPython/extensions/autoreload.py\", line 347, in update_generic\n",
      "    update(a, b)\n",
      "  File \"/home/lm/anaconda3/envs/mlmed/lib/python3.6/site-packages/IPython/extensions/autoreload.py\", line 302, in update_class\n",
      "    if update_generic(old_obj, new_obj): continue\n",
      "  File \"/home/lm/anaconda3/envs/mlmed/lib/python3.6/site-packages/IPython/extensions/autoreload.py\", line 347, in update_generic\n",
      "    update(a, b)\n",
      "  File \"/home/lm/anaconda3/envs/mlmed/lib/python3.6/site-packages/IPython/extensions/autoreload.py\", line 302, in update_class\n",
      "    if update_generic(old_obj, new_obj): continue\n",
      "RecursionError: maximum recursion depth exceeded while calling a Python object\n",
      "]\n"
     ]
    }
   ],
   "source": [
    "import yaml\n",
    "import os\n",
    "import h5py\n",
    "import numpy as np\n",
    "import matplotlib.pyplot as plt\n",
    "from pytorch3dunet.augment.transforms import Transformer\n",
    "from pytorch3dunet.datasets.utils import FilterSliceBuilder\n",
    "\n",
    "def calculate_stats(images):\n",
    "    \"\"\"\n",
    "    Calculates min, max, mean, std given a list of ndarrays\n",
    "    \"\"\"\n",
    "    # flatten first since the images might not be the same size\n",
    "    flat = images\n",
    "    # flat = np.concatenate(\n",
    "    #     [img.ravel() for img in images]\n",
    "    # )\n",
    "    return {'pmin': np.percentile(flat, 0.5), 'pmax': np.percentile(flat, 99.5), 'mean': np.mean(flat),\n",
    "            'std': np.std(flat)}\n",
    "\n",
    "\n",
    "def load_transformer(p):\n",
    "    config = yaml.safe_load(open(p, 'r'))\n",
    "\n",
    "    transform_config = config[\"loaders\"][\"train\"][\"transformer\"]\n",
    "    slice_config = config[\"loaders\"][\"train\"][\"slice_builder\"]\n",
    "    datapath = config[\"loaders\"][\"train\"][\"file_paths\"][0]\n",
    "    print(\"datapath\", datapath)\n",
    "\n",
    "\n",
    "    files = os.listdir(datapath)\n",
    "\n",
    "    def load_case(i):\n",
    "        f = h5py.File(i, \"r\")\n",
    "\n",
    "        print(datapath)\n",
    "\n",
    "        raw = f[\"raw\"][:]\n",
    "        mask = f[\"label\"][:]\n",
    "        artery = f[\"artery\"][:]\n",
    "\n",
    "        stats = calculate_stats(raw)\n",
    "        \n",
    "        transformer = Transformer(transform_config, stats)\n",
    "        raw_transform = transformer.raw_transform()\n",
    "        label_transform = transformer.label_transform()\n",
    "\n",
    "        slice_builder = FilterSliceBuilder(raw, mask, None, slice_config[\"patch_shape\"], slice_config[\"stride_shape\"], border=slice_config[\"border\"], threshold=slice_config[\"threshold\"], slack_acceptance=slice_config[\"slack_acceptance\"])\n",
    "\n",
    "        return raw, mask, artery, raw_transform, label_transform, slice_builder\n",
    "\n",
    "    return files, load_case\n",
    "\n",
    "def get_aneurysm_bounds_raw(mask):\n",
    "    x_s = mask.sum(axis=(1, 2))\n",
    "    y_s = mask.sum(axis=(0, 2))\n",
    "    z_s = mask.sum(axis=(0, 1))\n",
    "\n",
    "    x = slice(*np.where(x_s)[0][[0, -1]])\n",
    "    y = slice(*np.where(y_s)[0][[0, -1]])\n",
    "    z = slice(*np.where(z_s)[0][[0, -1]])\n",
    "\n",
    "    return x, y, z\n",
    "\n",
    "def get_aneurysm_bounds(mask):\n",
    "    x_s = mask.sum(axis=(1, 2))\n",
    "    y_s = mask.sum(axis=(0, 2))\n",
    "    z_s = mask.sum(axis=(0, 1))\n",
    "\n",
    "    x = int(np.where(x_s)[0][[0, -1]].mean())\n",
    "    y = int(np.where(y_s)[0][[0, -1]].mean())\n",
    "    z = int(np.where(z_s)[0][[0, -1]].mean())\n",
    "\n",
    "    return x, y, z\n",
    "\n",
    "def mask_overlay(image, mask, color=(0., 1., 0.), weight=.8):\n",
    "    \"\"\"\n",
    "    Helper function to visualize mask on the top of the aneurysm\n",
    "    \"\"\"\n",
    "    mask = np.dstack((mask, mask, mask)) * np.array(color)\n",
    "    mask = mask.astype(np.uint8)\n",
    "\n",
    "    image = np.dstack((image, image, image))\n",
    "    weighted_sum = image * weight + mask * (1 - weight) # cv2.addWeighted(image, 1 - weight, mask, weight, 0.,  dtype=cv2.CV_32F)\n",
    "    img = image.copy()\n",
    "    ind = mask[:, :, 1] > 0\n",
    "    img[ind] = weighted_sum[ind]\n",
    "    return img"
   ]
  },
  {
   "cell_type": "code",
   "execution_count": 11,
   "metadata": {
    "pycharm": {
     "name": "#%%\n"
    }
   },
   "outputs": [
    {
     "name": "stderr",
     "output_type": "stream",
     "text": [
      "[autoreload of pytorch3dunet.datasets.utils failed: Traceback (most recent call last):\n",
      "  File \"/home/lm/anaconda3/envs/mlmed/lib/python3.6/site-packages/IPython/extensions/autoreload.py\", line 245, in check\n",
      "    superreload(m, reload, self.old_objects)\n",
      "  File \"/home/lm/anaconda3/envs/mlmed/lib/python3.6/site-packages/IPython/extensions/autoreload.py\", line 410, in superreload\n",
      "    update_generic(old_obj, new_obj)\n",
      "  File \"/home/lm/anaconda3/envs/mlmed/lib/python3.6/site-packages/IPython/extensions/autoreload.py\", line 347, in update_generic\n",
      "    update(a, b)\n",
      "  File \"/home/lm/anaconda3/envs/mlmed/lib/python3.6/site-packages/IPython/extensions/autoreload.py\", line 302, in update_class\n",
      "    if update_generic(old_obj, new_obj): continue\n",
      "  File \"/home/lm/anaconda3/envs/mlmed/lib/python3.6/site-packages/IPython/extensions/autoreload.py\", line 347, in update_generic\n",
      "    update(a, b)\n",
      "  File \"/home/lm/anaconda3/envs/mlmed/lib/python3.6/site-packages/IPython/extensions/autoreload.py\", line 302, in update_class\n",
      "    if update_generic(old_obj, new_obj): continue\n",
      "  File \"/home/lm/anaconda3/envs/mlmed/lib/python3.6/site-packages/IPython/extensions/autoreload.py\", line 347, in update_generic\n",
      "    update(a, b)\n",
      "  File \"/home/lm/anaconda3/envs/mlmed/lib/python3.6/site-packages/IPython/extensions/autoreload.py\", line 302, in update_class\n",
      "    if update_generic(old_obj, new_obj): continue\n",
      "  File \"/home/lm/anaconda3/envs/mlmed/lib/python3.6/site-packages/IPython/extensions/autoreload.py\", line 347, in update_generic\n",
      "    update(a, b)\n",
      "  File \"/home/lm/anaconda3/envs/mlmed/lib/python3.6/site-packages/IPython/extensions/autoreload.py\", line 302, in update_class\n",
      "    if update_generic(old_obj, new_obj): continue\n",
      "RecursionError: maximum recursion depth exceeded while calling a Python object\n",
      "]\n"
     ]
    },
    {
     "name": "stdout",
     "output_type": "stream",
     "text": [
      "datapath /media/lm/Samsung_T5/Uni/Medml/training/train/h5_size_adjusted\n",
      "/media/lm/Samsung_T5/Uni/Medml/training/train/h5_size_adjusted\n"
     ]
    },
    {
     "ename": "AssertionError",
     "evalue": "Height and Width must be greater or equal 64",
     "output_type": "error",
     "traceback": [
      "\u001B[0;31m---------------------------------------------------------------------------\u001B[0m",
      "\u001B[0;31mAssertionError\u001B[0m                            Traceback (most recent call last)",
      "\u001B[0;32m<ipython-input-11-a44f6da4f130>\u001B[0m in \u001B[0;36m<module>\u001B[0;34m\u001B[0m\n\u001B[1;32m      2\u001B[0m \u001B[0;34m\u001B[0m\u001B[0m\n\u001B[1;32m      3\u001B[0m \u001B[0mfiles\u001B[0m\u001B[0;34m,\u001B[0m \u001B[0mload_case\u001B[0m \u001B[0;34m=\u001B[0m \u001B[0mload_transformer\u001B[0m\u001B[0;34m(\u001B[0m\u001B[0;34m\"/home/lm/Schreibtisch/Uni/MedicalML/pytorch-3dunet/train-configs/philipp_config_best_2.yaml\"\u001B[0m\u001B[0;34m)\u001B[0m\u001B[0;34m\u001B[0m\u001B[0;34m\u001B[0m\u001B[0m\n\u001B[0;32m----> 4\u001B[0;31m \u001B[0mload_case\u001B[0m\u001B[0;34m(\u001B[0m\u001B[0mcase\u001B[0m\u001B[0;34m)\u001B[0m\u001B[0;34m\u001B[0m\u001B[0;34m\u001B[0m\u001B[0m\n\u001B[0m",
      "\u001B[0;32m<ipython-input-9-3898cccdde09>\u001B[0m in \u001B[0;36mload_case\u001B[0;34m(i)\u001B[0m\n\u001B[1;32m     46\u001B[0m         \u001B[0mlabel_transform\u001B[0m \u001B[0;34m=\u001B[0m \u001B[0mtransformer\u001B[0m\u001B[0;34m.\u001B[0m\u001B[0mlabel_transform\u001B[0m\u001B[0;34m(\u001B[0m\u001B[0;34m)\u001B[0m\u001B[0;34m\u001B[0m\u001B[0;34m\u001B[0m\u001B[0m\n\u001B[1;32m     47\u001B[0m \u001B[0;34m\u001B[0m\u001B[0m\n\u001B[0;32m---> 48\u001B[0;31m         \u001B[0mslice_builder\u001B[0m \u001B[0;34m=\u001B[0m \u001B[0mFilterSliceBuilder\u001B[0m\u001B[0;34m(\u001B[0m\u001B[0mraw\u001B[0m\u001B[0;34m,\u001B[0m \u001B[0mmask\u001B[0m\u001B[0;34m,\u001B[0m \u001B[0;32mNone\u001B[0m\u001B[0;34m,\u001B[0m \u001B[0mslice_config\u001B[0m\u001B[0;34m[\u001B[0m\u001B[0;34m\"patch_shape\"\u001B[0m\u001B[0;34m]\u001B[0m\u001B[0;34m,\u001B[0m \u001B[0mslice_config\u001B[0m\u001B[0;34m[\u001B[0m\u001B[0;34m\"stride_shape\"\u001B[0m\u001B[0;34m]\u001B[0m\u001B[0;34m,\u001B[0m \u001B[0mborder\u001B[0m\u001B[0;34m=\u001B[0m\u001B[0mslice_config\u001B[0m\u001B[0;34m[\u001B[0m\u001B[0;34m\"border\"\u001B[0m\u001B[0;34m]\u001B[0m\u001B[0;34m,\u001B[0m \u001B[0mthreshold\u001B[0m\u001B[0;34m=\u001B[0m\u001B[0mslice_config\u001B[0m\u001B[0;34m[\u001B[0m\u001B[0;34m\"threshold\"\u001B[0m\u001B[0;34m]\u001B[0m\u001B[0;34m,\u001B[0m \u001B[0mslack_acceptance\u001B[0m\u001B[0;34m=\u001B[0m\u001B[0mslice_config\u001B[0m\u001B[0;34m[\u001B[0m\u001B[0;34m\"slack_acceptance\"\u001B[0m\u001B[0;34m]\u001B[0m\u001B[0;34m)\u001B[0m\u001B[0;34m\u001B[0m\u001B[0;34m\u001B[0m\u001B[0m\n\u001B[0m\u001B[1;32m     49\u001B[0m \u001B[0;34m\u001B[0m\u001B[0m\n\u001B[1;32m     50\u001B[0m         \u001B[0;32mreturn\u001B[0m \u001B[0mraw\u001B[0m\u001B[0;34m,\u001B[0m \u001B[0mmask\u001B[0m\u001B[0;34m,\u001B[0m \u001B[0martery\u001B[0m\u001B[0;34m,\u001B[0m \u001B[0mraw_transform\u001B[0m\u001B[0;34m,\u001B[0m \u001B[0mlabel_transform\u001B[0m\u001B[0;34m,\u001B[0m \u001B[0mslice_builder\u001B[0m\u001B[0;34m\u001B[0m\u001B[0;34m\u001B[0m\u001B[0m\n",
      "\u001B[0;32m~/Schreibtisch/Uni/MedicalML/pytorch-3dunet/pytorch3dunet/datasets/utils.py\u001B[0m in \u001B[0;36m__init__\u001B[0;34m(self, raw_dataset, label_dataset, weight_dataset, patch_shape, stride_shape, border, ignore_index, threshold, slack_acceptance, raw_threshold, **kwargs)\u001B[0m\n\u001B[1;32m    147\u001B[0m         \u001B[0;32mif\u001B[0m \u001B[0mlabel_dataset\u001B[0m \u001B[0;32mis\u001B[0m \u001B[0;32mNone\u001B[0m\u001B[0;34m:\u001B[0m\u001B[0;34m\u001B[0m\u001B[0;34m\u001B[0m\u001B[0m\n\u001B[1;32m    148\u001B[0m             \u001B[0;32mreturn\u001B[0m\u001B[0;34m\u001B[0m\u001B[0;34m\u001B[0m\u001B[0m\n\u001B[0;32m--> 149\u001B[0;31m \u001B[0;34m\u001B[0m\u001B[0m\n\u001B[0m\u001B[1;32m    150\u001B[0m         \u001B[0mrand_state\u001B[0m \u001B[0;34m=\u001B[0m \u001B[0mnp\u001B[0m\u001B[0;34m.\u001B[0m\u001B[0mrandom\u001B[0m\u001B[0;34m.\u001B[0m\u001B[0mRandomState\u001B[0m\u001B[0;34m(\u001B[0m\u001B[0;36m47\u001B[0m\u001B[0;34m)\u001B[0m\u001B[0;34m\u001B[0m\u001B[0;34m\u001B[0m\u001B[0m\n\u001B[1;32m    151\u001B[0m \u001B[0;34m\u001B[0m\u001B[0m\n",
      "\u001B[0;32m~/Schreibtisch/Uni/MedicalML/pytorch-3dunet/pytorch3dunet/datasets/utils.py\u001B[0m in \u001B[0;36m__init__\u001B[0;34m(self, raw_dataset, label_dataset, weight_dataset, patch_shape, stride_shape, **kwargs)\u001B[0m\n\u001B[1;32m     57\u001B[0m         \u001B[0mskip_shape_check\u001B[0m \u001B[0;34m=\u001B[0m \u001B[0mkwargs\u001B[0m\u001B[0;34m.\u001B[0m\u001B[0mget\u001B[0m\u001B[0;34m(\u001B[0m\u001B[0;34m'skip_shape_check'\u001B[0m\u001B[0;34m,\u001B[0m \u001B[0;32mFalse\u001B[0m\u001B[0;34m)\u001B[0m\u001B[0;34m\u001B[0m\u001B[0;34m\u001B[0m\u001B[0m\n\u001B[1;32m     58\u001B[0m         \u001B[0;32mif\u001B[0m \u001B[0;32mnot\u001B[0m \u001B[0mskip_shape_check\u001B[0m\u001B[0;34m:\u001B[0m\u001B[0;34m\u001B[0m\u001B[0;34m\u001B[0m\u001B[0m\n\u001B[0;32m---> 59\u001B[0;31m             \u001B[0mself\u001B[0m\u001B[0;34m.\u001B[0m\u001B[0m_check_patch_shape\u001B[0m\u001B[0;34m(\u001B[0m\u001B[0mpatch_shape\u001B[0m\u001B[0;34m)\u001B[0m\u001B[0;34m\u001B[0m\u001B[0;34m\u001B[0m\u001B[0m\n\u001B[0m\u001B[1;32m     60\u001B[0m \u001B[0;34m\u001B[0m\u001B[0m\n\u001B[1;32m     61\u001B[0m         \u001B[0mself\u001B[0m\u001B[0;34m.\u001B[0m\u001B[0m_raw_slices\u001B[0m \u001B[0;34m=\u001B[0m \u001B[0mself\u001B[0m\u001B[0;34m.\u001B[0m\u001B[0m_build_slices\u001B[0m\u001B[0;34m(\u001B[0m\u001B[0mraw_dataset\u001B[0m\u001B[0;34m,\u001B[0m \u001B[0mpatch_shape\u001B[0m\u001B[0;34m,\u001B[0m \u001B[0mstride_shape\u001B[0m\u001B[0;34m)\u001B[0m\u001B[0;34m\u001B[0m\u001B[0;34m\u001B[0m\u001B[0m\n",
      "\u001B[0;32m~/Schreibtisch/Uni/MedicalML/pytorch-3dunet/pytorch3dunet/datasets/utils.py\u001B[0m in \u001B[0;36m_check_patch_shape\u001B[0;34m(patch_shape)\u001B[0m\n\u001B[1;32m    137\u001B[0m \u001B[0;34m\u001B[0m\u001B[0m\n\u001B[1;32m    138\u001B[0m \u001B[0;34m\u001B[0m\u001B[0m\n\u001B[0;32m--> 139\u001B[0;31m \u001B[0;32mclass\u001B[0m \u001B[0mFilterSliceBuilder\u001B[0m\u001B[0;34m(\u001B[0m\u001B[0mSliceBuilder\u001B[0m\u001B[0;34m)\u001B[0m\u001B[0;34m:\u001B[0m\u001B[0;34m\u001B[0m\u001B[0;34m\u001B[0m\u001B[0m\n\u001B[0m\u001B[1;32m    140\u001B[0m     \"\"\"\n\u001B[1;32m    141\u001B[0m     \u001B[0mFilter\u001B[0m \u001B[0mpatches\u001B[0m \u001B[0mcontaining\u001B[0m \u001B[0mmore\u001B[0m \u001B[0mthan\u001B[0m\u001B[0;31m \u001B[0m\u001B[0;31m`\u001B[0m\u001B[0;36m1\u001B[0m \u001B[0;34m-\u001B[0m \u001B[0mthreshold\u001B[0m\u001B[0;31m`\u001B[0m \u001B[0mof\u001B[0m \u001B[0mignore_index\u001B[0m \u001B[0mlabel\u001B[0m\u001B[0;34m\u001B[0m\u001B[0;34m\u001B[0m\u001B[0m\n",
      "\u001B[0;31mAssertionError\u001B[0m: Height and Width must be greater or equal 64"
     ]
    }
   ],
   "source": [
    "case = \"/media/lm/Samsung_T5/Uni/Medml/training/train/h5_size_adjusted/A003.h5.h5\"\n",
    "\n",
    "files, load_case = load_transformer(\"/home/lm/Schreibtisch/Uni/MedicalML/pytorch-3dunet/train-configs/philipp_config_best_2.yaml\")\n",
    "load_case(case)"
   ]
  },
  {
   "cell_type": "code",
   "execution_count": 32,
   "metadata": {
    "collapsed": false,
    "pycharm": {
     "name": "#%%\n"
    }
   },
   "outputs": [
    {
     "name": "stdout",
     "output_type": "stream",
     "text": [
      "datapath /media/lm/Samsung_T5/Uni/Medml/training/train/h5_zoomed\n",
      "/media/lm/Samsung_T5/Uni/Medml/training/train/h5_zoomed/A028.h5\n",
      "/media/lm/Samsung_T5/Uni/Medml/training/train/h5_zoomed\n",
      "{'pmin': 0.031248481981898016, 'pmax': 0.18711934170342584, 'mean': 0.10027981330275529, 'std': 0.025826403267313662}\n",
      "unique_aneus in this set [0 1]\n",
      "Volume: 332 332.0 1.0 (slice(48, 112, None), slice(16, 80, None), slice(0, 64, None))\n",
      "Volume: 332 332.0 1.0 (slice(48, 112, None), slice(16, 80, None), slice(16, 80, None))\n",
      "Volume: 332 332.0 1.0 (slice(48, 112, None), slice(32, 96, None), slice(0, 64, None))\n",
      "Volume: 332 332.0 1.0 (slice(48, 112, None), slice(32, 96, None), slice(16, 80, None))\n",
      "Volume: 332 332.0 1.0 (slice(64, 128, None), slice(16, 80, None), slice(0, 64, None))\n",
      "Volume: 332 332.0 1.0 (slice(64, 128, None), slice(16, 80, None), slice(16, 80, None))\n",
      "Volume: 332 332.0 1.0 (slice(64, 128, None), slice(32, 96, None), slice(0, 64, None))\n",
      "Volume: 332 332.0 1.0 (slice(64, 128, None), slice(32, 96, None), slice(16, 80, None))\n",
      "(slice(16, 80, None), slice(0, 64, None), slice(46, 110, None)) torch.Size([2, 128, 128, 110])\n",
      "/media/lm/Samsung_T5/Uni/Medml/training/train/h5_zoomed/A108.h5\n",
      "/media/lm/Samsung_T5/Uni/Medml/training/train/h5_zoomed\n",
      "{'pmin': 0.030385333016098526, 'pmax': 0.146898772689046, 'mean': 0.08369369470730893, 'std': 0.021398780007462665}\n",
      "unique_aneus in this set [0 1 2]\n",
      "Volume: 2 161.0 0.012422360248447204 (slice(32, 96, None), slice(16, 80, None), slice(32, 96, None))\n",
      "Volume: 2 161.0 0.012422360248447204 (slice(32, 96, None), slice(16, 80, None), slice(46, 110, None))\n",
      "Volume: 161 161.0 1.0 (slice(32, 96, None), slice(32, 96, None), slice(32, 96, None))\n",
      "Volume: 161 161.0 1.0 (slice(32, 96, None), slice(32, 96, None), slice(46, 110, None))\n",
      "Volume: 159 161.0 0.9875776397515528 (slice(32, 96, None), slice(48, 112, None), slice(32, 96, None))\n",
      "Volume: 159 161.0 0.9875776397515528 (slice(32, 96, None), slice(48, 112, None), slice(46, 110, None))\n",
      "Volume: 11 74.0 0.14864864864864866 (slice(48, 112, None), slice(16, 80, None), slice(16, 80, None))\n",
      "Volume: 33 235.0 0.14042553191489363 (slice(48, 112, None), slice(16, 80, None), slice(32, 96, None))\n",
      "Volume: 33 235.0 0.14042553191489363 (slice(48, 112, None), slice(16, 80, None), slice(46, 110, None))\n",
      "Volume: 11 74.0 0.14864864864864866 (slice(48, 112, None), slice(32, 96, None), slice(16, 80, None))\n",
      "Volume: 192 235.0 0.8170212765957446 (slice(48, 112, None), slice(32, 96, None), slice(32, 96, None))\n",
      "Volume: 192 235.0 0.8170212765957446 (slice(48, 112, None), slice(32, 96, None), slice(46, 110, None))\n",
      "Volume: 159 161.0 0.9875776397515528 (slice(48, 112, None), slice(48, 112, None), slice(32, 96, None))\n",
      "Volume: 159 161.0 0.9875776397515528 (slice(48, 112, None), slice(48, 112, None), slice(46, 110, None))\n",
      "Volume: 15 74.0 0.20270270270270271 (slice(64, 128, None), slice(16, 80, None), slice(16, 80, None))\n",
      "Volume: 37 74.0 0.5 (slice(64, 128, None), slice(16, 80, None), slice(32, 96, None))\n",
      "Volume: 37 74.0 0.5 (slice(64, 128, None), slice(16, 80, None), slice(46, 110, None))\n",
      "Volume: 15 74.0 0.20270270270270271 (slice(64, 128, None), slice(32, 96, None), slice(16, 80, None))\n",
      "Volume: 37 74.0 0.5 (slice(64, 128, None), slice(32, 96, None), slice(32, 96, None))\n",
      "Volume: 37 74.0 0.5 (slice(64, 128, None), slice(32, 96, None), slice(46, 110, None))\n",
      "(slice(16, 80, None), slice(0, 64, None), slice(46, 110, None)) torch.Size([2, 128, 128, 110])\n"
     ]
    },
    {
     "data": {
      "image/png": "[encoded data removed]",
      "text/plain": [
       "<Figure size 1080x1080 with 4 Axes>"
      ]
     },
     "metadata": {
      "needs_background": "light"
     },
     "output_type": "display_data"
    }
   ],
   "source": [
    "config_path = \"../train-configs/artery_seg_test.yml\"\n",
    "\n",
    "files, load_case = load_transformer(config_path)\n",
    "test_cases = np.random.choice(len(files), 8)\n",
    "\n",
    "cmap = \"Greys_r\"\n",
    "plt.figure(figsize=(15, 15))\n",
    "for i in range(2):\n",
    "    case_idx = i\n",
    "    raw, label, artery, raw_transform, label_transform, artery_transform, slice_builder = load_case(test_cases[case_idx])\n",
    "\n",
    "    x, y, z = get_aneurysm_bounds(label)\n",
    "    bound = get_aneurysm_bounds_raw(label)\n",
    "\n",
    "    artery_t = artery_transform(artery)\n",
    "    raw_t = np.squeeze(raw_transform(raw, artery=artery_t))\n",
    "    label_t = np.squeeze(label_transform(label))\n",
    "    artery_t = np.squeeze(artery_t)\n",
    "\n",
    "    bounds = slice_builder.raw_slices[0]\n",
    "\n",
    "    print(bounds, raw_t.shape)\n",
    "    artery_t = raw_t[1][bounds]\n",
    "    raw_t = raw_t[0][bounds]\n",
    "    label_t = label_t[bounds]\n",
    "\n",
    "\n",
    "    start = i * 2\n",
    "    show_mask = True\n",
    "\n",
    "    #x, y, z = get_aneurysm_bounds(label_t)\n",
    "    x = raw_t.shape[0] // 2\n",
    "\n",
    "\n",
    "    plt.subplot(2, 2, start + 1)\n",
    "    plt.imshow(mask_overlay(artery[x], artery[x]) if show_mask else raw[x], cmap=cmap)\n",
    "\n",
    "    plt.subplot(2, 2, start + 2)\n",
    "    plt.imshow(mask_overlay(artery_t[x], artery_t[x]) if show_mask else raw_t[x], cmap=cmap)"
   ]
  },
  {
   "cell_type": "code",
   "execution_count": 3,
   "metadata": {
    "collapsed": false,
    "pycharm": {
     "name": "#%%\n"
    }
   },
   "outputs": [],
   "source": [
    "import matplotlib.pyplot as plt\n",
    "import numpy as np\n",
    "import h5py\n",
    "from ipywidgets import widgets\n",
    "%matplotlib widget\n",
    "\n",
    "def mask_overlay(image, mask, color=(0., 1., 0.), weight=.8):\n",
    "    \"\"\"\n",
    "    Helper function to visualize mask on the top of the aneurysm\n",
    "    \"\"\"\n",
    "    mask = np.dstack((mask, mask, mask)) * np.array(color)\n",
    "    mask = mask.astype(np.uint8)\n",
    "    weighted_sum = image * weight + mask * (1 - weight) # cv2.addWeighted(image, 1 - weight, mask, weight, 0.,  dtype=cv2.CV_32F)\n",
    "    img = image.copy()\n",
    "    ind = mask[:, :, 1] > 0\n",
    "    img[ind] = weighted_sum[ind]\n",
    "    return img\n",
    "\n",
    "\n",
    "class ImageSlicer(object):\n",
    "\n",
    "    def __init__(self, ax, img, mask, start_index):\n",
    "        self.ax = ax\n",
    "\n",
    "        # convert to numpy array\n",
    "        self.image_np = img\n",
    "        self.mask_np = mask\n",
    "\n",
    "        # get number of slices\n",
    "        _, _, self.slices = self.image_np.shape\n",
    "        self.ind = start_index if start_index is not None else self.slices // 2\n",
    "        self.show_mask = True\n",
    "\n",
    "        # plot image with mask overlay\n",
    "        self.image_plt = self.ax.imshow(self.overlay)\n",
    "        self._draw()\n",
    "\n",
    "    @property\n",
    "    def overlay(self):\n",
    "        # get image and mask slice\n",
    "        image = self.image_np[:, :, self.ind]\n",
    "        image = image / np.max(image)\n",
    "        image = np.dstack((image, image, image))\n",
    "        mask = self.mask_np[:, :, self.ind]\n",
    "\n",
    "        # create masked overlay\n",
    "        if self.show_mask:\n",
    "            return mask_overlay(image, mask)\n",
    "        else: \n",
    "            return image\n",
    "\n",
    "    def onscroll(self, event):\n",
    "\n",
    "        # get new slice number\n",
    "        self.ind = event['new']\n",
    "        self.update()\n",
    "\n",
    "    def on_show_mask(self, event):\n",
    "\n",
    "        self.show_mask = event['new']\n",
    "        with open(\"file.txt\", \"a\") as f:\n",
    "            f.write(f\"{self.show_mask}\\n\")\n",
    "        self.update()\n",
    "\n",
    "    def update(self):\n",
    "\n",
    "        # draw overlay\n",
    "        self.image_plt.set_data(self.overlay)\n",
    "        self._draw()\n",
    "\n",
    "    def _draw(self):\n",
    "        try:\n",
    "            self.image_plt.axes.figure.canvas.draw()\n",
    "        except Exception as e:\n",
    "            with open(\"file.txt\", \"a\") as f:\n",
    "                f.write(f\"Exception {e}\\n\")\n",
    "            pass\n",
    "\n",
    "\n",
    "def plot3d(img, mask, start_index = None):\n",
    "\n",
    "    #\n",
    "    figure, ax = plt.subplots(1, 1)\n",
    "    tracker = ImageSlicer(ax, img, mask, start_index)\n",
    "\n",
    "    #\n",
    "    int_slider = widgets.IntSlider(\n",
    "        value=tracker.ind,\n",
    "        min=0,\n",
    "        max=tracker.slices,\n",
    "        step=1,\n",
    "        description='Slice',\n",
    "        continuous_update=True\n",
    "    )\n",
    "    int_slider.observe(tracker.onscroll, 'value')\n",
    "\n",
    "    show_mask = widgets.Checkbox(\n",
    "        value=True,\n",
    "        description='Show Mask',\n",
    "        disabled=False,\n",
    "        indent=False\n",
    "    )\n",
    "    show_mask.observe(tracker.on_show_mask, 'value')\n",
    "\n",
    "    return figure, int_slider, show_mask"
   ]
  },
  {
   "cell_type": "code",
   "execution_count": 7,
   "metadata": {
    "collapsed": false,
    "pycharm": {
     "name": "#%%\n"
    }
   },
   "outputs": [
    {
     "name": "stdout",
     "output_type": "stream",
     "text": [
      "datapath data/train_half\n",
      "{'pmin': 0.02726274376208359, 'pmax': 0.27130457774240724, 'mean': 0.11538807833887867, 'std': 0.03355494580218944}\n",
      "unique_aneus in this set [0 1]\n",
      "Volume: 108 108.0 1.0 (slice(0, 64, None), slice(0, 64, None), slice(16, 80, None))\n",
      "Volume: 108 108.0 1.0 (slice(0, 64, None), slice(0, 64, None), slice(32, 96, None))\n",
      "262144 (64, 64, 64)\n",
      "FOO 0.016895294189453125 0.01\n",
      "Including high Background\n",
      "Volume: 108 108.0 1.0 (slice(0, 64, None), slice(16, 80, None), slice(16, 80, None))\n",
      "Volume: 108 108.0 1.0 (slice(0, 64, None), slice(16, 80, None), slice(32, 96, None))\n",
      "262144 (64, 64, 64)\n",
      "FOO 0.011295318603515625 0.01\n",
      "Including high Background\n",
      "262144 (64, 64, 64)\n",
      "FOO 0.00777435302734375 0.01\n",
      "262144 (64, 64, 64)\n",
      "FOO 0.02016448974609375 0.01\n",
      "Including high Background\n",
      "262144 (64, 64, 64)\n",
      "FOO 0.015411376953125 0.01\n",
      "Including high Background\n",
      "262144 (64, 64, 64)\n",
      "FOO 0.00872802734375 0.01\n",
      "262144 (64, 64, 64)\n",
      "FOO 0.0066070556640625 0.01\n",
      "262144 (64, 64, 64)\n",
      "FOO 0.004154205322265625 0.01\n",
      "262144 (64, 64, 64)\n",
      "FOO 0.016689300537109375 0.01\n",
      "Including high Background\n",
      "262144 (64, 64, 64)\n",
      "FOO 0.01012420654296875 0.01\n",
      "Including high Background\n",
      "262144 (64, 64, 64)\n",
      "FOO 0.00347137451171875 0.01\n",
      "262144 (64, 64, 64)\n",
      "FOO 0.001621246337890625 0.01\n",
      "262144 (64, 64, 64)\n",
      "FOO 0.000797271728515625 0.01\n",
      "Volume: 108 108.0 1.0 (slice(16, 80, None), slice(0, 64, None), slice(16, 80, None))\n",
      "Volume: 108 108.0 1.0 (slice(16, 80, None), slice(0, 64, None), slice(32, 96, None))\n",
      "262144 (64, 64, 64)\n",
      "FOO 0.01375579833984375 0.01\n",
      "Including high Background\n",
      "Volume: 108 108.0 1.0 (slice(16, 80, None), slice(16, 80, None), slice(16, 80, None))\n",
      "Volume: 108 108.0 1.0 (slice(16, 80, None), slice(16, 80, None), slice(32, 96, None))\n",
      "262144 (64, 64, 64)\n",
      "FOO 0.00823211669921875 0.01\n",
      "262144 (64, 64, 64)\n",
      "FOO 0.00447845458984375 0.01\n",
      "262144 (64, 64, 64)\n",
      "FOO 0.01728057861328125 0.01\n",
      "Including high Background\n",
      "262144 (64, 64, 64)\n",
      "FOO 0.011707305908203125 0.01\n",
      "Including high Background\n",
      "262144 (64, 64, 64)\n",
      "FOO 0.006404876708984375 0.01\n",
      "262144 (64, 64, 64)\n",
      "FOO 0.005001068115234375 0.01\n",
      "262144 (64, 64, 64)\n",
      "FOO 0.0032501220703125 0.01\n",
      "262144 (64, 64, 64)\n",
      "FOO 0.01551055908203125 0.01\n",
      "Including high Background\n",
      "262144 (64, 64, 64)\n",
      "FOO 0.008335113525390625 0.01\n",
      "262144 (64, 64, 64)\n",
      "FOO 0.002536773681640625 0.01\n",
      "262144 (64, 64, 64)\n",
      "FOO 0.000720977783203125 0.01\n",
      "262144 (64, 64, 64)\n",
      "FOO 0.0001678466796875 0.01\n",
      "262144 (64, 64, 64)\n",
      "FOO 0.013530731201171875 0.01\n",
      "Including high Background\n",
      "262144 (64, 64, 64)\n",
      "FOO 0.006748199462890625 0.01\n",
      "262144 (64, 64, 64)\n",
      "FOO 0.00296783447265625 0.01\n",
      "262144 (64, 64, 64)\n",
      "FOO 0.0120086669921875 0.01\n",
      "Including high Background\n",
      "262144 (64, 64, 64)\n",
      "FOO 0.00717926025390625 0.01\n",
      "262144 (64, 64, 64)\n",
      "FOO 0.00428009033203125 0.01\n",
      "262144 (64, 64, 64)\n",
      "FOO 0.003086090087890625 0.01\n",
      "262144 (64, 64, 64)\n",
      "FOO 0.002048492431640625 0.01\n",
      "262144 (64, 64, 64)\n",
      "FOO 0.01122283935546875 0.01\n",
      "Including high Background\n",
      "262144 (64, 64, 64)\n",
      "FOO 0.00597381591796875 0.01\n",
      "262144 (64, 64, 64)\n",
      "FOO 0.0023040771484375 0.01\n",
      "262144 (64, 64, 64)\n",
      "FOO 0.00066375732421875 0.01\n",
      "262144 (64, 64, 64)\n",
      "FOO 0.00011444091796875 0.01\n",
      "262144 (64, 64, 64)\n",
      "FOO 0.0069580078125 0.01\n",
      "262144 (64, 64, 64)\n",
      "FOO 0.009891510009765625 0.01\n",
      "262144 (64, 64, 64)\n",
      "FOO 0.011966705322265625 0.01\n",
      "Including high Background\n",
      "262144 (64, 64, 64)\n",
      "FOO 0.013004302978515625 0.01\n",
      "Including high Background\n",
      "262144 (64, 64, 64)\n",
      "FOO 0.014373779296875 0.01\n",
      "Including high Background\n",
      "262144 (64, 64, 64)\n",
      "FOO 0.008159637451171875 0.01\n",
      "262144 (64, 64, 64)\n",
      "FOO 0.00940704345703125 0.01\n",
      "262144 (64, 64, 64)\n",
      "FOO 0.0095367431640625 0.01\n",
      "262144 (64, 64, 64)\n",
      "FOO 0.007732391357421875 0.01\n",
      "262144 (64, 64, 64)\n",
      "FOO 0.006626129150390625 0.01\n",
      "262144 (64, 64, 64)\n",
      "FOO 0.006725311279296875 0.01\n",
      "262144 (64, 64, 64)\n",
      "FOO 0.005428314208984375 0.01\n",
      "262144 (64, 64, 64)\n",
      "FOO 0.004241943359375 0.01\n",
      "262144 (64, 64, 64)\n",
      "FOO 0.002899169921875 0.01\n",
      "262144 (64, 64, 64)\n",
      "FOO 0.002132415771484375 0.01\n",
      "262144 (64, 64, 64)\n",
      "FOO 0.00849151611328125 0.01\n",
      "262144 (64, 64, 64)\n",
      "FOO 0.005558013916015625 0.01\n",
      "262144 (64, 64, 64)\n",
      "FOO 0.00357818603515625 0.01\n",
      "262144 (64, 64, 64)\n",
      "FOO 0.002471923828125 0.01\n",
      "262144 (64, 64, 64)\n",
      "FOO 0.00183868408203125 0.01\n",
      "262144 (64, 64, 64)\n",
      "FOO 0.00785064697265625 0.01\n",
      "262144 (64, 64, 64)\n",
      "FOO 0.004871368408203125 0.01\n",
      "262144 (64, 64, 64)\n",
      "FOO 0.00200653076171875 0.01\n",
      "262144 (64, 64, 64)\n",
      "FOO 0.000606536865234375 0.01\n",
      "262144 (64, 64, 64)\n",
      "FOO 0.000186920166015625 0.01\n",
      "Bound (slice(0, 64, None), slice(64, 128, None), slice(0, 64, None)) (slice(0, 64, None), slice(64, 128, None), slice(0, 64, None))\n",
      "Len: 16\n"
     ]
    },
    {
     "data": {
      "application/vnd.jupyter.widget-view+json": {
       "model_id": "3c7eb84a6cee43f4abbf13badf30bb9b",
       "version_major": 2,
       "version_minor": 0
      },
      "text/plain": [
       "Canvas(toolbar=Toolbar(toolitems=[('Home', 'Reset original view', 'home', 'home'), ('Back', 'Back to previous …"
      ]
     },
     "metadata": {},
     "output_type": "display_data"
    },
    {
     "data": {
      "application/vnd.jupyter.widget-view+json": {
       "model_id": "c56bd367325f4adeb9cb73a40aa4a504",
       "version_major": 2,
       "version_minor": 0
      },
      "text/plain": [
       "IntSlider(value=32, description='Slice', max=64)"
      ]
     },
     "metadata": {},
     "output_type": "display_data"
    }
   ],
   "source": [
    "import yaml\n",
    "import os\n",
    "from pytorch3dunet.augment.transforms import Transformer\n",
    "\n",
    "config_path = \"./train-configs/Resized_slices_leaky.yml\"\n",
    "\n",
    "files, load_case = load_transformer(config_path)\n",
    "\n",
    "img, mask, raw_t, label_t, slice_builder  = load_case(0)\n",
    "\n",
    "slice_idx = 5\n",
    "bound = slice_builder.raw_slices[slice_idx]\n",
    "bound2 = slice_builder.label_slices[slice_idx]\n",
    "print(\"Bound\", bound, bound2)\n",
    "img_slice = img[bound]\n",
    "mask_slice = mask[bound2]\n",
    "\n",
    "print(\"Len:\", len(slice_builder.raw_slices))\n",
    "fig, slider, show_mask = plot3d(img_slice, mask_slice)\n",
    "slider\n",
    "\n"
   ]
  },
  {
   "cell_type": "code",
   "execution_count": 5,
   "metadata": {
    "pycharm": {
     "name": "#%%\n"
    }
   },
   "outputs": [
    {
     "ename": "NameError",
     "evalue": "name 'mask_t' is not defined",
     "output_type": "error",
     "traceback": [
      "\u001B[0;31m---------------------------------------------------------------------------\u001B[0m",
      "\u001B[0;31mNameError\u001B[0m                                 Traceback (most recent call last)",
      "\u001B[0;32m<ipython-input-5-12057ab9dcfe>\u001B[0m in \u001B[0;36m<module>\u001B[0;34m\u001B[0m\n\u001B[0;32m----> 1\u001B[0;31m \u001B[0mmask_t\u001B[0m\u001B[0;34m.\u001B[0m\u001B[0mshape\u001B[0m\u001B[0;34m,\u001B[0m \u001B[0mimg_t\u001B[0m\u001B[0;34m.\u001B[0m\u001B[0mshape\u001B[0m\u001B[0;34m\u001B[0m\u001B[0;34m\u001B[0m\u001B[0m\n\u001B[0m",
      "\u001B[0;31mNameError\u001B[0m: name 'mask_t' is not defined"
     ]
    }
   ],
   "source": [
    "mask_t.shape, img_t.shape"
   ]
  },
  {
   "cell_type": "code",
   "execution_count": 5,
   "metadata": {
    "pycharm": {
     "name": "#%%\n"
    }
   },
   "outputs": [
    {
     "data": {
      "text/plain": [
       "1.0"
      ]
     },
     "execution_count": 5,
     "metadata": {},
     "output_type": "execute_result"
    }
   ],
   "source": [
    "img_t.max()"
   ]
  },
  {
   "cell_type": "code",
   "execution_count": 6,
   "metadata": {
    "pycharm": {
     "name": "#%%\n"
    }
   },
   "outputs": [
    {
     "data": {
      "application/vnd.jupyter.widget-view+json": {
       "model_id": "77df8093c9e046a194c080f8a372633b",
       "version_major": 2,
       "version_minor": 0
      },
      "text/plain": [
       "Canvas(toolbar=Toolbar(toolitems=[('Home', 'Reset original view', 'home', 'home'), ('Back', 'Back to previous …"
      ]
     },
     "metadata": {},
     "output_type": "display_data"
    },
    {
     "data": {
      "application/vnd.jupyter.widget-view+json": {
       "model_id": "e2e78c8fc21d41d8a1645c4ed5e42f91",
       "version_major": 2,
       "version_minor": 0
      },
      "text/plain": [
       "IntSlider(value=128, description='Slice', max=256)"
      ]
     },
     "metadata": {},
     "output_type": "display_data"
    }
   ],
   "source": [
    "fig, slider, mask_toggle = plot3d(img_t[1], mask_t[0])\n",
    "slider"
   ]
  },
  {
   "cell_type": "code",
   "execution_count": 64,
   "metadata": {
    "pycharm": {
     "name": "#%%\n"
    }
   },
   "outputs": [
    {
     "name": "stdout",
     "output_type": "stream",
     "text": [
      "(128, 128, 128)\n",
      "(128, 128, 128)\n"
     ]
    },
    {
     "name": "stderr",
     "output_type": "stream",
     "text": [
      "/home/lm/anaconda3/envs/mlmed/lib/python3.6/site-packages/ipykernel_launcher.py:6: RuntimeWarning: divide by zero encountered in true_divide\n",
      "  \n"
     ]
    },
    {
     "data": {
      "text/plain": [
       "1.0"
      ]
     },
     "execution_count": 64,
     "metadata": {},
     "output_type": "execute_result"
    }
   ],
   "source": [
    "pics = [(84, 84, 84), (32, 32, 32)]\n",
    "\n",
    "idx = np.mgrid[:128, :128, :128]\n",
    "ret = None\n",
    "for pic in pics:\n",
    "    t2 = np.clip(1 / np.sum((idx - np.array(pic)[:, None, None, None]) ** 2, axis=0), 0, 1)\n",
    "\n",
    "    if ret is None:\n",
    "        ret = t2\n",
    "        print(ret.shape)\n",
    "    else:\n",
    "        ret = np.max([ret, t2], axis=0)\n",
    "        print(ret.shape)\n",
    "\n",
    "\n",
    "# plt.imshow(t2[5])\n",
    "# np.round(ret[84], 2).max()\n",
    "\n",
    "# fig, slider, show_mask = plot3d(ret, ret)\n",
    "\n",
    "# widgets.Box(\n",
    "#     [slider, show_mask]\n",
    "# )"
   ]
  },
  {
   "cell_type": "code",
   "execution_count": 13,
   "metadata": {
    "pycharm": {
     "name": "#%%\n"
    }
   },
   "outputs": [
    {
     "name": "stdout",
     "output_type": "stream",
     "text": [
      "Warning: Cannot change to a different GUI toolkit: notebook. Using widget instead.\n",
      "130.0\n"
     ]
    },
    {
     "ename": "TypeError",
     "evalue": "_argmax_dispatcher() missing 1 required positional argument: 'a'",
     "output_type": "error",
     "traceback": [
      "\u001B[0;31m---------------------------------------------------------------------------\u001B[0m",
      "\u001B[0;31mTypeError\u001B[0m                                 Traceback (most recent call last)",
      "\u001B[0;32m<ipython-input-13-41d4f39a4714>\u001B[0m in \u001B[0;36m<module>\u001B[0;34m\u001B[0m\n\u001B[1;32m      2\u001B[0m \u001B[0ms\u001B[0m \u001B[0;34m=\u001B[0m \u001B[0mmask\u001B[0m\u001B[0;34m.\u001B[0m\u001B[0msum\u001B[0m\u001B[0;34m(\u001B[0m\u001B[0maxis\u001B[0m\u001B[0;34m=\u001B[0m\u001B[0;34m(\u001B[0m\u001B[0;36m1\u001B[0m\u001B[0;34m,\u001B[0m \u001B[0;36m2\u001B[0m\u001B[0;34m)\u001B[0m\u001B[0;34m)\u001B[0m\u001B[0;34m\u001B[0m\u001B[0;34m\u001B[0m\u001B[0m\n\u001B[1;32m      3\u001B[0m \u001B[0mprint\u001B[0m\u001B[0;34m(\u001B[0m\u001B[0ms\u001B[0m\u001B[0;34m.\u001B[0m\u001B[0mmax\u001B[0m\u001B[0;34m(\u001B[0m\u001B[0;34m)\u001B[0m\u001B[0;34m)\u001B[0m\u001B[0;34m\u001B[0m\u001B[0;34m\u001B[0m\u001B[0m\n\u001B[0;32m----> 4\u001B[0;31m \u001B[0mnp\u001B[0m\u001B[0;34m.\u001B[0m\u001B[0margmax\u001B[0m\u001B[0;34m(\u001B[0m\u001B[0;34m)\u001B[0m\u001B[0;34m\u001B[0m\u001B[0;34m\u001B[0m\u001B[0m\n\u001B[0m\u001B[1;32m      5\u001B[0m \u001B[0;34m\u001B[0m\u001B[0m\n\u001B[1;32m      6\u001B[0m \u001B[0mplt\u001B[0m\u001B[0;34m.\u001B[0m\u001B[0mimshow\u001B[0m\u001B[0;34m(\u001B[0m\u001B[0mmask\u001B[0m\u001B[0;34m[\u001B[0m\u001B[0;36m78\u001B[0m\u001B[0;34m]\u001B[0m\u001B[0;34m)\u001B[0m\u001B[0;34m\u001B[0m\u001B[0;34m\u001B[0m\u001B[0m\n",
      "\u001B[0;32m<__array_function__ internals>\u001B[0m in \u001B[0;36margmax\u001B[0;34m(*args, **kwargs)\u001B[0m\n",
      "\u001B[0;31mTypeError\u001B[0m: _argmax_dispatcher() missing 1 required positional argument: 'a'"
     ]
    }
   ],
   "source": [
    "%matplotlib notebook\n",
    "s = mask.sum(axis=(1, 2))\n",
    "print(s.max())\n",
    "np.argmax(s)\n",
    "\n",
    "plt.imshow(mask[78])"
   ]
  },
  {
   "cell_type": "code",
   "execution_count": null,
   "metadata": {
    "pycharm": {
     "name": "#%%\n"
    }
   },
   "outputs": [],
   "source": []
  }
 ],
 "metadata": {
  "kernelspec": {
   "display_name": "Python 3.6.9 ('mlmed')",
   "language": "python",
   "name": "python3"
  },
  "language_info": {
   "codemirror_mode": {
    "name": "ipython",
    "version": 3
   },
   "file_extension": ".py",
   "mimetype": "text/x-python",
   "name": "python",
   "nbconvert_exporter": "python",
   "pygments_lexer": "ipython3",
   "version": "3.6.9"
  },
  "vscode": {
   "interpreter": {
    "hash": "2f6205960b311e377f41cf8daf6c1745eda188400d19cb467b1330fee120c973"
   }
  }
 },
 "nbformat": 4,
 "nbformat_minor": 0
}