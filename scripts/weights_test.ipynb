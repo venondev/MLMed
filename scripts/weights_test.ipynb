{
 "cells": [
  {
   "cell_type": "code",
   "execution_count": 13,
   "metadata": {
    "collapsed": false,
    "pycharm": {
     "name": "#%%\n"
    }
   },
   "outputs": [],
   "source": [
    "import yaml\n",
    "import os\n",
    "import h5py\n",
    "import numpy as np\n",
    "import matplotlib.pyplot as plt\n",
    "\n",
    "datapath = \"../data/train_half\"\n",
    "\n",
    "files = os.listdir(datapath)\n",
    "\n",
    "def load_case(i):\n",
    "    f = h5py.File(f\"{datapath}/{files[i]}\", \"r\")\n",
    "    return f[\"raw\"][:], f[\"label\"][:]\n",
    "\n",
    "def get_aneurysm_bounds_raw(mask):\n",
    "    x_s = mask.sum(axis=(1, 2))\n",
    "    y_s = mask.sum(axis=(0, 2))\n",
    "    z_s = mask.sum(axis=(0, 1))\n",
    "\n",
    "    x = slice(*np.where(x_s)[0][[0, -1]])\n",
    "    y = slice(*np.where(y_s)[0][[0, -1]])\n",
    "    z = slice(*np.where(z_s)[0][[0, -1]])\n",
    "\n",
    "    return x, y, z\n",
    "\n",
    "def get_aneurysm_center(mask):\n",
    "    x_s = mask.sum(axis=(1, 2))\n",
    "    y_s = mask.sum(axis=(0, 2))\n",
    "    z_s = mask.sum(axis=(0, 1))\n",
    "\n",
    "    x = int(np.where(x_s)[0][[0, -1]].mean())\n",
    "    y = int(np.where(y_s)[0][[0, -1]].mean())\n",
    "    z = int(np.where(z_s)[0][[0, -1]].mean())\n",
    "\n",
    "    return x, y, z\n",
    "\n",
    "def mask_overlay(image, mask, color=(0., 1., 0.), weight=.8):\n",
    "    \"\"\"\n",
    "    Helper function to visualize mask on the top of the aneurysm\n",
    "    \"\"\"\n",
    "    mask = np.dstack((mask, mask, mask)) * np.array(color)\n",
    "    mask = mask.astype(np.uint8)\n",
    "\n",
    "    image = np.dstack((image, image, image))\n",
    "    weighted_sum = image * weight + mask * (1 - weight) # cv2.addWeighted(image, 1 - weight, mask, weight, 0.,  dtype=cv2.CV_32F)\n",
    "    img = image.copy()\n",
    "    ind = mask[:, :, 1] > 0\n",
    "    img[ind] = weighted_sum[ind]\n",
    "    return img"
   ]
  },
  {
   "cell_type": "code",
   "execution_count": null,
   "outputs": [],
   "source": [
    "import matplotlib.pyplot as plt\n",
    "import numpy as np\n",
    "import h5py\n",
    "from ipywidgets import widgets\n",
    "%matplotlib widget\n",
    "\n",
    "def mask_overlay(image, mask, color=(0., 1., 0.), weight=.8):\n",
    "    \"\"\"\n",
    "    Helper function to visualize mask on the top of the aneurysm\n",
    "    \"\"\"\n",
    "    mask = np.dstack((mask, mask, mask)) * np.array(color)\n",
    "    mask = mask.astype(np.uint8)\n",
    "    weighted_sum = image * weight + mask * (1 - weight) # cv2.addWeighted(image, 1 - weight, mask, weight, 0.,  dtype=cv2.CV_32F)\n",
    "    img = image.copy()\n",
    "    ind = mask[:, :, 1] > 0\n",
    "    img[ind] = weighted_sum[ind]\n",
    "    return img\n",
    "\n",
    "\n",
    "class ImageSlicer(object):\n",
    "\n",
    "    def __init__(self, ax, img, mask, start_index):\n",
    "        self.ax = ax\n",
    "\n",
    "        # convert to numpy array\n",
    "        self.image_np = img\n",
    "        self.mask_np = mask\n",
    "\n",
    "        # get number of slices\n",
    "        _, _, self.slices = self.image_np.shape\n",
    "        self.ind = start_index if start_index is not None else self.slices // 2\n",
    "        self.show_mask = True\n",
    "\n",
    "        # plot image with mask overlay\n",
    "        self.image_plt = self.ax.imshow(self.overlay, vmin=0, vmax=1)\n",
    "        self._draw()\n",
    "\n",
    "    @property\n",
    "    def overlay(self):\n",
    "        # get image and mask slice\n",
    "        image = self.image_np[:, :, self.ind]\n",
    "        image = image / np.max(image)\n",
    "        image = np.dstack((image, image, image))\n",
    "        mask = self.mask_np[:, :, self.ind]\n",
    "\n",
    "        # create masked overlay\n",
    "        if self.show_mask:\n",
    "            return mask_overlay(image, mask)\n",
    "        else: \n",
    "            return image\n",
    "\n",
    "    def onscroll(self, event):\n",
    "\n",
    "        # get new slice number\n",
    "        self.ind = event['new']\n",
    "        self.update()\n",
    "\n",
    "    def on_show_mask(self, event):\n",
    "\n",
    "        self.show_mask = event['new']\n",
    "        with open(\"file.txt\", \"a\") as f:\n",
    "            f.write(f\"{self.show_mask}\\n\")\n",
    "        self.update()\n",
    "\n",
    "    def update(self):\n",
    "\n",
    "        # draw overlay\n",
    "        self.image_plt.set_data(self.overlay)\n",
    "        self._draw()\n",
    "\n",
    "    def _draw(self):\n",
    "        try:\n",
    "            self.image_plt.axes.figure.canvas.draw(vmin=0, vmax=1)\n",
    "        except Exception as e:\n",
    "            with open(\"file.txt\", \"a\") as f:\n",
    "                f.write(f\"Exception {e}\\n\")\n",
    "            pass\n",
    "\n",
    "\n",
    "def plot3d(img, mask, start_index = None):\n",
    "\n",
    "    #\n",
    "    figure, ax = plt.subplots(1, 1)\n",
    "    tracker = ImageSlicer(ax, img, mask, start_index)\n",
    "\n",
    "    #\n",
    "    int_slider = widgets.IntSlider(\n",
    "        value=tracker.ind,\n",
    "        min=0,\n",
    "        max=tracker.slices,\n",
    "        step=1,\n",
    "        description='Slice',\n",
    "        continuous_update=True\n",
    "    )\n",
    "    int_slider.observe(tracker.onscroll, 'value')\n",
    "\n",
    "    show_mask = widgets.Checkbox(\n",
    "        value=True,\n",
    "        description='Show Mask',\n",
    "        disabled=False,\n",
    "        indent=False\n",
    "    )\n",
    "    show_mask.observe(tracker.on_show_mask, 'value')\n",
    "\n",
    "    return figure, int_slider, show_mask"
   ],
   "metadata": {
    "collapsed": false,
    "pycharm": {
     "name": "#%%\n"
    }
   }
  },
  {
   "cell_type": "code",
   "execution_count": null,
   "outputs": [],
   "source": [
    "from scipy import ndimage as ndi\n",
    "\n",
    "img, mask = load_case(2)\n",
    "\n",
    "labels, num_labels = ndi.label(mask)\n",
    "\n",
    "choosen_coords = []\n",
    "for i in range(num_labels):\n",
    "    cur = (labels == i + 1)\n",
    "    center_coords = get_aneurysm_center(cur)\n",
    "    choosen_coords.append(center_coords)\n",
    "\n",
    "idx = np.mgrid[:mask.shape[0], :mask.shape[1], :mask.shape[2]]\n",
    "ret = np.zeros(mask.shape)\n",
    "print(idx.shape, ret.shape, mask.shape)\n",
    "for pic in choosen_coords:\n",
    "\n",
    "    d = np.sqrt(np.sum((idx - np.array(pic)[:, None, None, None]) ** 2, axis=0))\n",
    "    d[d == 0] = 1e-10\n",
    "    t2 = np.clip(1 / d, 0, 1)\n",
    "\n",
    "    if ret is None:\n",
    "        ret = t2\n",
    "    else:\n",
    "        ret = np.max([ret, t2], axis=0)\n",
    "\n",
    "ret /= ret.max()\n",
    "\n",
    "print(choosen_coords)\n",
    "fig, slider, show_mask = plot3d(ret, ret)\n",
    "\n",
    "print(ret[:, :, 56].max())\n",
    "\n",
    "widgets.Box(\n",
    "    [slider, show_mask]\n",
    ")\n",
    "\n"
   ],
   "metadata": {
    "collapsed": false,
    "pycharm": {
     "name": "#%%\n"
    }
   }
  },
  {
   "cell_type": "code",
   "execution_count": 4,
   "metadata": {
    "pycharm": {
     "name": "#%%\n"
    }
   },
   "outputs": [
    {
     "data": {
      "text/plain": [
       "((1, 220, 256, 256), (2, 220, 256, 256))"
      ]
     },
     "execution_count": 4,
     "metadata": {},
     "output_type": "execute_result"
    }
   ],
   "source": [
    "mask_t.shape, img_t.shape"
   ]
  },
  {
   "cell_type": "code",
   "execution_count": 5,
   "metadata": {
    "pycharm": {
     "name": "#%%\n"
    }
   },
   "outputs": [
    {
     "data": {
      "text/plain": [
       "1.0"
      ]
     },
     "execution_count": 5,
     "metadata": {},
     "output_type": "execute_result"
    }
   ],
   "source": [
    "img_t.max()"
   ]
  },
  {
   "cell_type": "code",
   "execution_count": 6,
   "metadata": {
    "pycharm": {
     "name": "#%%\n"
    }
   },
   "outputs": [
    {
     "data": {
      "application/vnd.jupyter.widget-view+json": {
       "model_id": "77df8093c9e046a194c080f8a372633b",
       "version_major": 2,
       "version_minor": 0
      },
      "text/plain": [
       "Canvas(toolbar=Toolbar(toolitems=[('Home', 'Reset original view', 'home', 'home'), ('Back', 'Back to previous …"
      ]
     },
     "metadata": {},
     "output_type": "display_data"
    },
    {
     "data": {
      "application/vnd.jupyter.widget-view+json": {
       "model_id": "e2e78c8fc21d41d8a1645c4ed5e42f91",
       "version_major": 2,
       "version_minor": 0
      },
      "text/plain": [
       "IntSlider(value=128, description='Slice', max=256)"
      ]
     },
     "metadata": {},
     "output_type": "display_data"
    }
   ],
   "source": [
    "fig, slider, mask_toggle = plot3d(img_t[1], mask_t[0])\n",
    "slider"
   ]
  },
  {
   "cell_type": "code",
   "execution_count": 64,
   "metadata": {
    "pycharm": {
     "name": "#%%\n"
    }
   },
   "outputs": [
    {
     "name": "stdout",
     "output_type": "stream",
     "text": [
      "(128, 128, 128)\n",
      "(128, 128, 128)\n"
     ]
    },
    {
     "name": "stderr",
     "output_type": "stream",
     "text": [
      "/home/lm/anaconda3/envs/mlmed/lib/python3.6/site-packages/ipykernel_launcher.py:6: RuntimeWarning: divide by zero encountered in true_divide\n",
      "  \n"
     ]
    },
    {
     "data": {
      "text/plain": [
       "1.0"
      ]
     },
     "execution_count": 64,
     "metadata": {},
     "output_type": "execute_result"
    }
   ],
   "source": [
    "pics = [(84, 84, 84), (32, 32, 32)]\n",
    "\n",
    "idx = np.mgrid[:128, :128, :128]\n",
    "ret = None\n",
    "for pic in pics:\n",
    "    t2 = np.clip(1 / np.sum((idx - np.array(pic)[:, None, None, None]) ** 2, axis=0), 0, 1)\n",
    "\n",
    "    if ret is None:\n",
    "        ret = t2\n",
    "        print(ret.shape)\n",
    "    else:\n",
    "        ret = np.max([ret, t2], axis=0)\n",
    "        print(ret.shape)\n",
    "\n",
    "\n",
    "# plt.imshow(t2[5])\n",
    "# np.round(ret[84], 2).max()\n",
    "\n",
    "# fig, slider, show_mask = plot3d(ret, ret)\n",
    "\n",
    "# widgets.Box(\n",
    "#     [slider, show_mask]\n",
    "# )"
   ]
  },
  {
   "cell_type": "code",
   "execution_count": 13,
   "metadata": {
    "pycharm": {
     "name": "#%%\n"
    }
   },
   "outputs": [
    {
     "name": "stdout",
     "output_type": "stream",
     "text": [
      "Warning: Cannot change to a different GUI toolkit: notebook. Using widget instead.\n",
      "130.0\n"
     ]
    },
    {
     "ename": "TypeError",
     "evalue": "_argmax_dispatcher() missing 1 required positional argument: 'a'",
     "output_type": "error",
     "traceback": [
      "\u001B[0;31m---------------------------------------------------------------------------\u001B[0m",
      "\u001B[0;31mTypeError\u001B[0m                                 Traceback (most recent call last)",
      "\u001B[0;32m<ipython-input-13-41d4f39a4714>\u001B[0m in \u001B[0;36m<module>\u001B[0;34m\u001B[0m\n\u001B[1;32m      2\u001B[0m \u001B[0ms\u001B[0m \u001B[0;34m=\u001B[0m \u001B[0mmask\u001B[0m\u001B[0;34m.\u001B[0m\u001B[0msum\u001B[0m\u001B[0;34m(\u001B[0m\u001B[0maxis\u001B[0m\u001B[0;34m=\u001B[0m\u001B[0;34m(\u001B[0m\u001B[0;36m1\u001B[0m\u001B[0;34m,\u001B[0m \u001B[0;36m2\u001B[0m\u001B[0;34m)\u001B[0m\u001B[0;34m)\u001B[0m\u001B[0;34m\u001B[0m\u001B[0;34m\u001B[0m\u001B[0m\n\u001B[1;32m      3\u001B[0m \u001B[0mprint\u001B[0m\u001B[0;34m(\u001B[0m\u001B[0ms\u001B[0m\u001B[0;34m.\u001B[0m\u001B[0mmax\u001B[0m\u001B[0;34m(\u001B[0m\u001B[0;34m)\u001B[0m\u001B[0;34m)\u001B[0m\u001B[0;34m\u001B[0m\u001B[0;34m\u001B[0m\u001B[0m\n\u001B[0;32m----> 4\u001B[0;31m \u001B[0mnp\u001B[0m\u001B[0;34m.\u001B[0m\u001B[0margmax\u001B[0m\u001B[0;34m(\u001B[0m\u001B[0;34m)\u001B[0m\u001B[0;34m\u001B[0m\u001B[0;34m\u001B[0m\u001B[0m\n\u001B[0m\u001B[1;32m      5\u001B[0m \u001B[0;34m\u001B[0m\u001B[0m\n\u001B[1;32m      6\u001B[0m \u001B[0mplt\u001B[0m\u001B[0;34m.\u001B[0m\u001B[0mimshow\u001B[0m\u001B[0;34m(\u001B[0m\u001B[0mmask\u001B[0m\u001B[0;34m[\u001B[0m\u001B[0;36m78\u001B[0m\u001B[0;34m]\u001B[0m\u001B[0;34m)\u001B[0m\u001B[0;34m\u001B[0m\u001B[0;34m\u001B[0m\u001B[0m\n",
      "\u001B[0;32m<__array_function__ internals>\u001B[0m in \u001B[0;36margmax\u001B[0;34m(*args, **kwargs)\u001B[0m\n",
      "\u001B[0;31mTypeError\u001B[0m: _argmax_dispatcher() missing 1 required positional argument: 'a'"
     ]
    }
   ],
   "source": [
    "%matplotlib notebook\n",
    "s = mask.sum(axis=(1, 2))\n",
    "print(s.max())\n",
    "np.argmax(s)\n",
    "\n",
    "plt.imshow(mask[78])"
   ]
  },
  {
   "cell_type": "code",
   "execution_count": null,
   "metadata": {
    "pycharm": {
     "name": "#%%\n"
    }
   },
   "outputs": [],
   "source": []
  }
 ],
 "metadata": {
  "kernelspec": {
   "display_name": "Python 3.6.9 ('mlmed')",
   "language": "python",
   "name": "python3"
  },
  "language_info": {
   "codemirror_mode": {
    "name": "ipython",
    "version": 3
   },
   "file_extension": ".py",
   "mimetype": "text/x-python",
   "name": "python",
   "nbconvert_exporter": "python",
   "pygments_lexer": "ipython3",
   "version": "3.6.9"
  },
  "vscode": {
   "interpreter": {
    "hash": "2f6205960b311e377f41cf8daf6c1745eda188400d19cb467b1330fee120c973"
   }
  }
 },
 "nbformat": 4,
 "nbformat_minor": 0
}