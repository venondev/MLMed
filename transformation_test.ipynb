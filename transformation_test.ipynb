{
 "cells": [
  {
   "cell_type": "code",
   "execution_count": 9,
   "metadata": {
    "pycharm": {
     "name": "#%%\n"
    }
   },
   "outputs": [],
   "source": [
    "import matplotlib.pyplot as plt\n",
    "import numpy as np\n",
    "import h5py\n",
    "from ipywidgets import widgets\n",
    "%matplotlib widget\n",
    "\n",
    "def mask_overlay(image, mask, color=(0., 1., 0.), weight=.8):\n",
    "    \"\"\"\n",
    "    Helper function to visualize mask on the top of the aneurysm\n",
    "    \"\"\"\n",
    "    mask = np.dstack((mask, mask, mask)) * np.array(color)\n",
    "    mask = mask.astype(np.uint8)\n",
    "    weighted_sum = image * weight + mask * (1 - weight) # cv2.addWeighted(image, 1 - weight, mask, weight, 0.,  dtype=cv2.CV_32F)\n",
    "    img = image.copy()\n",
    "    ind = mask[:, :, 1] > 0\n",
    "    img[ind] = weighted_sum[ind]\n",
    "    return img\n",
    "\n",
    "\n",
    "class ImageSlicer(object):\n",
    "\n",
    "    def __init__(self, ax, img, mask):\n",
    "        self.ax = ax\n",
    "\n",
    "        # convert to numpy array\n",
    "        self.image_np = img\n",
    "        self.mask_np = mask\n",
    "\n",
    "        # get number of slices\n",
    "        _, _, self.slices = self.image_np.shape\n",
    "        self.ind = self.slices // 2\n",
    "\n",
    "        # plot image with mask overlay\n",
    "        self.image_plt = self.ax.imshow(self.overlay)\n",
    "        self._draw()\n",
    "\n",
    "    @property\n",
    "    def overlay(self):\n",
    "        # get image and mask slice\n",
    "        image = self.image_np[:, :, self.ind]\n",
    "        image = image / np.max(image)\n",
    "        image = np.dstack((image, image, image))\n",
    "        mask = self.mask_np[:, :, self.ind]\n",
    "\n",
    "        # create masked overlay\n",
    "        return mask_overlay(image, mask)\n",
    "\n",
    "    def onscroll(self, event):\n",
    "\n",
    "        # get new slice number\n",
    "        self.ind = event['new']\n",
    "        with open(\"file.txt\", \"a\") as f:\n",
    "            f.write(f\"{self.ind}\\n\")\n",
    "        self.update()\n",
    "\n",
    "    def update(self):\n",
    "\n",
    "        # draw overlay\n",
    "        self.image_plt.set_data(self.overlay)\n",
    "        self._draw()\n",
    "\n",
    "    def _draw(self):\n",
    "        try:\n",
    "            self.image_plt.axes.figure.canvas.draw()\n",
    "        except Exception as e:\n",
    "            with open(\"file.txt\", \"a\") as f:\n",
    "                f.write(f\"Exception {e}\\n\")\n",
    "            pass\n",
    "\n",
    "\n",
    "def plot3d(img, mask):\n",
    "\n",
    "    #\n",
    "    figure, ax = plt.subplots(1, 1)\n",
    "    tracker = ImageSlicer(ax, img, mask)\n",
    "\n",
    "    #\n",
    "    int_slider = widgets.IntSlider(\n",
    "        value=tracker.ind,\n",
    "        min=0,\n",
    "        max=tracker.slices,\n",
    "        step=1,\n",
    "        description='Slice',\n",
    "        continuous_update=True\n",
    "    )\n",
    "    int_slider.observe(tracker.onscroll, 'value')\n",
    "\n",
    "    return figure, int_slider\n",
    "\n",
    "def load_case(i):\n",
    "    f = h5py.File(f\"{datapath}/{files[i]}\", \"r\")\n",
    "    return f[\"raw\"][:], f[\"label\"][:]"
   ]
  },
  {
   "cell_type": "code",
   "execution_count": 12,
   "metadata": {
    "pycharm": {
     "name": "#%%\n"
    }
   },
   "outputs": [
    {
     "name": "stdout",
     "output_type": "stream",
     "text": [
      "['A054_masks.h5', 'A009_masks.h5', 'A050_masks.h5', 'A108_masks.h5', 'A012_masks.h5', 'A018_masks.h5', 'A008_masks.h5', 'A098_masks.h5', 'A080_masks.h5', 'A013_masks.h5', 'A127_masks.h5', 'A084_masks.h5', 'A119_masks.h5', 'A115_masks.h5', 'A138_masks.h5', 'A121_masks.h5', 'A010_masks.h5', 'A082_masks.h5', 'A097_masks.h5', 'A057_masks.h5', 'A096_R_masks.h5', 'A078_R_masks.h5', 'A130_L_masks.h5', 'A024_masks.h5', 'A060_masks.h5', 'A071_masks.h5', 'A074_masks.h5', 'A003_masks.h5', 'A046_masks.h5', 'A134_masks.h5', 'A087_masks.h5', 'A093_masks.h5', 'A091_R_masks.h5', 'A129_masks.h5', 'A114_masks.h5', 'A067_masks.h5', 'A088_masks.h5', 'A137_masks.h5', 'A023_R_masks.h5', 'A001_masks.h5', 'A079_masks.h5', 'A100_masks.h5', 'A095_masks.h5', 'PA3_masks.h5', 'A059_L_masks.h5', 'A085_masks.h5', 'A064_masks.h5', 'A062_L_masks.h5', 'A051_R_masks.h5', 'A017_L_masks.h5', 'A096_L_masks.h5', 'A005_masks.h5', 'A006_masks.h5', 'A078_L_masks.h5', 'A049_masks.h5', 'A089_R_masks.h5', 'A126_masks.h5', 'A136_masks.h5', 'A072_masks.h5', 'A068_masks.h5', 'A019_masks.h5', 'A066_masks.h5', 'A094_R_masks.h5', 'A120_masks.h5', 'A130_R_masks.h5', 'A015_masks.h5', 'A070_masks.h5', 'A118_masks.h5', 'A081_masks.h5', 'PA5_masks.h5', 'A073_masks.h5', 'A105_R_masks.h5', 'A133_masks.h5', 'A059_R_masks.h5', 'A105_L_masks.h5', 'A135_masks.h5', 'A092_masks.h5', 'A103_masks.h5', 'A021_masks.h5', 'A083_masks.h5', 'A077_masks.h5', 'A056_masks.h5', 'A016_masks.h5', 'A076_masks.h5', 'A014_masks.h5', 'A124_masks.h5', 'A086_masks.h5', 'A112_masks.h5', 'A047_masks.h5', 'A113_masks.h5', 'A123_masks.h5']\n"
     ]
    }
   ],
   "source": [
    "import yaml\n",
    "import os\n",
    "from pytorch3dunet.augment.transforms import Transformer\n",
    "\n",
    "config_path = \"./train-configs/aug_tests/perlin.yml\"\n",
    "\n",
    "config = yaml.safe_load(open(config_path, 'r'))\n",
    "\n",
    "transform_config = config[\"loaders\"][\"train\"][\"transformer\"]\n",
    "datapath = config[\"loaders\"][\"train\"][\"file_paths\"][0]\n",
    "\n",
    "transformer = Transformer(transform_config, {})\n",
    "raw_transform = transformer.raw_transform()\n",
    "label_transform = transformer.label_transform()\n",
    "\n",
    "files = os.listdir(datapath)\n",
    "print(files)"
   ]
  },
  {
   "cell_type": "code",
   "execution_count": 13,
   "metadata": {
    "pycharm": {
     "name": "#%%\n"
    }
   },
   "outputs": [
    {
     "name": "stdout",
     "output_type": "stream",
     "text": [
      "(256, 256, 220)\n"
     ]
    },
    {
     "data": {
      "text/plain": "Canvas(toolbar=Toolbar(toolitems=[('Home', 'Reset original view', 'home', 'home'), ('Back', 'Back to previous …",
      "application/vnd.jupyter.widget-view+json": {
       "version_major": 2,
       "version_minor": 0,
       "model_id": "c0a0c883f8e0426c8075364a574e52b9"
      }
     },
     "metadata": {},
     "output_type": "display_data"
    },
    {
     "name": "stderr",
     "output_type": "stream",
     "text": [
      "Clipping input data to the valid range for imshow with RGB data ([0..1] for floats or [0..255] for integers).\n"
     ]
    },
    {
     "data": {
      "text/plain": "IntSlider(value=110, description='Slice', max=220)",
      "application/vnd.jupyter.widget-view+json": {
       "version_major": 2,
       "version_minor": 0,
       "model_id": "857ede93975f4e4f95f6aed71abf3700"
      }
     },
     "metadata": {},
     "output_type": "display_data"
    }
   ],
   "source": [
    "i = 0\n",
    "\n",
    "img, mask = load_case(i)\n",
    "img /= img.max()\n",
    "\n",
    "img_t = raw_transform(img)\n",
    "mask_t = label_transform(mask)\n",
    "\n",
    "fig, slider = plot3d(img_t, mask_t)\n",
    "slider"
   ]
  },
  {
   "cell_type": "code",
   "execution_count": null,
   "metadata": {
    "pycharm": {
     "name": "#%%\n"
    }
   },
   "outputs": [],
   "source": []
  }
 ],
 "metadata": {
  "kernelspec": {
   "display_name": "Python 3 (ipykernel)",
   "language": "python",
   "name": "python3"
  },
  "language_info": {
   "codemirror_mode": {
    "name": "ipython",
    "version": 3
   },
   "file_extension": ".py",
   "mimetype": "text/x-python",
   "name": "python",
   "nbconvert_exporter": "python",
   "pygments_lexer": "ipython3",
   "version": "3.6.9"
  }
 },
 "nbformat": 4,
 "nbformat_minor": 1
}