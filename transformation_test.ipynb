{
 "cells": [
  {
   "cell_type": "code",
   "execution_count": 1,
   "metadata": {
    "pycharm": {
     "name": "#%%\n"
    }
   },
   "outputs": [],
   "source": [
    "import matplotlib.pyplot as plt\n",
    "import numpy as np\n",
    "import h5py\n",
    "from ipywidgets import widgets\n",
    "%matplotlib widget\n",
    "\n",
    "def mask_overlay(image, mask, color=(0., 1., 0.), weight=.8):\n",
    "    \"\"\"\n",
    "    Helper function to visualize mask on the top of the aneurysm\n",
    "    \"\"\"\n",
    "    mask = np.dstack((mask, mask, mask)) * np.array(color)\n",
    "    mask = mask.astype(np.uint8)\n",
    "    weighted_sum = image * weight + mask * (1 - weight) # cv2.addWeighted(image, 1 - weight, mask, weight, 0.,  dtype=cv2.CV_32F)\n",
    "    img = image.copy()\n",
    "    ind = mask[:, :, 1] > 0\n",
    "    img[ind] = weighted_sum[ind]\n",
    "    return img\n",
    "\n",
    "\n",
    "class ImageSlicer(object):\n",
    "\n",
    "    def __init__(self, ax, img, mask):\n",
    "        self.ax = ax\n",
    "\n",
    "        # convert to numpy array\n",
    "        self.image_np = img\n",
    "        self.mask_np = mask\n",
    "\n",
    "        # get number of slices\n",
    "        _, _, self.slices = self.image_np.shape\n",
    "        self.ind = self.slices // 2\n",
    "\n",
    "        # plot image with mask overlay\n",
    "        self.image_plt = self.ax.imshow(self.overlay)\n",
    "        self._draw()\n",
    "\n",
    "    @property\n",
    "    def overlay(self):\n",
    "        # get image and mask slice\n",
    "        image = self.image_np[:, :, self.ind]\n",
    "        image = image / np.max(image)\n",
    "        image = np.dstack((image, image, image))\n",
    "        mask = self.mask_np[:, :, self.ind]\n",
    "\n",
    "        # create masked overlay\n",
    "        return mask_overlay(image, mask)\n",
    "\n",
    "    def onscroll(self, event):\n",
    "\n",
    "        # get new slice number\n",
    "        self.ind = event['new']\n",
    "        with open(\"file.txt\", \"a\") as f:\n",
    "            f.write(f\"{self.ind}\\n\")\n",
    "        self.update()\n",
    "\n",
    "    def update(self):\n",
    "\n",
    "        # draw overlay\n",
    "        self.image_plt.set_data(self.overlay)\n",
    "        self._draw()\n",
    "\n",
    "    def _draw(self):\n",
    "        try:\n",
    "            self.image_plt.axes.figure.canvas.draw()\n",
    "        except Exception as e:\n",
    "            with open(\"file.txt\", \"a\") as f:\n",
    "                f.write(f\"Exception {e}\\n\")\n",
    "            pass\n",
    "\n",
    "\n",
    "def plot3d(img, mask):\n",
    "\n",
    "    #\n",
    "    figure, ax = plt.subplots(1, 1)\n",
    "    tracker = ImageSlicer(ax, img, mask)\n",
    "\n",
    "    #\n",
    "    int_slider = widgets.IntSlider(\n",
    "        value=tracker.ind,\n",
    "        min=0,\n",
    "        max=tracker.slices,\n",
    "        step=1,\n",
    "        description='Slice',\n",
    "        continuous_update=True\n",
    "    )\n",
    "    int_slider.observe(tracker.onscroll, 'value')\n",
    "\n",
    "    return figure, int_slider\n",
    "\n",
    "def load_case(i):\n",
    "    f = h5py.File(f\"{datapath}/{files[i]}\", \"r\")\n",
    "    return f[\"raw\"][:], f[\"label\"][:]"
   ]
  },
  {
   "cell_type": "code",
   "execution_count": 3,
   "metadata": {
    "pycharm": {
     "name": "#%%\n"
    }
   },
   "outputs": [
    {
     "name": "stdout",
     "output_type": "stream",
     "text": [
      "['A038_R.h5', 'A051_R.h5']\n"
     ]
    }
   ],
   "source": [
    "import yaml\n",
    "import os\n",
    "from pytorch3dunet.augment.transforms import Transformer\n",
    "\n",
    "config_path = \"./train-configs/aug_tests/perlin.yml\"\n",
    "\n",
    "config = yaml.safe_load(open(config_path, 'r'))\n",
    "\n",
    "transform_config = config[\"loaders\"][\"train\"][\"transformer\"]\n",
    "datapath = config[\"loaders\"][\"train\"][\"file_paths\"][0]\n",
    "\n",
    "transformer = Transformer(transform_config, {})\n",
    "raw_transform = transformer.raw_transform()\n",
    "label_transform = transformer.label_transform()\n",
    "\n",
    "files = os.listdir(datapath)\n",
    "print(files)"
   ]
  },
  {
   "cell_type": "code",
   "execution_count": 16,
   "metadata": {},
   "outputs": [],
   "source": [
    "import scipy"
   ]
  },
  {
   "cell_type": "code",
   "execution_count": 15,
   "metadata": {
    "pycharm": {
     "name": "#%%\n"
    }
   },
   "outputs": [
    {
     "name": "stdout",
     "output_type": "stream",
     "text": [
      "(3, 3, 3)\n",
      "(220, 256, 256)\n"
     ]
    },
    {
     "ename": "ValueError",
     "evalue": "object too deep for desired array",
     "output_type": "error",
     "traceback": [
      "\u001b[0;31m---------------------------------------------------------------------------\u001b[0m",
      "\u001b[0;31mValueError\u001b[0m                                Traceback (most recent call last)",
      "\u001b[1;32m/home/philipp/uni/Med/MLMed/transformation_test.ipynb Cell 4'\u001b[0m in \u001b[0;36m<cell line: 22>\u001b[0;34m()\u001b[0m\n\u001b[1;32m     <a href='vscode-notebook-cell:/home/philipp/uni/Med/MLMed/transformation_test.ipynb#ch0000002?line=18'>19</a>\u001b[0m img, mask \u001b[39m=\u001b[39m load_case(i)\n\u001b[1;32m     <a href='vscode-notebook-cell:/home/philipp/uni/Med/MLMed/transformation_test.ipynb#ch0000002?line=19'>20</a>\u001b[0m img \u001b[39m/\u001b[39m\u001b[39m=\u001b[39m img\u001b[39m.\u001b[39mmax()\n\u001b[0;32m---> <a href='vscode-notebook-cell:/home/philipp/uni/Med/MLMed/transformation_test.ipynb#ch0000002?line=21'>22</a>\u001b[0m img_t \u001b[39m=\u001b[39m augment(img)\n\u001b[1;32m     <a href='vscode-notebook-cell:/home/philipp/uni/Med/MLMed/transformation_test.ipynb#ch0000002?line=22'>23</a>\u001b[0m mask_t \u001b[39m=\u001b[39m label_transform(mask)\n\u001b[1;32m     <a href='vscode-notebook-cell:/home/philipp/uni/Med/MLMed/transformation_test.ipynb#ch0000002?line=24'>25</a>\u001b[0m fig, slider \u001b[39m=\u001b[39m plot3d(img_t, mask_t)\n",
      "\u001b[1;32m/home/philipp/uni/Med/MLMed/transformation_test.ipynb Cell 4'\u001b[0m in \u001b[0;36maugment\u001b[0;34m(m)\u001b[0m\n\u001b[1;32m     <a href='vscode-notebook-cell:/home/philipp/uni/Med/MLMed/transformation_test.ipynb#ch0000002?line=10'>11</a>\u001b[0m \u001b[39mprint\u001b[39m(kernel\u001b[39m.\u001b[39mshape)\n\u001b[1;32m     <a href='vscode-notebook-cell:/home/philipp/uni/Med/MLMed/transformation_test.ipynb#ch0000002?line=11'>12</a>\u001b[0m \u001b[39mprint\u001b[39m(m\u001b[39m.\u001b[39mshape)\n\u001b[0;32m---> <a href='vscode-notebook-cell:/home/philipp/uni/Med/MLMed/transformation_test.ipynb#ch0000002?line=12'>13</a>\u001b[0m np\u001b[39m.\u001b[39;49mconvolve(m, kernel, mode\u001b[39m=\u001b[39;49m\u001b[39m'\u001b[39;49m\u001b[39mfull\u001b[39;49m\u001b[39m'\u001b[39;49m)\n\u001b[1;32m     <a href='vscode-notebook-cell:/home/philipp/uni/Med/MLMed/transformation_test.ipynb#ch0000002?line=13'>14</a>\u001b[0m \u001b[39mreturn\u001b[39;00m m\n",
      "File \u001b[0;32m<__array_function__ internals>:180\u001b[0m, in \u001b[0;36mconvolve\u001b[0;34m(*args, **kwargs)\u001b[0m\n",
      "File \u001b[0;32m~/.local/lib/python3.8/site-packages/numpy/core/numeric.py:844\u001b[0m, in \u001b[0;36mconvolve\u001b[0;34m(a, v, mode)\u001b[0m\n\u001b[1;32m    <a href='file:///home/philipp/.local/lib/python3.8/site-packages/numpy/core/numeric.py?line=841'>842</a>\u001b[0m \u001b[39mif\u001b[39;00m \u001b[39mlen\u001b[39m(v) \u001b[39m==\u001b[39m \u001b[39m0\u001b[39m:\n\u001b[1;32m    <a href='file:///home/philipp/.local/lib/python3.8/site-packages/numpy/core/numeric.py?line=842'>843</a>\u001b[0m     \u001b[39mraise\u001b[39;00m \u001b[39mValueError\u001b[39;00m(\u001b[39m'\u001b[39m\u001b[39mv cannot be empty\u001b[39m\u001b[39m'\u001b[39m)\n\u001b[0;32m--> <a href='file:///home/philipp/.local/lib/python3.8/site-packages/numpy/core/numeric.py?line=843'>844</a>\u001b[0m \u001b[39mreturn\u001b[39;00m multiarray\u001b[39m.\u001b[39;49mcorrelate(a, v[::\u001b[39m-\u001b[39;49m\u001b[39m1\u001b[39;49m], mode)\n",
      "\u001b[0;31mValueError\u001b[0m: object too deep for desired array"
     ]
    }
   ],
   "source": [
    "def augment( m):\n",
    "        m[m<0.4]=0\n",
    "        kernel = np.asarray([[[0.125,0.25,125],\n",
    "                    [0.25,0.5,0.25],\n",
    "                    [0.125,0.25,0.125]],[[0.25,0.5,0.25],\n",
    "                    [0.5,1,0.5],\n",
    "                    [0.25,0.5,0.25]],\n",
    "                    [[0.125,0.25,125],\n",
    "                    [0.25,0.5,0.25],\n",
    "                    [0.125,0.25,0.125]]])\n",
    "        print(kernel.shape)\n",
    "        print(m.shape)\n",
    "        scipy.ndimage.convolve(m,kernel)\n",
    "        return m\n",
    "%reload_ext autoreload\n",
    "%autoreload 2\n",
    "i = 0\n",
    "\n",
    "img, mask = load_case(i)\n",
    "img /= img.max()\n",
    "\n",
    "img_t = augment(img)\n",
    "mask_t = label_transform(mask)\n",
    "\n",
    "fig, slider = plot3d(img_t, mask_t)\n",
    "slider"
   ]
  },
  {
   "cell_type": "code",
   "execution_count": null,
   "metadata": {
    "pycharm": {
     "name": "#%%\n"
    }
   },
   "outputs": [],
   "source": []
  }
 ],
 "metadata": {
  "interpreter": {
   "hash": "916dbcbb3f70747c44a77c7bcd40155683ae19c65e1c03b4aa3499c5328201f1"
  },
  "kernelspec": {
   "display_name": "Python 3.8.10 64-bit",
   "language": "python",
   "name": "python3"
  },
  "language_info": {
   "codemirror_mode": {
    "name": "ipython",
    "version": 3
   },
   "file_extension": ".py",
   "mimetype": "text/x-python",
   "name": "python",
   "nbconvert_exporter": "python",
   "pygments_lexer": "ipython3",
   "version": "3.8.10"
  }
 },
 "nbformat": 4,
 "nbformat_minor": 1
}
