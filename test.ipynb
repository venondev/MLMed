{
 "cells": [
  {
   "cell_type": "code",
   "execution_count": 37,
   "metadata": {},
   "outputs": [],
   "source": [
    "import yaml\n",
    "import os\n",
    "from pytorch3dunet.augment.transforms import Transformer\n",
    "import matplotlib.pyplot as plt\n",
    "import numpy as np\n",
    "import h5py\n",
    "from ipywidgets import widgets\n",
    "import matplotlib.pyplot as plt\n",
    "from scipy import ndimage\n",
    "%matplotlib inline"
   ]
  },
  {
   "cell_type": "code",
   "execution_count": 166,
   "metadata": {},
   "outputs": [],
   "source": [
    "def load_case(i):\n",
    "    f = h5py.File(f\"{datapath}/{files[i]}\", \"r\")\n",
    "    return f[\"raw\"][:], f[\"label\"][:], f[\"labelMask\"][:]\n"
   ]
  },
  {
   "cell_type": "code",
   "execution_count": 168,
   "metadata": {},
   "outputs": [
    {
     "name": "stdout",
     "output_type": "stream",
     "text": [
      "['A038_R.h5', 'A051_R.h5']\n"
     ]
    }
   ],
   "source": [
    "datapath = \"data/train\"\n",
    "\n",
    "files = os.listdir(datapath)\n",
    "print(files)"
   ]
  },
  {
   "cell_type": "code",
   "execution_count": 247,
   "metadata": {},
   "outputs": [],
   "source": [
    "i = 0\n",
    "img, mask, labelMask = load_case(i)"
   ]
  },
  {
   "cell_type": "code",
   "execution_count": 248,
   "metadata": {},
   "outputs": [
    {
     "name": "stdout",
     "output_type": "stream",
     "text": [
      "image shape: (220, 256, 256)\n",
      "labelMask shape: (220, 256, 256)\n"
     ]
    }
   ],
   "source": [
    "print(\"image shape:\",img.shape)\n",
    "print(\"labelMask shape:\",labelMask.shape)"
   ]
  },
  {
   "cell_type": "code",
   "execution_count": 26,
   "metadata": {},
   "outputs": [
    {
     "name": "stdout",
     "output_type": "stream",
     "text": [
      "0\n",
      "1\n",
      "2\n",
      "3\n",
      "4\n",
      "5\n",
      "6\n",
      "7\n",
      "8\n",
      "9\n",
      "10\n",
      "11\n",
      "12\n",
      "13\n",
      "14\n",
      "15\n",
      "16\n",
      "17\n",
      "18\n",
      "19\n",
      "20\n",
      "21\n",
      "22\n",
      "23\n",
      "24\n",
      "25\n",
      "26\n",
      "27\n",
      "28\n",
      "29\n",
      "30\n",
      "31\n",
      "32\n",
      "33\n",
      "34\n",
      "35\n",
      "36\n",
      "37\n",
      "38\n",
      "39\n",
      "40\n",
      "41\n",
      "42\n",
      "43\n",
      "44\n",
      "45\n",
      "46\n",
      "47\n",
      "48\n",
      "49\n",
      "50\n",
      "51\n",
      "52\n",
      "53\n",
      "54\n",
      "55\n",
      "56\n",
      "57\n",
      "58\n",
      "59\n",
      "60\n",
      "61\n",
      "62\n",
      "63\n",
      "64\n",
      "65\n",
      "66\n",
      "67\n",
      "68\n",
      "69\n",
      "70\n",
      "71\n",
      "72\n",
      "73\n",
      "74\n",
      "75\n",
      "76\n",
      "77\n",
      "78\n",
      "79\n",
      "80\n",
      "81\n",
      "82\n",
      "83\n",
      "84\n",
      "85\n",
      "86\n",
      "87\n",
      "88\n",
      "89\n",
      "90\n",
      "91\n",
      "92\n",
      "93\n",
      "94\n",
      "95\n",
      "96\n",
      "97\n",
      "98\n",
      "99\n",
      "100\n",
      "101\n",
      "102\n",
      "103\n",
      "104\n",
      "105\n",
      "106\n",
      "107\n",
      "108\n",
      "109\n",
      "110\n",
      "111\n",
      "112\n",
      "113\n",
      "114\n",
      "115\n",
      "116\n",
      "117\n",
      "118\n",
      "119\n",
      "120\n",
      "121\n",
      "122\n",
      "123\n",
      "124\n",
      "125\n",
      "126\n",
      "127\n"
     ]
    }
   ],
   "source": [
    "# generate default heatmap\n",
    "a_size=64*2\n",
    "center= np.array([a_size/2,a_size/2,a_size/2])\n",
    "res=np.zeros((a_size,a_size,a_size))\n",
    "for x in range(a_size):\n",
    "    print(x)\n",
    "    for y in range(a_size):\n",
    "        for z in range(a_size):\n",
    "            a = np.array([x,y,z])         \n",
    "            res[x,y,z] = np.linalg.norm(center-a)+1\n",
    "res=1/res\n"
   ]
  },
  {
   "cell_type": "code",
   "execution_count": 27,
   "metadata": {},
   "outputs": [],
   "source": [
    "with open('test.npy', 'wb') as f:\n",
    "    np.save(f,res)\n",
    "with open('test.npy', 'rb') as f:\n",
    "    a = np.load(f)"
   ]
  },
  {
   "cell_type": "code",
   "execution_count": 265,
   "metadata": {},
   "outputs": [
    {
     "name": "stdout",
     "output_type": "stream",
     "text": [
      "Memory size of numpy array in gigabytes: 1.073741824\n"
     ]
    }
   ],
   "source": [
    "print(\"Memory size of numpy array in gigabytes:\",\n",
    "      a.size * a.itemsize*1e-9)"
   ]
  },
  {
   "cell_type": "code",
   "execution_count": 259,
   "metadata": {},
   "outputs": [
    {
     "data": {
      "text/plain": [
       "(128, 128, 128)"
      ]
     },
     "execution_count": 259,
     "metadata": {},
     "output_type": "execute_result"
    }
   ],
   "source": [
    "a.shape"
   ]
  },
  {
   "cell_type": "code",
   "execution_count": 244,
   "metadata": {},
   "outputs": [
    {
     "name": "stdout",
     "output_type": "stream",
     "text": [
      "(102.53061224489795, 111.93877551020408)\n"
     ]
    },
    {
     "data": {
      "image/png": "[encoded data removed]",
      "text/plain": [
       "<Figure size 432x288 with 1 Axes>"
      ]
     },
     "metadata": {
      "needs_background": "light"
     },
     "output_type": "display_data"
    }
   ],
   "source": [
    "input_mask=labelMask.copy()[:,105]\n",
    "input_mask[np.logical_and(input_mask!=1,input_mask!=0)]=0\n",
    "n=ndimage.center_of_mass(input_mask)\n",
    "plt.imshow(labelMask[:,105])\n",
    "print(n)\n",
    "plt.scatter(n[1],n[0],color='r',s=1)\n",
    "plt.show()\n"
   ]
  },
  {
   "cell_type": "code",
   "execution_count": 256,
   "metadata": {},
   "outputs": [
    {
     "name": "stdout",
     "output_type": "stream",
     "text": [
      "center_of_mass: [102 101 113]\n",
      "[slice(38, 166, None), slice(37, 165, None), slice(49, 177, None)]\n",
      "[slice(0, 128, None), slice(0, 128, None), slice(0, 128, None)]\n",
      "center_of_mass: [115 107 103]\n",
      "[slice(51, 179, None), slice(43, 171, None), slice(39, 167, None)]\n",
      "[slice(0, 128, None), slice(0, 128, None), slice(0, 128, None)]\n",
      "center_of_mass: [121 117 107]\n",
      "[slice(57, 185, None), slice(53, 181, None), slice(43, 171, None)]\n",
      "[slice(0, 128, None), slice(0, 128, None), slice(0, 128, None)]\n"
     ]
    }
   ],
   "source": [
    "end=np.zeros_like(input_mask)\n",
    "for label in range(int(np.max(labelMask))):\n",
    "    input_mask=labelMask.copy()\n",
    "    input_mask[input_mask!=label+1]=0\n",
    "    center_of_mass=np.asarray(np.round(ndimage.center_of_mass(input_mask)),dtype=\"int\")\n",
    "    print(\"center_of_mass:\",center_of_mass)\n",
    "    \n",
    "    hs=int(a_size/2)\n",
    "    slices=[]\n",
    "    res_slices=[]\n",
    "    for i in range(3):\n",
    "        start=0\n",
    "        stop = res.shape[i]\n",
    "        if center_of_mass[i]-hs<0:\n",
    "            start=hs-center_of_mass[i]\n",
    "        if center_of_mass[i]+hs>end.shape[i]:\n",
    "            stop=res.shape[i]-(center_of_mass[i]+hs-end.shape[i])\n",
    "        slices.append( slice(max(0,center_of_mass[i]-hs),min(center_of_mass[i]+hs,end.shape[i])))\n",
    "        res_slices.append(slice(start,stop))\n",
    "    print(slices)\n",
    "    print(res_slices)\n",
    "    end[slices[0],slices[1],slices[2]]+=res[res_slices[0],res_slices[1],res_slices[2]]"
   ]
  },
  {
   "cell_type": "code",
   "execution_count": 255,
   "metadata": {},
   "outputs": [
    {
     "data": {
      "image/png": "[encoded data removed]",
      "text/plain": [
       "<Figure size 432x288 with 1 Axes>"
      ]
     },
     "metadata": {
      "needs_background": "light"
     },
     "output_type": "display_data"
    },
    {
     "data": {
      "image/png": "[encoded data removed]",
      "text/plain": [
       "<Figure size 432x288 with 1 Axes>"
      ]
     },
     "metadata": {
      "needs_background": "light"
     },
     "output_type": "display_data"
    }
   ],
   "source": [
    "plt.imshow(labelMask[:,105])\n",
    "plt.show()\n",
    "plt.imshow(end[:,105])\n",
    "plt.show()\n"
   ]
  },
  {
   "cell_type": "code",
   "execution_count": 95,
   "metadata": {},
   "outputs": [
    {
     "name": "stdout",
     "output_type": "stream",
     "text": [
      "[ 91 126  71]\n",
      "[ 66 101  46]\n"
     ]
    }
   ],
   "source": [
    "end[75:125,105]"
   ]
  },
  {
   "cell_type": "code",
   "execution_count": 122,
   "metadata": {},
   "outputs": [],
   "source": [
    "\n",
    "\n",
    "\n"
   ]
  },
  {
   "cell_type": "code",
   "execution_count": 292,
   "metadata": {},
   "outputs": [],
   "source": [
    "a = np.array([[[2,7], [3,6], [4,3]], [[1,9], [5,7], [2,1]]])"
   ]
  },
  {
   "cell_type": "code",
   "execution_count": 296,
   "metadata": {},
   "outputs": [
    {
     "name": "stdout",
     "output_type": "stream",
     "text": [
      "[[2 7 3 6 4 3]\n",
      " [1 9 5 7 2 1]]\n",
      "[2 7 3 6 4 3] t\n",
      "[1 9 5 7 2 1] t\n",
      "[5 5]\n"
     ]
    }
   ],
   "source": [
    "def foo(row):\n",
    "    print(row,\"t\")\n",
    "    u = np.unique(row)\n",
    "    return len(u)\n",
    "b = np.apply_along_axis(foo, 1, a.reshape((a.shape[0],-1)))\n",
    "print(b)"
   ]
  },
  {
   "cell_type": "code",
   "execution_count": 6,
   "metadata": {},
   "outputs": [],
   "source": [
    "from pytorch3dunet.unet3d.metrics import Acc\n",
    "import torch\n",
    "import numpy as np"
   ]
  },
  {
   "cell_type": "code",
   "execution_count": 3,
   "metadata": {},
   "outputs": [],
   "source": [
    "%load_ext autoreload\n",
    "%autoreload 2"
   ]
  },
  {
   "cell_type": "code",
   "execution_count": 21,
   "metadata": {},
   "outputs": [
    {
     "data": {
      "text/plain": [
       "({'miss_classification': 1.0}, 0.5)"
      ]
     },
     "execution_count": 21,
     "metadata": {},
     "output_type": "execute_result"
    }
   ],
   "source": [
    "a=Acc()\n",
    "\n",
    "target=np.array([[0,0,0,0,1,1,2,2],[0,0,0,0,1,1,2,2]])\n",
    "prediction=np.array([[0,0,0,0,0,0,0,0],[0,0,0,0,0,1,1,0]])\n",
    "a(torch.tensor(prediction),torch.tensor(target))"
   ]
  },
  {
   "cell_type": "code",
   "execution_count": 361,
   "metadata": {},
   "outputs": [
    {
     "ename": "IndexError",
     "evalue": "invalid index to scalar variable.",
     "output_type": "error",
     "traceback": [
      "\u001b[0;31m---------------------------------------------------------------------------\u001b[0m",
      "\u001b[0;31mIndexError\u001b[0m                                Traceback (most recent call last)",
      "\u001b[1;32m/home/philipp/uni/Med/MLMed/test.ipynb Cell 20'\u001b[0m in \u001b[0;36m<cell line: 1>\u001b[0;34m()\u001b[0m\n\u001b[0;32m----> <a href='vscode-notebook-cell:/home/philipp/uni/Med/MLMed/test.ipynb#ch0000029?line=0'>1</a>\u001b[0m a(torch\u001b[39m.\u001b[39;49mtensor(prediction),torch\u001b[39m.\u001b[39;49mtensor(target))[\u001b[39m0\u001b[39;49m][\u001b[39m0\u001b[39m]\u001b[39m.\u001b[39mitem()\n",
      "\u001b[0;31mIndexError\u001b[0m: invalid index to scalar variable."
     ]
    }
   ],
   "source": [
    "a(torch.tensor(prediction),torch.tensor(target))[0][0].item()"
   ]
  },
  {
   "cell_type": "code",
   "execution_count": 25,
   "metadata": {},
   "outputs": [],
   "source": [
    "if torch.isnan(torch.tensor(float(1))):\n",
    "    print(\"HALLO\")"
   ]
  }
 ],
 "metadata": {
  "interpreter": {
   "hash": "916dbcbb3f70747c44a77c7bcd40155683ae19c65e1c03b4aa3499c5328201f1"
  },
  "kernelspec": {
   "display_name": "Python 3.8.10 64-bit",
   "language": "python",
   "name": "python3"
  },
  "language_info": {
   "codemirror_mode": {
    "name": "ipython",
    "version": 3
   },
   "file_extension": ".py",
   "mimetype": "text/x-python",
   "name": "python",
   "nbconvert_exporter": "python",
   "pygments_lexer": "ipython3",
   "version": "3.8.10"
  },
  "orig_nbformat": 4
 },
 "nbformat": 4,
 "nbformat_minor": 2
}
